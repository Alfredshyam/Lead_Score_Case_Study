{
 "cells": [
  {
   "cell_type": "markdown",
   "id": "175aaf57",
   "metadata": {},
   "source": [
    "# Statement of the Problem\n",
    "\n",
    "The X education gets a lot of leads, but its lead conversion rate is very poor. Now, the company is looking for the more efficient process that it can improve the conversion rate. The company want identify the 'Hot Leads' that assures company will have prominent customers who can associate with the business."
   ]
  },
  {
   "cell_type": "code",
   "execution_count": 1,
   "id": "2e5e95db",
   "metadata": {},
   "outputs": [],
   "source": [
    "## Necessary Library for the analysis\n",
    "import pandas as pd\n",
    "import numpy as np\n",
    "import matplotlib.pyplot as plt\n",
    "import seaborn as sns\n",
    "import warnings\n",
    "warnings.filterwarnings(action=\"ignore\")\n",
    "from sklearn.model_selection import train_test_split\n",
    "from sklearn.preprocessing import MinMaxScaler\n",
    "from sklearn.feature_selection import RFE \n",
    "from sklearn.linear_model import LogisticRegression\n",
    "import statsmodels.api as sm\n",
    "from statsmodels.stats.outliers_influence import variance_inflation_factor\n",
    "from sklearn import metrics\n",
    "from sklearn.metrics import precision_score, recall_score\n",
    "from sklearn.metrics import precision_recall_curve"
   ]
  },
  {
   "cell_type": "code",
   "execution_count": 2,
   "id": "9c3b1f04",
   "metadata": {},
   "outputs": [
    {
     "data": {
      "text/html": [
       "<div>\n",
       "<style scoped>\n",
       "    .dataframe tbody tr th:only-of-type {\n",
       "        vertical-align: middle;\n",
       "    }\n",
       "\n",
       "    .dataframe tbody tr th {\n",
       "        vertical-align: top;\n",
       "    }\n",
       "\n",
       "    .dataframe thead th {\n",
       "        text-align: right;\n",
       "    }\n",
       "</style>\n",
       "<table border=\"1\" class=\"dataframe\">\n",
       "  <thead>\n",
       "    <tr style=\"text-align: right;\">\n",
       "      <th></th>\n",
       "      <th>Prospect ID</th>\n",
       "      <th>Lead Number</th>\n",
       "      <th>Lead Origin</th>\n",
       "      <th>Lead Source</th>\n",
       "      <th>Do Not Email</th>\n",
       "      <th>Do Not Call</th>\n",
       "      <th>Converted</th>\n",
       "      <th>TotalVisits</th>\n",
       "      <th>Total Time Spent on Website</th>\n",
       "      <th>Page Views Per Visit</th>\n",
       "      <th>...</th>\n",
       "      <th>Get updates on DM Content</th>\n",
       "      <th>Lead Profile</th>\n",
       "      <th>City</th>\n",
       "      <th>Asymmetrique Activity Index</th>\n",
       "      <th>Asymmetrique Profile Index</th>\n",
       "      <th>Asymmetrique Activity Score</th>\n",
       "      <th>Asymmetrique Profile Score</th>\n",
       "      <th>I agree to pay the amount through cheque</th>\n",
       "      <th>A free copy of Mastering The Interview</th>\n",
       "      <th>Last Notable Activity</th>\n",
       "    </tr>\n",
       "  </thead>\n",
       "  <tbody>\n",
       "    <tr>\n",
       "      <th>0</th>\n",
       "      <td>7927b2df-8bba-4d29-b9a2-b6e0beafe620</td>\n",
       "      <td>660737</td>\n",
       "      <td>API</td>\n",
       "      <td>Olark Chat</td>\n",
       "      <td>No</td>\n",
       "      <td>No</td>\n",
       "      <td>0</td>\n",
       "      <td>0.0</td>\n",
       "      <td>0</td>\n",
       "      <td>0.0</td>\n",
       "      <td>...</td>\n",
       "      <td>No</td>\n",
       "      <td>Select</td>\n",
       "      <td>Select</td>\n",
       "      <td>02.Medium</td>\n",
       "      <td>02.Medium</td>\n",
       "      <td>15.0</td>\n",
       "      <td>15.0</td>\n",
       "      <td>No</td>\n",
       "      <td>No</td>\n",
       "      <td>Modified</td>\n",
       "    </tr>\n",
       "    <tr>\n",
       "      <th>1</th>\n",
       "      <td>2a272436-5132-4136-86fa-dcc88c88f482</td>\n",
       "      <td>660728</td>\n",
       "      <td>API</td>\n",
       "      <td>Organic Search</td>\n",
       "      <td>No</td>\n",
       "      <td>No</td>\n",
       "      <td>0</td>\n",
       "      <td>5.0</td>\n",
       "      <td>674</td>\n",
       "      <td>2.5</td>\n",
       "      <td>...</td>\n",
       "      <td>No</td>\n",
       "      <td>Select</td>\n",
       "      <td>Select</td>\n",
       "      <td>02.Medium</td>\n",
       "      <td>02.Medium</td>\n",
       "      <td>15.0</td>\n",
       "      <td>15.0</td>\n",
       "      <td>No</td>\n",
       "      <td>No</td>\n",
       "      <td>Email Opened</td>\n",
       "    </tr>\n",
       "    <tr>\n",
       "      <th>2</th>\n",
       "      <td>8cc8c611-a219-4f35-ad23-fdfd2656bd8a</td>\n",
       "      <td>660727</td>\n",
       "      <td>Landing Page Submission</td>\n",
       "      <td>Direct Traffic</td>\n",
       "      <td>No</td>\n",
       "      <td>No</td>\n",
       "      <td>1</td>\n",
       "      <td>2.0</td>\n",
       "      <td>1532</td>\n",
       "      <td>2.0</td>\n",
       "      <td>...</td>\n",
       "      <td>No</td>\n",
       "      <td>Potential Lead</td>\n",
       "      <td>Mumbai</td>\n",
       "      <td>02.Medium</td>\n",
       "      <td>01.High</td>\n",
       "      <td>14.0</td>\n",
       "      <td>20.0</td>\n",
       "      <td>No</td>\n",
       "      <td>Yes</td>\n",
       "      <td>Email Opened</td>\n",
       "    </tr>\n",
       "    <tr>\n",
       "      <th>3</th>\n",
       "      <td>0cc2df48-7cf4-4e39-9de9-19797f9b38cc</td>\n",
       "      <td>660719</td>\n",
       "      <td>Landing Page Submission</td>\n",
       "      <td>Direct Traffic</td>\n",
       "      <td>No</td>\n",
       "      <td>No</td>\n",
       "      <td>0</td>\n",
       "      <td>1.0</td>\n",
       "      <td>305</td>\n",
       "      <td>1.0</td>\n",
       "      <td>...</td>\n",
       "      <td>No</td>\n",
       "      <td>Select</td>\n",
       "      <td>Mumbai</td>\n",
       "      <td>02.Medium</td>\n",
       "      <td>01.High</td>\n",
       "      <td>13.0</td>\n",
       "      <td>17.0</td>\n",
       "      <td>No</td>\n",
       "      <td>No</td>\n",
       "      <td>Modified</td>\n",
       "    </tr>\n",
       "    <tr>\n",
       "      <th>4</th>\n",
       "      <td>3256f628-e534-4826-9d63-4a8b88782852</td>\n",
       "      <td>660681</td>\n",
       "      <td>Landing Page Submission</td>\n",
       "      <td>Google</td>\n",
       "      <td>No</td>\n",
       "      <td>No</td>\n",
       "      <td>1</td>\n",
       "      <td>2.0</td>\n",
       "      <td>1428</td>\n",
       "      <td>1.0</td>\n",
       "      <td>...</td>\n",
       "      <td>No</td>\n",
       "      <td>Select</td>\n",
       "      <td>Mumbai</td>\n",
       "      <td>02.Medium</td>\n",
       "      <td>01.High</td>\n",
       "      <td>15.0</td>\n",
       "      <td>18.0</td>\n",
       "      <td>No</td>\n",
       "      <td>No</td>\n",
       "      <td>Modified</td>\n",
       "    </tr>\n",
       "  </tbody>\n",
       "</table>\n",
       "<p>5 rows × 37 columns</p>\n",
       "</div>"
      ],
      "text/plain": [
       "                            Prospect ID  Lead Number              Lead Origin  \\\n",
       "0  7927b2df-8bba-4d29-b9a2-b6e0beafe620       660737                      API   \n",
       "1  2a272436-5132-4136-86fa-dcc88c88f482       660728                      API   \n",
       "2  8cc8c611-a219-4f35-ad23-fdfd2656bd8a       660727  Landing Page Submission   \n",
       "3  0cc2df48-7cf4-4e39-9de9-19797f9b38cc       660719  Landing Page Submission   \n",
       "4  3256f628-e534-4826-9d63-4a8b88782852       660681  Landing Page Submission   \n",
       "\n",
       "      Lead Source Do Not Email Do Not Call  Converted  TotalVisits  \\\n",
       "0      Olark Chat           No          No          0          0.0   \n",
       "1  Organic Search           No          No          0          5.0   \n",
       "2  Direct Traffic           No          No          1          2.0   \n",
       "3  Direct Traffic           No          No          0          1.0   \n",
       "4          Google           No          No          1          2.0   \n",
       "\n",
       "   Total Time Spent on Website  Page Views Per Visit  ...  \\\n",
       "0                            0                   0.0  ...   \n",
       "1                          674                   2.5  ...   \n",
       "2                         1532                   2.0  ...   \n",
       "3                          305                   1.0  ...   \n",
       "4                         1428                   1.0  ...   \n",
       "\n",
       "  Get updates on DM Content    Lead Profile    City  \\\n",
       "0                        No          Select  Select   \n",
       "1                        No          Select  Select   \n",
       "2                        No  Potential Lead  Mumbai   \n",
       "3                        No          Select  Mumbai   \n",
       "4                        No          Select  Mumbai   \n",
       "\n",
       "  Asymmetrique Activity Index Asymmetrique Profile Index  \\\n",
       "0                   02.Medium                  02.Medium   \n",
       "1                   02.Medium                  02.Medium   \n",
       "2                   02.Medium                    01.High   \n",
       "3                   02.Medium                    01.High   \n",
       "4                   02.Medium                    01.High   \n",
       "\n",
       "  Asymmetrique Activity Score Asymmetrique Profile Score  \\\n",
       "0                        15.0                       15.0   \n",
       "1                        15.0                       15.0   \n",
       "2                        14.0                       20.0   \n",
       "3                        13.0                       17.0   \n",
       "4                        15.0                       18.0   \n",
       "\n",
       "  I agree to pay the amount through cheque  \\\n",
       "0                                       No   \n",
       "1                                       No   \n",
       "2                                       No   \n",
       "3                                       No   \n",
       "4                                       No   \n",
       "\n",
       "  A free copy of Mastering The Interview Last Notable Activity  \n",
       "0                                     No              Modified  \n",
       "1                                     No          Email Opened  \n",
       "2                                    Yes          Email Opened  \n",
       "3                                     No              Modified  \n",
       "4                                     No              Modified  \n",
       "\n",
       "[5 rows x 37 columns]"
      ]
     },
     "execution_count": 2,
     "metadata": {},
     "output_type": "execute_result"
    }
   ],
   "source": [
    "df = pd.read_csv('Leads.csv')\n",
    "df.head()"
   ]
  },
  {
   "cell_type": "code",
   "execution_count": 3,
   "id": "40a0fb11",
   "metadata": {},
   "outputs": [
    {
     "name": "stdout",
     "output_type": "stream",
     "text": [
      "<class 'pandas.core.frame.DataFrame'>\n",
      "RangeIndex: 9240 entries, 0 to 9239\n",
      "Data columns (total 37 columns):\n",
      " #   Column                                         Non-Null Count  Dtype  \n",
      "---  ------                                         --------------  -----  \n",
      " 0   Prospect ID                                    9240 non-null   object \n",
      " 1   Lead Number                                    9240 non-null   int64  \n",
      " 2   Lead Origin                                    9240 non-null   object \n",
      " 3   Lead Source                                    9204 non-null   object \n",
      " 4   Do Not Email                                   9240 non-null   object \n",
      " 5   Do Not Call                                    9240 non-null   object \n",
      " 6   Converted                                      9240 non-null   int64  \n",
      " 7   TotalVisits                                    9103 non-null   float64\n",
      " 8   Total Time Spent on Website                    9240 non-null   int64  \n",
      " 9   Page Views Per Visit                           9103 non-null   float64\n",
      " 10  Last Activity                                  9137 non-null   object \n",
      " 11  Country                                        6779 non-null   object \n",
      " 12  Specialization                                 7802 non-null   object \n",
      " 13  How did you hear about X Education             7033 non-null   object \n",
      " 14  What is your current occupation                6550 non-null   object \n",
      " 15  What matters most to you in choosing a course  6531 non-null   object \n",
      " 16  Search                                         9240 non-null   object \n",
      " 17  Magazine                                       9240 non-null   object \n",
      " 18  Newspaper Article                              9240 non-null   object \n",
      " 19  X Education Forums                             9240 non-null   object \n",
      " 20  Newspaper                                      9240 non-null   object \n",
      " 21  Digital Advertisement                          9240 non-null   object \n",
      " 22  Through Recommendations                        9240 non-null   object \n",
      " 23  Receive More Updates About Our Courses         9240 non-null   object \n",
      " 24  Tags                                           5887 non-null   object \n",
      " 25  Lead Quality                                   4473 non-null   object \n",
      " 26  Update me on Supply Chain Content              9240 non-null   object \n",
      " 27  Get updates on DM Content                      9240 non-null   object \n",
      " 28  Lead Profile                                   6531 non-null   object \n",
      " 29  City                                           7820 non-null   object \n",
      " 30  Asymmetrique Activity Index                    5022 non-null   object \n",
      " 31  Asymmetrique Profile Index                     5022 non-null   object \n",
      " 32  Asymmetrique Activity Score                    5022 non-null   float64\n",
      " 33  Asymmetrique Profile Score                     5022 non-null   float64\n",
      " 34  I agree to pay the amount through cheque       9240 non-null   object \n",
      " 35  A free copy of Mastering The Interview         9240 non-null   object \n",
      " 36  Last Notable Activity                          9240 non-null   object \n",
      "dtypes: float64(4), int64(3), object(30)\n",
      "memory usage: 2.6+ MB\n"
     ]
    }
   ],
   "source": [
    "df.info()"
   ]
  },
  {
   "cell_type": "code",
   "execution_count": 4,
   "id": "e302dc9d",
   "metadata": {},
   "outputs": [
    {
     "data": {
      "text/plain": [
       "(9240, 37)"
      ]
     },
     "execution_count": 4,
     "metadata": {},
     "output_type": "execute_result"
    }
   ],
   "source": [
    "df.shape"
   ]
  },
  {
   "cell_type": "code",
   "execution_count": 5,
   "id": "2e9c24b8",
   "metadata": {},
   "outputs": [
    {
     "data": {
      "text/plain": [
       "Prospect ID                                       0.00\n",
       "Lead Number                                       0.00\n",
       "Lead Origin                                       0.00\n",
       "Lead Source                                       0.39\n",
       "Do Not Email                                      0.00\n",
       "Do Not Call                                       0.00\n",
       "Converted                                         0.00\n",
       "TotalVisits                                       1.48\n",
       "Total Time Spent on Website                       0.00\n",
       "Page Views Per Visit                              1.48\n",
       "Last Activity                                     1.11\n",
       "Country                                          26.63\n",
       "Specialization                                   15.56\n",
       "How did you hear about X Education               23.89\n",
       "What is your current occupation                  29.11\n",
       "What matters most to you in choosing a course    29.32\n",
       "Search                                            0.00\n",
       "Magazine                                          0.00\n",
       "Newspaper Article                                 0.00\n",
       "X Education Forums                                0.00\n",
       "Newspaper                                         0.00\n",
       "Digital Advertisement                             0.00\n",
       "Through Recommendations                           0.00\n",
       "Receive More Updates About Our Courses            0.00\n",
       "Tags                                             36.29\n",
       "Lead Quality                                     51.59\n",
       "Update me on Supply Chain Content                 0.00\n",
       "Get updates on DM Content                         0.00\n",
       "Lead Profile                                     29.32\n",
       "City                                             15.37\n",
       "Asymmetrique Activity Index                      45.65\n",
       "Asymmetrique Profile Index                       45.65\n",
       "Asymmetrique Activity Score                      45.65\n",
       "Asymmetrique Profile Score                       45.65\n",
       "I agree to pay the amount through cheque          0.00\n",
       "A free copy of Mastering The Interview            0.00\n",
       "Last Notable Activity                             0.00\n",
       "dtype: float64"
      ]
     },
     "execution_count": 5,
     "metadata": {},
     "output_type": "execute_result"
    }
   ],
   "source": [
    "# Null values of each column\n",
    "round(df.isnull().sum()/len(df) * 100, 2)"
   ]
  },
  {
   "cell_type": "code",
   "execution_count": 6,
   "id": "3e9a7083",
   "metadata": {},
   "outputs": [],
   "source": [
    "# Drop the columns which has null value greater than 40%\n",
    "df.drop(columns=['Lead Quality','Asymmetrique Activity Index','Asymmetrique Profile Index','Asymmetrique Activity Score',\n",
    "                'Asymmetrique Profile Score'], axis=1, inplace=True)"
   ]
  },
  {
   "cell_type": "code",
   "execution_count": 7,
   "id": "1ff076d3",
   "metadata": {},
   "outputs": [
    {
     "data": {
      "text/plain": [
       "Tags                                             36.29\n",
       "Lead Profile                                     29.32\n",
       "What matters most to you in choosing a course    29.32\n",
       "What is your current occupation                  29.11\n",
       "Country                                          26.63\n",
       "How did you hear about X Education               23.89\n",
       "Specialization                                   15.56\n",
       "City                                             15.37\n",
       "TotalVisits                                       1.48\n",
       "Page Views Per Visit                              1.48\n",
       "Last Activity                                     1.11\n",
       "Lead Source                                       0.39\n",
       "Receive More Updates About Our Courses            0.00\n",
       "Update me on Supply Chain Content                 0.00\n",
       "Prospect ID                                       0.00\n",
       "Digital Advertisement                             0.00\n",
       "Get updates on DM Content                         0.00\n",
       "I agree to pay the amount through cheque          0.00\n",
       "A free copy of Mastering The Interview            0.00\n",
       "Through Recommendations                           0.00\n",
       "Search                                            0.00\n",
       "Newspaper                                         0.00\n",
       "X Education Forums                                0.00\n",
       "Newspaper Article                                 0.00\n",
       "Magazine                                          0.00\n",
       "Lead Number                                       0.00\n",
       "Total Time Spent on Website                       0.00\n",
       "Converted                                         0.00\n",
       "Do Not Call                                       0.00\n",
       "Do Not Email                                      0.00\n",
       "Lead Origin                                       0.00\n",
       "Last Notable Activity                             0.00\n",
       "dtype: float64"
      ]
     },
     "execution_count": 7,
     "metadata": {},
     "output_type": "execute_result"
    }
   ],
   "source": [
    "# Again checking the Null Values in each columns\n",
    "round((df.isnull().sum()/len(df) * 100).sort_values(ascending=False),2)"
   ]
  },
  {
   "cell_type": "code",
   "execution_count": null,
   "id": "c7d1e54e",
   "metadata": {},
   "outputs": [],
   "source": []
  },
  {
   "cell_type": "code",
   "execution_count": 8,
   "id": "9ba937d2",
   "metadata": {},
   "outputs": [],
   "source": [
    "# Let's treat the null values which has less than 40% rate\n",
    "# Tags\n",
    "mod_tag = df.Tags.mode()[0]\n",
    "mod_tag\n",
    "\n",
    "df.Tags.fillna(mod_tag, inplace=True)"
   ]
  },
  {
   "cell_type": "code",
   "execution_count": 9,
   "id": "bb0dabb5",
   "metadata": {},
   "outputs": [
    {
     "data": {
      "text/plain": [
       "Select                         4146\n",
       "Potential Lead                 1613\n",
       "Other Leads                     487\n",
       "Student of SomeSchool           241\n",
       "Lateral Student                  24\n",
       "Dual Specialization Student      20\n",
       "Name: Lead Profile, dtype: int64"
      ]
     },
     "execution_count": 9,
     "metadata": {},
     "output_type": "execute_result"
    }
   ],
   "source": [
    "# Lead Profile\n",
    "df['Lead Profile'].value_counts()"
   ]
  },
  {
   "cell_type": "code",
   "execution_count": null,
   "id": "5266e48a",
   "metadata": {},
   "outputs": [],
   "source": []
  },
  {
   "cell_type": "code",
   "execution_count": 10,
   "id": "d826a172",
   "metadata": {},
   "outputs": [],
   "source": [
    "# Since most of the lead Proile have categorise under Select which doesn't have any meaning.\n",
    "# The null value can be assigned to other leads but still the data contains most of the irrelavent category\n",
    "# We will drop the Lead Profile as it doesn't make much difference\n",
    "\n",
    "df.drop('Lead Profile', axis=1, inplace=True)"
   ]
  },
  {
   "cell_type": "code",
   "execution_count": 11,
   "id": "ecac7ee0",
   "metadata": {},
   "outputs": [
    {
     "data": {
      "text/plain": [
       "Better Career Prospects      6528\n",
       "Flexibility & Convenience       2\n",
       "Other                           1\n",
       "Name: What matters most to you in choosing a course, dtype: int64"
      ]
     },
     "execution_count": 11,
     "metadata": {},
     "output_type": "execute_result"
    }
   ],
   "source": [
    "df['What matters most to you in choosing a course'].value_counts()"
   ]
  },
  {
   "cell_type": "code",
   "execution_count": 12,
   "id": "210ab5b6",
   "metadata": {},
   "outputs": [],
   "source": [
    "# Since 'What matters most to you in choosing a course' is highly skewed data then will delete the column\n",
    "df.drop('What matters most to you in choosing a course', axis=1, inplace=True)"
   ]
  },
  {
   "cell_type": "code",
   "execution_count": 13,
   "id": "81d47a9d",
   "metadata": {},
   "outputs": [
    {
     "data": {
      "text/plain": [
       "Unemployed              5600\n",
       "Working Professional     706\n",
       "Student                  210\n",
       "Other                     16\n",
       "Housewife                 10\n",
       "Businessman                8\n",
       "Name: What is your current occupation, dtype: int64"
      ]
     },
     "execution_count": 13,
     "metadata": {},
     "output_type": "execute_result"
    }
   ],
   "source": [
    "df['What is your current occupation'].value_counts()"
   ]
  },
  {
   "cell_type": "code",
   "execution_count": 14,
   "id": "54128fe8",
   "metadata": {},
   "outputs": [],
   "source": [
    "# The column 'What is your current occupation' is having high number of Unemployed.\n",
    "# We can make null value to merge with Unemployed category\n",
    "\n",
    "mod_occu = df['What is your current occupation'].mode()[0]\n",
    "mod_occu\n",
    "\n",
    "df['What is your current occupation'].fillna(mod_occu, inplace=True)"
   ]
  },
  {
   "cell_type": "code",
   "execution_count": 15,
   "id": "56e5eba1",
   "metadata": {},
   "outputs": [
    {
     "data": {
      "image/png": "[encoded data removed]",
      "text/plain": [
       "<Figure size 432x288 with 1 Axes>"
      ]
     },
     "metadata": {
      "needs_background": "light"
     },
     "output_type": "display_data"
    }
   ],
   "source": [
    "df.Country.value_counts()\n",
    "sns.countplot(x='Country', hue='Converted',data=df)\n",
    "plt.xticks(rotation=90)\n",
    "plt.show()"
   ]
  },
  {
   "cell_type": "code",
   "execution_count": 16,
   "id": "5f09f3fc",
   "metadata": {},
   "outputs": [],
   "source": [
    "# Country India has highest convert rate\n",
    "# We can merge the null values to Country India\n",
    "\n",
    "mod_coun = df.Country.mode()[0]\n",
    "mod_coun\n",
    "\n",
    "df.Country.fillna(mod_coun, inplace=True)"
   ]
  },
  {
   "cell_type": "code",
   "execution_count": 17,
   "id": "c2b364dc",
   "metadata": {},
   "outputs": [
    {
     "data": {
      "text/plain": [
       "Select                   5043\n",
       "Online Search             808\n",
       "Word Of Mouth             348\n",
       "Student of SomeSchool     310\n",
       "Other                     186\n",
       "Multiple Sources          152\n",
       "Advertisements             70\n",
       "Social Media               67\n",
       "Email                      26\n",
       "SMS                        23\n",
       "Name: How did you hear about X Education, dtype: int64"
      ]
     },
     "execution_count": 17,
     "metadata": {},
     "output_type": "execute_result"
    }
   ],
   "source": [
    "df['How did you hear about X Education'].value_counts()"
   ]
  },
  {
   "cell_type": "code",
   "execution_count": 18,
   "id": "96f81650",
   "metadata": {},
   "outputs": [],
   "source": [
    "# Again column 'How did you hear about X Education' has highest value in the select column\n",
    "# We can drop the column 'How did you hear about X Education'\n",
    "\n",
    "df.drop('How did you hear about X Education', axis=1, inplace=True)"
   ]
  },
  {
   "cell_type": "code",
   "execution_count": 19,
   "id": "0be58378",
   "metadata": {},
   "outputs": [
    {
     "data": {
      "text/plain": [
       "Select                               1942\n",
       "Finance Management                    976\n",
       "Human Resource Management             848\n",
       "Marketing Management                  838\n",
       "Operations Management                 503\n",
       "Business Administration               403\n",
       "IT Projects Management                366\n",
       "Supply Chain Management               349\n",
       "Banking, Investment And Insurance     338\n",
       "Travel and Tourism                    203\n",
       "Media and Advertising                 203\n",
       "International Business                178\n",
       "Healthcare Management                 159\n",
       "Hospitality Management                114\n",
       "E-COMMERCE                            112\n",
       "Retail Management                     100\n",
       "Rural and Agribusiness                 73\n",
       "E-Business                             57\n",
       "Services Excellence                    40\n",
       "Name: Specialization, dtype: int64"
      ]
     },
     "execution_count": 19,
     "metadata": {},
     "output_type": "execute_result"
    }
   ],
   "source": [
    "df.Specialization.value_counts()"
   ]
  },
  {
   "cell_type": "code",
   "execution_count": 20,
   "id": "d7640f8a",
   "metadata": {},
   "outputs": [
    {
     "data": {
      "image/png": "[encoded data removed]",
      "text/plain": [
       "<Figure size 432x288 with 1 Axes>"
      ]
     },
     "metadata": {
      "needs_background": "light"
     },
     "output_type": "display_data"
    }
   ],
   "source": [
    "sns.countplot(x='Specialization', hue='Converted', data=df)\n",
    "plt.xticks(rotation=90)\n",
    "plt.show()"
   ]
  },
  {
   "cell_type": "code",
   "execution_count": 21,
   "id": "5719652f",
   "metadata": {},
   "outputs": [],
   "source": [
    "# Again Specilization column has highest number of value under select\n",
    "# We can drop such column from the data set\n",
    "\n",
    "#df.drop('Specialization', axis=1, inplace=True)"
   ]
  },
  {
   "cell_type": "code",
   "execution_count": 22,
   "id": "4b374176",
   "metadata": {},
   "outputs": [
    {
     "data": {
      "text/plain": [
       "Mumbai                         3222\n",
       "Select                         2249\n",
       "Thane & Outskirts               752\n",
       "Other Cities                    686\n",
       "Other Cities of Maharashtra     457\n",
       "Other Metro Cities              380\n",
       "Tier II Cities                   74\n",
       "Name: City, dtype: int64"
      ]
     },
     "execution_count": 22,
     "metadata": {},
     "output_type": "execute_result"
    }
   ],
   "source": [
    "df.City.value_counts()"
   ]
  },
  {
   "cell_type": "code",
   "execution_count": 23,
   "id": "45e551b6",
   "metadata": {},
   "outputs": [],
   "source": [
    "# We will assign the null values to Mumbai category\n",
    "\n",
    "mod_city = df.City.mode()[0]\n",
    "mod_city\n",
    "\n",
    "df.City.fillna(mod_city, inplace=True)"
   ]
  },
  {
   "cell_type": "code",
   "execution_count": 24,
   "id": "c2150e7e",
   "metadata": {},
   "outputs": [],
   "source": [
    "# Drop those columns which has null value less than 2%\n",
    "\n",
    "df.dropna(inplace=True)"
   ]
  },
  {
   "cell_type": "code",
   "execution_count": 25,
   "id": "211c056e",
   "metadata": {},
   "outputs": [
    {
     "data": {
      "text/plain": [
       "Prospect ID                                 0.0\n",
       "Magazine                                    0.0\n",
       "A free copy of Mastering The Interview      0.0\n",
       "I agree to pay the amount through cheque    0.0\n",
       "City                                        0.0\n",
       "Get updates on DM Content                   0.0\n",
       "Update me on Supply Chain Content           0.0\n",
       "Tags                                        0.0\n",
       "Receive More Updates About Our Courses      0.0\n",
       "Through Recommendations                     0.0\n",
       "Digital Advertisement                       0.0\n",
       "Newspaper                                   0.0\n",
       "X Education Forums                          0.0\n",
       "Newspaper Article                           0.0\n",
       "Search                                      0.0\n",
       "Lead Number                                 0.0\n",
       "What is your current occupation             0.0\n",
       "Specialization                              0.0\n",
       "Country                                     0.0\n",
       "Last Activity                               0.0\n",
       "Page Views Per Visit                        0.0\n",
       "Total Time Spent on Website                 0.0\n",
       "TotalVisits                                 0.0\n",
       "Converted                                   0.0\n",
       "Do Not Call                                 0.0\n",
       "Do Not Email                                0.0\n",
       "Lead Source                                 0.0\n",
       "Lead Origin                                 0.0\n",
       "Last Notable Activity                       0.0\n",
       "dtype: float64"
      ]
     },
     "execution_count": 25,
     "metadata": {},
     "output_type": "execute_result"
    }
   ],
   "source": [
    "round((df.isnull().sum()/len(df) * 100).sort_values(ascending=False),2)"
   ]
  },
  {
   "cell_type": "code",
   "execution_count": 26,
   "id": "f10ec2f2",
   "metadata": {},
   "outputs": [
    {
     "name": "stdout",
     "output_type": "stream",
     "text": [
      "<class 'pandas.core.frame.DataFrame'>\n",
      "Int64Index: 7643 entries, 0 to 9239\n",
      "Data columns (total 29 columns):\n",
      " #   Column                                    Non-Null Count  Dtype  \n",
      "---  ------                                    --------------  -----  \n",
      " 0   Prospect ID                               7643 non-null   object \n",
      " 1   Lead Number                               7643 non-null   int64  \n",
      " 2   Lead Origin                               7643 non-null   object \n",
      " 3   Lead Source                               7643 non-null   object \n",
      " 4   Do Not Email                              7643 non-null   object \n",
      " 5   Do Not Call                               7643 non-null   object \n",
      " 6   Converted                                 7643 non-null   int64  \n",
      " 7   TotalVisits                               7643 non-null   float64\n",
      " 8   Total Time Spent on Website               7643 non-null   int64  \n",
      " 9   Page Views Per Visit                      7643 non-null   float64\n",
      " 10  Last Activity                             7643 non-null   object \n",
      " 11  Country                                   7643 non-null   object \n",
      " 12  Specialization                            7643 non-null   object \n",
      " 13  What is your current occupation           7643 non-null   object \n",
      " 14  Search                                    7643 non-null   object \n",
      " 15  Magazine                                  7643 non-null   object \n",
      " 16  Newspaper Article                         7643 non-null   object \n",
      " 17  X Education Forums                        7643 non-null   object \n",
      " 18  Newspaper                                 7643 non-null   object \n",
      " 19  Digital Advertisement                     7643 non-null   object \n",
      " 20  Through Recommendations                   7643 non-null   object \n",
      " 21  Receive More Updates About Our Courses    7643 non-null   object \n",
      " 22  Tags                                      7643 non-null   object \n",
      " 23  Update me on Supply Chain Content         7643 non-null   object \n",
      " 24  Get updates on DM Content                 7643 non-null   object \n",
      " 25  City                                      7643 non-null   object \n",
      " 26  I agree to pay the amount through cheque  7643 non-null   object \n",
      " 27  A free copy of Mastering The Interview    7643 non-null   object \n",
      " 28  Last Notable Activity                     7643 non-null   object \n",
      "dtypes: float64(2), int64(3), object(24)\n",
      "memory usage: 1.7+ MB\n"
     ]
    }
   ],
   "source": [
    "# Now let's understand the each column by recognising the different parameters\n",
    "\n",
    "df.info()"
   ]
  },
  {
   "cell_type": "code",
   "execution_count": 27,
   "id": "fcb385e9",
   "metadata": {},
   "outputs": [
    {
     "data": {
      "text/plain": [
       "Landing Page Submission    4834\n",
       "API                        2201\n",
       "Lead Add Form               581\n",
       "Lead Import                  27\n",
       "Name: Lead Origin, dtype: int64"
      ]
     },
     "execution_count": 27,
     "metadata": {},
     "output_type": "execute_result"
    }
   ],
   "source": [
    "df['Lead Origin'].value_counts()"
   ]
  },
  {
   "cell_type": "code",
   "execution_count": 28,
   "id": "9fedf240",
   "metadata": {},
   "outputs": [
    {
     "data": {
      "image/png": "[encoded data removed]",
      "text/plain": [
       "<Figure size 432x288 with 1 Axes>"
      ]
     },
     "metadata": {
      "needs_background": "light"
     },
     "output_type": "display_data"
    }
   ],
   "source": [
    "sns.countplot(x='Lead Origin', hue='Converted', data=df)\n",
    "plt.show()"
   ]
  },
  {
   "cell_type": "code",
   "execution_count": 29,
   "id": "69e8f22a",
   "metadata": {},
   "outputs": [
    {
     "data": {
      "text/plain": [
       "Google               2514\n",
       "Direct Traffic       2468\n",
       "Organic Search       1035\n",
       "Olark Chat            917\n",
       "Reference             443\n",
       "Welingak Website      129\n",
       "Referral Sites         84\n",
       "Facebook               28\n",
       "google                  5\n",
       "Click2call              4\n",
       "bing                    3\n",
       "Press_Release           2\n",
       "Social Media            2\n",
       "Live Chat               2\n",
       "youtubechannel          1\n",
       "testone                 1\n",
       "Pay per Click Ads       1\n",
       "welearnblog_Home        1\n",
       "WeLearn                 1\n",
       "blog                    1\n",
       "NC_EDM                  1\n",
       "Name: Lead Source, dtype: int64"
      ]
     },
     "execution_count": 29,
     "metadata": {},
     "output_type": "execute_result"
    }
   ],
   "source": [
    "df['Lead Source'].value_counts()"
   ]
  },
  {
   "cell_type": "code",
   "execution_count": 30,
   "id": "e6937201",
   "metadata": {},
   "outputs": [
    {
     "data": {
      "image/png": "[encoded data removed]",
      "text/plain": [
       "<Figure size 432x288 with 1 Axes>"
      ]
     },
     "metadata": {
      "needs_background": "light"
     },
     "output_type": "display_data"
    }
   ],
   "source": [
    "sns.countplot(x='Lead Source', hue='Converted', data=df)\n",
    "plt.xticks(rotation=90)\n",
    "plt.show()"
   ]
  },
  {
   "cell_type": "code",
   "execution_count": 31,
   "id": "28cb401e",
   "metadata": {},
   "outputs": [],
   "source": [
    "# There are most 'Lead Score' values are having value in less numbers\n",
    "# We can create the column 'Others' and merge all the 'Lead Score'\n",
    "\n",
    "df['Lead Source'].replace(['bing','google','Click2call','Press_Release','Social Media','Live Chat',\n",
    "                          'youtubechannel','testone','Pay per Click Ads','welearnblog_Home',\n",
    "                          'WeLearn','blog','NC_EDM'], 'Others', inplace=True)"
   ]
  },
  {
   "cell_type": "code",
   "execution_count": 32,
   "id": "d37c7aee",
   "metadata": {},
   "outputs": [
    {
     "data": {
      "image/png": "[encoded data removed]",
      "text/plain": [
       "<Figure size 432x288 with 1 Axes>"
      ]
     },
     "metadata": {
      "needs_background": "light"
     },
     "output_type": "display_data"
    }
   ],
   "source": [
    "sns.countplot(x='Lead Source', hue='Converted', data=df)\n",
    "plt.xticks(rotation=90)\n",
    "plt.show()"
   ]
  },
  {
   "cell_type": "code",
   "execution_count": 33,
   "id": "a10e7850",
   "metadata": {},
   "outputs": [
    {
     "data": {
      "text/plain": [
       "No     7030\n",
       "Yes     613\n",
       "Name: Do Not Email, dtype: int64"
      ]
     },
     "execution_count": 33,
     "metadata": {},
     "output_type": "execute_result"
    }
   ],
   "source": [
    "df['Do Not Email'].value_counts()"
   ]
  },
  {
   "cell_type": "code",
   "execution_count": 34,
   "id": "81fca4d7",
   "metadata": {},
   "outputs": [
    {
     "data": {
      "text/plain": [
       "No     7641\n",
       "Yes       2\n",
       "Name: Do Not Call, dtype: int64"
      ]
     },
     "execution_count": 34,
     "metadata": {},
     "output_type": "execute_result"
    }
   ],
   "source": [
    "df['Do Not Call'].value_counts()"
   ]
  },
  {
   "cell_type": "code",
   "execution_count": 35,
   "id": "c771d314",
   "metadata": {},
   "outputs": [
    {
     "data": {
      "image/png": "[encoded data removed]",
      "text/plain": [
       "<Figure size 432x288 with 1 Axes>"
      ]
     },
     "metadata": {
      "needs_background": "light"
     },
     "output_type": "display_data"
    }
   ],
   "source": [
    "sns.boxplot(y='TotalVisits', data=df)\n",
    "plt.show()"
   ]
  },
  {
   "cell_type": "code",
   "execution_count": 36,
   "id": "d8741c70",
   "metadata": {},
   "outputs": [],
   "source": [
    "# As it is observed from the above plot that the TotalVisits has high number of outliers.\n",
    "# Need to cap the outliers betweeen 5% to 95%\n",
    "\n",
    "percentiles = df.TotalVisits.quantile([0.05, 0.95]).values\n",
    "\n",
    "df.TotalVisits[df.TotalVisits <= percentiles[0]]= percentiles[0]\n",
    "df.TotalVisits[df.TotalVisits >= percentiles[1]] = percentiles[1]"
   ]
  },
  {
   "cell_type": "code",
   "execution_count": 37,
   "id": "844ad9ba",
   "metadata": {},
   "outputs": [
    {
     "data": {
      "image/png": "[encoded data removed]",
      "text/plain": [
       "<Figure size 432x288 with 1 Axes>"
      ]
     },
     "metadata": {
      "needs_background": "light"
     },
     "output_type": "display_data"
    }
   ],
   "source": [
    "sns.boxplot(y='TotalVisits', x='Converted', data=df)\n",
    "plt.show()"
   ]
  },
  {
   "cell_type": "code",
   "execution_count": 38,
   "id": "574bf4da",
   "metadata": {},
   "outputs": [
    {
     "data": {
      "image/png": "[encoded data removed]",
      "text/plain": [
       "<Figure size 432x288 with 1 Axes>"
      ]
     },
     "metadata": {
      "needs_background": "light"
     },
     "output_type": "display_data"
    }
   ],
   "source": [
    "sns.boxplot(y='Total Time Spent on Website', x='Converted', data=df)\n",
    "plt.show()"
   ]
  },
  {
   "cell_type": "code",
   "execution_count": 39,
   "id": "f12f0dfc",
   "metadata": {},
   "outputs": [
    {
     "data": {
      "image/png": "[encoded data removed]",
      "text/plain": [
       "<Figure size 432x288 with 1 Axes>"
      ]
     },
     "metadata": {
      "needs_background": "light"
     },
     "output_type": "display_data"
    }
   ],
   "source": [
    "sns.boxplot(y='Page Views Per Visit', data=df)\n",
    "plt.show()"
   ]
  },
  {
   "cell_type": "code",
   "execution_count": 40,
   "id": "5c728daa",
   "metadata": {},
   "outputs": [],
   "source": [
    "# Again 'Page Views Per Visit' column has more number of values in the outliers\n",
    "# We need to cap the outliers between 5% and 95%\n",
    "\n",
    "percentiles = df['Page Views Per Visit'].quantile([0.05,0.95]).values\n",
    "\n",
    "df['Page Views Per Visit'][df['Page Views Per Visit'] <= percentiles[0]] = percentiles[0]\n",
    "df['Page Views Per Visit'][df['Page Views Per Visit'] >= percentiles[1]] = percentiles[1]"
   ]
  },
  {
   "cell_type": "code",
   "execution_count": 41,
   "id": "b871f900",
   "metadata": {},
   "outputs": [
    {
     "data": {
      "image/png": "[encoded data removed]",
      "text/plain": [
       "<Figure size 432x288 with 1 Axes>"
      ]
     },
     "metadata": {
      "needs_background": "light"
     },
     "output_type": "display_data"
    }
   ],
   "source": [
    "sns.boxplot(y='Page Views Per Visit', data=df)\n",
    "plt.show()"
   ]
  },
  {
   "cell_type": "code",
   "execution_count": 42,
   "id": "db6a4608",
   "metadata": {},
   "outputs": [
    {
     "data": {
      "text/plain": [
       "Email Opened                    2989\n",
       "SMS Sent                        2524\n",
       "Page Visited on Website          566\n",
       "Olark Chat Conversation          463\n",
       "Converted to Lead                350\n",
       "Email Bounced                    257\n",
       "Email Link Clicked               205\n",
       "Form Submitted on Website        114\n",
       "Unreachable                       86\n",
       "Unsubscribed                      51\n",
       "Had a Phone Conversation          24\n",
       "Approached upfront                 5\n",
       "View in browser link Clicked       4\n",
       "Email Received                     2\n",
       "Email Marked Spam                  2\n",
       "Visited Booth in Tradeshow         1\n",
       "Name: Last Activity, dtype: int64"
      ]
     },
     "execution_count": 42,
     "metadata": {},
     "output_type": "execute_result"
    }
   ],
   "source": [
    "df['Last Activity'].value_counts()"
   ]
  },
  {
   "cell_type": "code",
   "execution_count": 43,
   "id": "621a4bfe",
   "metadata": {},
   "outputs": [
    {
     "data": {
      "image/png": "[encoded data removed]",
      "text/plain": [
       "<Figure size 432x288 with 1 Axes>"
      ]
     },
     "metadata": {
      "needs_background": "light"
     },
     "output_type": "display_data"
    }
   ],
   "source": [
    "sns.countplot(y='Last Activity', hue='Converted', data=df)\n",
    "plt.show()"
   ]
  },
  {
   "cell_type": "code",
   "execution_count": 44,
   "id": "0cc8c9ed",
   "metadata": {},
   "outputs": [],
   "source": [
    "# We can merege few activity that has less number of readings to 'Other Activity'\n",
    "\n",
    "df['Last Activity'].replace(['View in browser link Clicked','Approached upfront','Email Received',\n",
    "                            'Email Marked Spam','Visited Booth in Tradeshow','Resubscribed to emails'],\n",
    "                           'Other Activity', inplace=True)"
   ]
  },
  {
   "cell_type": "code",
   "execution_count": 45,
   "id": "f67ecfc6",
   "metadata": {},
   "outputs": [
    {
     "data": {
      "text/plain": [
       "Email Opened                 2989\n",
       "SMS Sent                     2524\n",
       "Page Visited on Website       566\n",
       "Olark Chat Conversation       463\n",
       "Converted to Lead             350\n",
       "Email Bounced                 257\n",
       "Email Link Clicked            205\n",
       "Form Submitted on Website     114\n",
       "Unreachable                    86\n",
       "Unsubscribed                   51\n",
       "Had a Phone Conversation       24\n",
       "Other Activity                 14\n",
       "Name: Last Activity, dtype: int64"
      ]
     },
     "execution_count": 45,
     "metadata": {},
     "output_type": "execute_result"
    }
   ],
   "source": [
    "df['Last Activity'].value_counts()"
   ]
  },
  {
   "cell_type": "code",
   "execution_count": 46,
   "id": "aad97544",
   "metadata": {},
   "outputs": [
    {
     "data": {
      "image/png": "[encoded data removed]",
      "text/plain": [
       "<Figure size 432x288 with 1 Axes>"
      ]
     },
     "metadata": {
      "needs_background": "light"
     },
     "output_type": "display_data"
    }
   ],
   "source": [
    "sns.countplot(y='Last Activity', hue='Converted', data=df)\n",
    "plt.show()"
   ]
  },
  {
   "cell_type": "code",
   "execution_count": 47,
   "id": "423ad385",
   "metadata": {},
   "outputs": [
    {
     "data": {
      "text/plain": [
       "Unemployed              6746\n",
       "Working Professional     673\n",
       "Student                  193\n",
       "Other                     15\n",
       "Housewife                  9\n",
       "Businessman                7\n",
       "Name: What is your current occupation, dtype: int64"
      ]
     },
     "execution_count": 47,
     "metadata": {},
     "output_type": "execute_result"
    }
   ],
   "source": [
    "df['What is your current occupation'].value_counts()"
   ]
  },
  {
   "cell_type": "code",
   "execution_count": 48,
   "id": "a707599d",
   "metadata": {},
   "outputs": [
    {
     "data": {
      "image/png": "[encoded data removed]",
      "text/plain": [
       "<Figure size 432x288 with 1 Axes>"
      ]
     },
     "metadata": {
      "needs_background": "light"
     },
     "output_type": "display_data"
    }
   ],
   "source": [
    "sns.countplot(y='What is your current occupation', hue='Converted', data=df)\n",
    "plt.show()"
   ]
  },
  {
   "cell_type": "code",
   "execution_count": 49,
   "id": "9f821856",
   "metadata": {},
   "outputs": [],
   "source": [
    "df['What is your current occupation'].replace(['Other','Housewife','Businessman'], 'Others', inplace=True)"
   ]
  },
  {
   "cell_type": "code",
   "execution_count": 50,
   "id": "f99eb106",
   "metadata": {},
   "outputs": [
    {
     "data": {
      "text/plain": [
       "Unemployed              6746\n",
       "Working Professional     673\n",
       "Student                  193\n",
       "Others                    31\n",
       "Name: What is your current occupation, dtype: int64"
      ]
     },
     "execution_count": 50,
     "metadata": {},
     "output_type": "execute_result"
    }
   ],
   "source": [
    "df['What is your current occupation'].value_counts()"
   ]
  },
  {
   "cell_type": "code",
   "execution_count": 51,
   "id": "9c5de017",
   "metadata": {},
   "outputs": [
    {
     "data": {
      "image/png": "[encoded data removed]",
      "text/plain": [
       "<Figure size 432x288 with 1 Axes>"
      ]
     },
     "metadata": {
      "needs_background": "light"
     },
     "output_type": "display_data"
    }
   ],
   "source": [
    "sns.countplot(y='What is your current occupation', hue='Converted', data=df)\n",
    "plt.show()"
   ]
  },
  {
   "cell_type": "code",
   "execution_count": 52,
   "id": "2a54a777",
   "metadata": {},
   "outputs": [
    {
     "data": {
      "text/plain": [
       "No     7631\n",
       "Yes      12\n",
       "Name: Search, dtype: int64"
      ]
     },
     "execution_count": 52,
     "metadata": {},
     "output_type": "execute_result"
    }
   ],
   "source": [
    "df.Search.value_counts()"
   ]
  },
  {
   "cell_type": "code",
   "execution_count": 53,
   "id": "321623ad",
   "metadata": {},
   "outputs": [
    {
     "data": {
      "image/png": "[encoded data removed]",
      "text/plain": [
       "<Figure size 432x288 with 1 Axes>"
      ]
     },
     "metadata": {
      "needs_background": "light"
     },
     "output_type": "display_data"
    }
   ],
   "source": [
    "sns.countplot(x='Search', data=df)\n",
    "plt.show()"
   ]
  },
  {
   "cell_type": "code",
   "execution_count": 54,
   "id": "0b6c8331",
   "metadata": {},
   "outputs": [],
   "source": [
    "# As search column has no contribution towards the leads, we can drop the column.\n",
    "# Also, we could drop the column 'what is your current occupation' too as the number of entries are with Unemployment\n"
   ]
  },
  {
   "cell_type": "code",
   "execution_count": 55,
   "id": "820ede7b",
   "metadata": {},
   "outputs": [
    {
     "data": {
      "text/plain": [
       "No    7643\n",
       "Name: Magazine, dtype: int64"
      ]
     },
     "execution_count": 55,
     "metadata": {},
     "output_type": "execute_result"
    }
   ],
   "source": [
    "df.Magazine.value_counts()\n",
    "\n",
    "# We can drop the column Magazine as the number of entries are under No"
   ]
  },
  {
   "cell_type": "code",
   "execution_count": 56,
   "id": "9c8f0bde",
   "metadata": {},
   "outputs": [
    {
     "data": {
      "text/plain": [
       "Index(['Prospect ID', 'Lead Number', 'Lead Origin', 'Lead Source',\n",
       "       'Do Not Email', 'Do Not Call', 'Converted', 'TotalVisits',\n",
       "       'Total Time Spent on Website', 'Page Views Per Visit', 'Last Activity',\n",
       "       'Country', 'Specialization', 'What is your current occupation',\n",
       "       'Search', 'Magazine', 'Newspaper Article', 'X Education Forums',\n",
       "       'Newspaper', 'Digital Advertisement', 'Through Recommendations',\n",
       "       'Receive More Updates About Our Courses', 'Tags',\n",
       "       'Update me on Supply Chain Content', 'Get updates on DM Content',\n",
       "       'City', 'I agree to pay the amount through cheque',\n",
       "       'A free copy of Mastering The Interview', 'Last Notable Activity'],\n",
       "      dtype='object')"
      ]
     },
     "execution_count": 56,
     "metadata": {},
     "output_type": "execute_result"
    }
   ],
   "source": [
    "df.columns"
   ]
  },
  {
   "cell_type": "code",
   "execution_count": 57,
   "id": "97d2a30d",
   "metadata": {},
   "outputs": [
    {
     "data": {
      "text/plain": [
       "No     7641\n",
       "Yes       2\n",
       "Name: Newspaper Article, dtype: int64"
      ]
     },
     "execution_count": 57,
     "metadata": {},
     "output_type": "execute_result"
    }
   ],
   "source": [
    "df['Newspaper Article'].value_counts()\n",
    "\n",
    "# We can drop the 'Newspaper Article' as the number of entries are more under No category"
   ]
  },
  {
   "cell_type": "code",
   "execution_count": 58,
   "id": "6d72fca2",
   "metadata": {},
   "outputs": [
    {
     "data": {
      "text/plain": [
       "No     7642\n",
       "Yes       1\n",
       "Name: X Education Forums, dtype: int64"
      ]
     },
     "execution_count": 58,
     "metadata": {},
     "output_type": "execute_result"
    }
   ],
   "source": [
    "df['X Education Forums'].value_counts()\n",
    "\n",
    "# We can drop the 'X Education Forums' as the number of entries are more under No category"
   ]
  },
  {
   "cell_type": "code",
   "execution_count": 59,
   "id": "048f64c9",
   "metadata": {},
   "outputs": [
    {
     "data": {
      "text/plain": [
       "No     7642\n",
       "Yes       1\n",
       "Name: Newspaper, dtype: int64"
      ]
     },
     "execution_count": 59,
     "metadata": {},
     "output_type": "execute_result"
    }
   ],
   "source": [
    "df.Newspaper.value_counts()\n",
    "\n",
    "# We can drop the 'Newspaper' as the number of entries are more under No category"
   ]
  },
  {
   "cell_type": "code",
   "execution_count": 60,
   "id": "dcc501e7",
   "metadata": {},
   "outputs": [
    {
     "data": {
      "text/plain": [
       "No     7639\n",
       "Yes       4\n",
       "Name: Digital Advertisement, dtype: int64"
      ]
     },
     "execution_count": 60,
     "metadata": {},
     "output_type": "execute_result"
    }
   ],
   "source": [
    "df['Digital Advertisement'].value_counts()\n",
    "\n",
    "# We can drop the 'Digital Advertisement' as the number of entries are more under No category"
   ]
  },
  {
   "cell_type": "code",
   "execution_count": 61,
   "id": "3556ec7b",
   "metadata": {},
   "outputs": [
    {
     "data": {
      "text/plain": [
       "No     7636\n",
       "Yes       7\n",
       "Name: Through Recommendations, dtype: int64"
      ]
     },
     "execution_count": 61,
     "metadata": {},
     "output_type": "execute_result"
    }
   ],
   "source": [
    "df['Through Recommendations'].value_counts()\n",
    "\n",
    "# We can drop the 'Through Recommendations' as the number of entries are more under No category"
   ]
  },
  {
   "cell_type": "code",
   "execution_count": 62,
   "id": "1f5743ac",
   "metadata": {},
   "outputs": [
    {
     "data": {
      "text/plain": [
       "No    7643\n",
       "Name: Receive More Updates About Our Courses, dtype: int64"
      ]
     },
     "execution_count": 62,
     "metadata": {},
     "output_type": "execute_result"
    }
   ],
   "source": [
    "df['Receive More Updates About Our Courses'].value_counts()\n",
    "\n",
    "# We can drop the 'Receive More Updates About Our Courses' as the number of entries are more under No category"
   ]
  },
  {
   "cell_type": "code",
   "execution_count": 63,
   "id": "9f222cd2",
   "metadata": {},
   "outputs": [
    {
     "data": {
      "text/plain": [
       "Will revert after reading the email                  3946\n",
       "Ringing                                              1187\n",
       "Interested in other courses                           483\n",
       "Already a student                                     465\n",
       "Closed by Horizzon                                    301\n",
       "switched off                                          240\n",
       "Busy                                                  185\n",
       "Lost to EINS                                          164\n",
       "Not doing further education                           145\n",
       "Interested  in full time MBA                          116\n",
       "Graduation in progress                                111\n",
       "invalid number                                         83\n",
       "Diploma holder (Not Eligible)                          63\n",
       "wrong number given                                     47\n",
       "opp hangup                                             33\n",
       "number not provided                                    25\n",
       "in touch with EINS                                     12\n",
       "Lost to Others                                          7\n",
       "Still Thinking                                          6\n",
       "Want to take admission but has financial problems       6\n",
       "In confusion whether part time or DLP                   5\n",
       "Interested in Next batch                                5\n",
       "Lateral student                                         3\n",
       "Shall take in the next coming month                     2\n",
       "University not recognized                               2\n",
       "Recognition issue (DEC approval)                        1\n",
       "Name: Tags, dtype: int64"
      ]
     },
     "execution_count": 63,
     "metadata": {},
     "output_type": "execute_result"
    }
   ],
   "source": [
    "df.Tags.value_counts()"
   ]
  },
  {
   "cell_type": "code",
   "execution_count": 64,
   "id": "33a14a7b",
   "metadata": {},
   "outputs": [
    {
     "data": {
      "image/png": "[encoded data removed]",
      "text/plain": [
       "<Figure size 432x288 with 1 Axes>"
      ]
     },
     "metadata": {
      "needs_background": "light"
     },
     "output_type": "display_data"
    }
   ],
   "source": [
    "sns.countplot(x='Tags', hue='Converted', data=df)\n",
    "plt.xticks(rotation=90)\n",
    "plt.show()\n",
    "\n",
    "# Tags can be removed because it was developed by marketing team for their own reference"
   ]
  },
  {
   "cell_type": "code",
   "execution_count": 65,
   "id": "85542386",
   "metadata": {},
   "outputs": [
    {
     "data": {
      "text/plain": [
       "No    7643\n",
       "Name: Update me on Supply Chain Content, dtype: int64"
      ]
     },
     "execution_count": 65,
     "metadata": {},
     "output_type": "execute_result"
    }
   ],
   "source": [
    "df['Update me on Supply Chain Content'].value_counts()\n",
    "\n",
    "# We can drop the 'Update me on Supply Chain Content' as the number of entries are more under No category"
   ]
  },
  {
   "cell_type": "code",
   "execution_count": 66,
   "id": "889edc79",
   "metadata": {},
   "outputs": [
    {
     "data": {
      "text/plain": [
       "No    7643\n",
       "Name: Get updates on DM Content, dtype: int64"
      ]
     },
     "execution_count": 66,
     "metadata": {},
     "output_type": "execute_result"
    }
   ],
   "source": [
    "df['Get updates on DM Content'].value_counts()\n",
    "\n",
    "# We can drop the 'Get updates on DM Content' as the number of entries are more under No category"
   ]
  },
  {
   "cell_type": "code",
   "execution_count": 67,
   "id": "15588bbf",
   "metadata": {},
   "outputs": [
    {
     "data": {
      "text/plain": [
       "Mumbai                         3178\n",
       "Select                         2156\n",
       "Thane & Outskirts               742\n",
       "Other Cities                    677\n",
       "Other Cities of Maharashtra     441\n",
       "Other Metro Cities              375\n",
       "Tier II Cities                   74\n",
       "Name: City, dtype: int64"
      ]
     },
     "execution_count": 67,
     "metadata": {},
     "output_type": "execute_result"
    }
   ],
   "source": [
    "df.City.value_counts()"
   ]
  },
  {
   "cell_type": "code",
   "execution_count": 68,
   "id": "bea8f20d",
   "metadata": {},
   "outputs": [
    {
     "data": {
      "image/png": "[encoded data removed]",
      "text/plain": [
       "<Figure size 432x288 with 1 Axes>"
      ]
     },
     "metadata": {
      "needs_background": "light"
     },
     "output_type": "display_data"
    }
   ],
   "source": [
    "sns.countplot(x='City', hue='Converted', data=df)\n",
    "plt.xticks(rotation=90)\n",
    "plt.show()"
   ]
  },
  {
   "cell_type": "code",
   "execution_count": 69,
   "id": "2867f37b",
   "metadata": {},
   "outputs": [
    {
     "data": {
      "text/plain": [
       "No    7643\n",
       "Name: I agree to pay the amount through cheque, dtype: int64"
      ]
     },
     "execution_count": 69,
     "metadata": {},
     "output_type": "execute_result"
    }
   ],
   "source": [
    "df['I agree to pay the amount through cheque'].value_counts()\n",
    "\n",
    "# We can drop the 'I agree to pay the amount through cheque' as the number of entries are more under No category"
   ]
  },
  {
   "cell_type": "code",
   "execution_count": 70,
   "id": "4b7d3e6d",
   "metadata": {},
   "outputs": [
    {
     "data": {
      "text/plain": [
       "No     4757\n",
       "Yes    2886\n",
       "Name: A free copy of Mastering The Interview, dtype: int64"
      ]
     },
     "execution_count": 70,
     "metadata": {},
     "output_type": "execute_result"
    }
   ],
   "source": [
    "df['A free copy of Mastering The Interview'].value_counts()\n",
    "\n",
    "# We can drop the 'A free copy of Mastering The Interview' as the number of entries are more under No category"
   ]
  },
  {
   "cell_type": "code",
   "execution_count": 71,
   "id": "00b5ee2b",
   "metadata": {},
   "outputs": [
    {
     "data": {
      "text/plain": [
       "Modified                        2493\n",
       "Email Opened                    2481\n",
       "SMS Sent                        2037\n",
       "Page Visited on Website          272\n",
       "Email Link Clicked               129\n",
       "Olark Chat Conversation           88\n",
       "Email Bounced                     56\n",
       "Unsubscribed                      38\n",
       "Unreachable                       29\n",
       "Had a Phone Conversation          14\n",
       "Email Marked Spam                  2\n",
       "Approached upfront                 1\n",
       "View in browser link Clicked       1\n",
       "Form Submitted on Website          1\n",
       "Email Received                     1\n",
       "Name: Last Notable Activity, dtype: int64"
      ]
     },
     "execution_count": 71,
     "metadata": {},
     "output_type": "execute_result"
    }
   ],
   "source": [
    "df['Last Notable Activity'].value_counts()"
   ]
  },
  {
   "cell_type": "code",
   "execution_count": 72,
   "id": "e0dc77de",
   "metadata": {},
   "outputs": [
    {
     "data": {
      "image/png": "[encoded data removed]",
      "text/plain": [
       "<Figure size 432x288 with 1 Axes>"
      ]
     },
     "metadata": {
      "needs_background": "light"
     },
     "output_type": "display_data"
    }
   ],
   "source": [
    "sns.countplot(x='Last Notable Activity',hue='Converted', data=df)\n",
    "plt.xticks(rotation=90)\n",
    "plt.show()"
   ]
  },
  {
   "cell_type": "code",
   "execution_count": 73,
   "id": "9a731ae8",
   "metadata": {},
   "outputs": [],
   "source": [
    "# We can merge few of the categories to other activity as it contains less number of entries\n",
    "\n",
    "df['Last Notable Activity'].replace(['Had a Phone Conversation','Email Marked Spam','Approached upfront',\n",
    "                                    'Resubscribed to emails','View in browser link Clicked','Form Submitted on Website',\n",
    "                                    'Email Received'], 'Others Activity', inplace=True)"
   ]
  },
  {
   "cell_type": "code",
   "execution_count": 74,
   "id": "04fbe5ba",
   "metadata": {},
   "outputs": [
    {
     "data": {
      "text/plain": [
       "Modified                   2493\n",
       "Email Opened               2481\n",
       "SMS Sent                   2037\n",
       "Page Visited on Website     272\n",
       "Email Link Clicked          129\n",
       "Olark Chat Conversation      88\n",
       "Email Bounced                56\n",
       "Unsubscribed                 38\n",
       "Unreachable                  29\n",
       "Others Activity              20\n",
       "Name: Last Notable Activity, dtype: int64"
      ]
     },
     "execution_count": 74,
     "metadata": {},
     "output_type": "execute_result"
    }
   ],
   "source": [
    "df['Last Notable Activity'].value_counts()"
   ]
  },
  {
   "cell_type": "code",
   "execution_count": 75,
   "id": "c63cb034",
   "metadata": {},
   "outputs": [
    {
     "data": {
      "image/png": "[encoded data removed]",
      "text/plain": [
       "<Figure size 432x288 with 1 Axes>"
      ]
     },
     "metadata": {
      "needs_background": "light"
     },
     "output_type": "display_data"
    }
   ],
   "source": [
    "sns.countplot(x='Last Notable Activity',hue='Converted', data=df)\n",
    "plt.xticks(rotation=90)\n",
    "plt.show()"
   ]
  },
  {
   "cell_type": "markdown",
   "id": "03a6d5b1",
   "metadata": {},
   "source": [
    "### Dropping the Unwanted Columns"
   ]
  },
  {
   "cell_type": "code",
   "execution_count": 76,
   "id": "f34f1faf",
   "metadata": {},
   "outputs": [
    {
     "data": {
      "text/plain": [
       "Index(['Prospect ID', 'Lead Number', 'Lead Origin', 'Lead Source',\n",
       "       'Do Not Email', 'Do Not Call', 'Converted', 'TotalVisits',\n",
       "       'Total Time Spent on Website', 'Page Views Per Visit', 'Last Activity',\n",
       "       'Country', 'Specialization', 'What is your current occupation',\n",
       "       'Search', 'Magazine', 'Newspaper Article', 'X Education Forums',\n",
       "       'Newspaper', 'Digital Advertisement', 'Through Recommendations',\n",
       "       'Receive More Updates About Our Courses', 'Tags',\n",
       "       'Update me on Supply Chain Content', 'Get updates on DM Content',\n",
       "       'City', 'I agree to pay the amount through cheque',\n",
       "       'A free copy of Mastering The Interview', 'Last Notable Activity'],\n",
       "      dtype='object')"
      ]
     },
     "execution_count": 76,
     "metadata": {},
     "output_type": "execute_result"
    }
   ],
   "source": [
    "df.columns"
   ]
  },
  {
   "cell_type": "code",
   "execution_count": 77,
   "id": "46d72693",
   "metadata": {},
   "outputs": [],
   "source": [
    "df.drop(['What is your current occupation','Search','Magazine','Newspaper Article','X Education Forums',\n",
    "        'Newspaper','Digital Advertisement','Through Recommendations','Receive More Updates About Our Courses',\n",
    "        'Tags','Update me on Supply Chain Content','Get updates on DM Content','I agree to pay the amount through cheque',\n",
    "        'A free copy of Mastering The Interview'], axis=1, inplace=True)"
   ]
  },
  {
   "cell_type": "code",
   "execution_count": 78,
   "id": "a5627b6c",
   "metadata": {},
   "outputs": [
    {
     "data": {
      "text/plain": [
       "(7643, 15)"
      ]
     },
     "execution_count": 78,
     "metadata": {},
     "output_type": "execute_result"
    }
   ],
   "source": [
    "df.shape"
   ]
  },
  {
   "cell_type": "markdown",
   "id": "bf823187",
   "metadata": {},
   "source": [
    "### Mapping the Binary Columns"
   ]
  },
  {
   "cell_type": "code",
   "execution_count": 79,
   "id": "ec9f0a5e",
   "metadata": {},
   "outputs": [
    {
     "data": {
      "text/plain": [
       "Index(['Prospect ID', 'Lead Number', 'Lead Origin', 'Lead Source',\n",
       "       'Do Not Email', 'Do Not Call', 'Converted', 'TotalVisits',\n",
       "       'Total Time Spent on Website', 'Page Views Per Visit', 'Last Activity',\n",
       "       'Country', 'Specialization', 'City', 'Last Notable Activity'],\n",
       "      dtype='object')"
      ]
     },
     "execution_count": 79,
     "metadata": {},
     "output_type": "execute_result"
    }
   ],
   "source": [
    "df.columns"
   ]
  },
  {
   "cell_type": "code",
   "execution_count": 80,
   "id": "93ee1eae",
   "metadata": {},
   "outputs": [],
   "source": [
    "df['Do Not Email'] = df['Do Not Email'].map({'Yes':1, 'No':0})\n",
    "df['Do Not Call'] = df['Do Not Call'].map({'Yes':1, 'No':0})"
   ]
  },
  {
   "cell_type": "markdown",
   "id": "1834dd11",
   "metadata": {},
   "source": [
    "### Creating Dummy Columns"
   ]
  },
  {
   "cell_type": "code",
   "execution_count": 81,
   "id": "23f29277",
   "metadata": {},
   "outputs": [
    {
     "data": {
      "text/html": [
       "<div>\n",
       "<style scoped>\n",
       "    .dataframe tbody tr th:only-of-type {\n",
       "        vertical-align: middle;\n",
       "    }\n",
       "\n",
       "    .dataframe tbody tr th {\n",
       "        vertical-align: top;\n",
       "    }\n",
       "\n",
       "    .dataframe thead th {\n",
       "        text-align: right;\n",
       "    }\n",
       "</style>\n",
       "<table border=\"1\" class=\"dataframe\">\n",
       "  <thead>\n",
       "    <tr style=\"text-align: right;\">\n",
       "      <th></th>\n",
       "      <th>Prospect ID</th>\n",
       "      <th>Lead Number</th>\n",
       "      <th>Lead Origin</th>\n",
       "      <th>Lead Source</th>\n",
       "      <th>Do Not Email</th>\n",
       "      <th>Do Not Call</th>\n",
       "      <th>Converted</th>\n",
       "      <th>TotalVisits</th>\n",
       "      <th>Total Time Spent on Website</th>\n",
       "      <th>Page Views Per Visit</th>\n",
       "      <th>Last Activity</th>\n",
       "      <th>Country</th>\n",
       "      <th>Specialization</th>\n",
       "      <th>City</th>\n",
       "      <th>Last Notable Activity</th>\n",
       "    </tr>\n",
       "  </thead>\n",
       "  <tbody>\n",
       "    <tr>\n",
       "      <th>0</th>\n",
       "      <td>7927b2df-8bba-4d29-b9a2-b6e0beafe620</td>\n",
       "      <td>660737</td>\n",
       "      <td>API</td>\n",
       "      <td>Olark Chat</td>\n",
       "      <td>0</td>\n",
       "      <td>0</td>\n",
       "      <td>0</td>\n",
       "      <td>0.0</td>\n",
       "      <td>0</td>\n",
       "      <td>0.0</td>\n",
       "      <td>Page Visited on Website</td>\n",
       "      <td>India</td>\n",
       "      <td>Select</td>\n",
       "      <td>Select</td>\n",
       "      <td>Modified</td>\n",
       "    </tr>\n",
       "    <tr>\n",
       "      <th>1</th>\n",
       "      <td>2a272436-5132-4136-86fa-dcc88c88f482</td>\n",
       "      <td>660728</td>\n",
       "      <td>API</td>\n",
       "      <td>Organic Search</td>\n",
       "      <td>0</td>\n",
       "      <td>0</td>\n",
       "      <td>0</td>\n",
       "      <td>5.0</td>\n",
       "      <td>674</td>\n",
       "      <td>2.5</td>\n",
       "      <td>Email Opened</td>\n",
       "      <td>India</td>\n",
       "      <td>Select</td>\n",
       "      <td>Select</td>\n",
       "      <td>Email Opened</td>\n",
       "    </tr>\n",
       "  </tbody>\n",
       "</table>\n",
       "</div>"
      ],
      "text/plain": [
       "                            Prospect ID  Lead Number Lead Origin  \\\n",
       "0  7927b2df-8bba-4d29-b9a2-b6e0beafe620       660737         API   \n",
       "1  2a272436-5132-4136-86fa-dcc88c88f482       660728         API   \n",
       "\n",
       "      Lead Source  Do Not Email  Do Not Call  Converted  TotalVisits  \\\n",
       "0      Olark Chat             0            0          0          0.0   \n",
       "1  Organic Search             0            0          0          5.0   \n",
       "\n",
       "   Total Time Spent on Website  Page Views Per Visit            Last Activity  \\\n",
       "0                            0                   0.0  Page Visited on Website   \n",
       "1                          674                   2.5             Email Opened   \n",
       "\n",
       "  Country Specialization    City Last Notable Activity  \n",
       "0   India         Select  Select              Modified  \n",
       "1   India         Select  Select          Email Opened  "
      ]
     },
     "execution_count": 81,
     "metadata": {},
     "output_type": "execute_result"
    }
   ],
   "source": [
    "df.head(2)"
   ]
  },
  {
   "cell_type": "code",
   "execution_count": 82,
   "id": "64f20fb1",
   "metadata": {},
   "outputs": [],
   "source": [
    "dum_col = ['Lead Origin','Lead Source','Last Activity','Specialization','City','Last Notable Activity']"
   ]
  },
  {
   "cell_type": "code",
   "execution_count": 83,
   "id": "d53e3a65",
   "metadata": {},
   "outputs": [],
   "source": [
    "dummy = pd.get_dummies(df[dum_col], drop_first=True, dtype=int)"
   ]
  },
  {
   "cell_type": "code",
   "execution_count": 84,
   "id": "6a914ffa",
   "metadata": {},
   "outputs": [],
   "source": [
    "df = pd.concat([df,dummy], axis=1)"
   ]
  },
  {
   "cell_type": "code",
   "execution_count": 85,
   "id": "01250c6b",
   "metadata": {},
   "outputs": [
    {
     "data": {
      "text/html": [
       "<div>\n",
       "<style scoped>\n",
       "    .dataframe tbody tr th:only-of-type {\n",
       "        vertical-align: middle;\n",
       "    }\n",
       "\n",
       "    .dataframe tbody tr th {\n",
       "        vertical-align: top;\n",
       "    }\n",
       "\n",
       "    .dataframe thead th {\n",
       "        text-align: right;\n",
       "    }\n",
       "</style>\n",
       "<table border=\"1\" class=\"dataframe\">\n",
       "  <thead>\n",
       "    <tr style=\"text-align: right;\">\n",
       "      <th></th>\n",
       "      <th>Prospect ID</th>\n",
       "      <th>Lead Number</th>\n",
       "      <th>Lead Origin</th>\n",
       "      <th>Lead Source</th>\n",
       "      <th>Do Not Email</th>\n",
       "      <th>Do Not Call</th>\n",
       "      <th>Converted</th>\n",
       "      <th>TotalVisits</th>\n",
       "      <th>Total Time Spent on Website</th>\n",
       "      <th>Page Views Per Visit</th>\n",
       "      <th>...</th>\n",
       "      <th>City_Tier II Cities</th>\n",
       "      <th>Last Notable Activity_Email Link Clicked</th>\n",
       "      <th>Last Notable Activity_Email Opened</th>\n",
       "      <th>Last Notable Activity_Modified</th>\n",
       "      <th>Last Notable Activity_Olark Chat Conversation</th>\n",
       "      <th>Last Notable Activity_Others Activity</th>\n",
       "      <th>Last Notable Activity_Page Visited on Website</th>\n",
       "      <th>Last Notable Activity_SMS Sent</th>\n",
       "      <th>Last Notable Activity_Unreachable</th>\n",
       "      <th>Last Notable Activity_Unsubscribed</th>\n",
       "    </tr>\n",
       "  </thead>\n",
       "  <tbody>\n",
       "    <tr>\n",
       "      <th>0</th>\n",
       "      <td>7927b2df-8bba-4d29-b9a2-b6e0beafe620</td>\n",
       "      <td>660737</td>\n",
       "      <td>API</td>\n",
       "      <td>Olark Chat</td>\n",
       "      <td>0</td>\n",
       "      <td>0</td>\n",
       "      <td>0</td>\n",
       "      <td>0.0</td>\n",
       "      <td>0</td>\n",
       "      <td>0.0</td>\n",
       "      <td>...</td>\n",
       "      <td>0</td>\n",
       "      <td>0</td>\n",
       "      <td>0</td>\n",
       "      <td>1</td>\n",
       "      <td>0</td>\n",
       "      <td>0</td>\n",
       "      <td>0</td>\n",
       "      <td>0</td>\n",
       "      <td>0</td>\n",
       "      <td>0</td>\n",
       "    </tr>\n",
       "    <tr>\n",
       "      <th>1</th>\n",
       "      <td>2a272436-5132-4136-86fa-dcc88c88f482</td>\n",
       "      <td>660728</td>\n",
       "      <td>API</td>\n",
       "      <td>Organic Search</td>\n",
       "      <td>0</td>\n",
       "      <td>0</td>\n",
       "      <td>0</td>\n",
       "      <td>5.0</td>\n",
       "      <td>674</td>\n",
       "      <td>2.5</td>\n",
       "      <td>...</td>\n",
       "      <td>0</td>\n",
       "      <td>0</td>\n",
       "      <td>1</td>\n",
       "      <td>0</td>\n",
       "      <td>0</td>\n",
       "      <td>0</td>\n",
       "      <td>0</td>\n",
       "      <td>0</td>\n",
       "      <td>0</td>\n",
       "      <td>0</td>\n",
       "    </tr>\n",
       "  </tbody>\n",
       "</table>\n",
       "<p>2 rows × 70 columns</p>\n",
       "</div>"
      ],
      "text/plain": [
       "                            Prospect ID  Lead Number Lead Origin  \\\n",
       "0  7927b2df-8bba-4d29-b9a2-b6e0beafe620       660737         API   \n",
       "1  2a272436-5132-4136-86fa-dcc88c88f482       660728         API   \n",
       "\n",
       "      Lead Source  Do Not Email  Do Not Call  Converted  TotalVisits  \\\n",
       "0      Olark Chat             0            0          0          0.0   \n",
       "1  Organic Search             0            0          0          5.0   \n",
       "\n",
       "   Total Time Spent on Website  Page Views Per Visit  ... City_Tier II Cities  \\\n",
       "0                            0                   0.0  ...                   0   \n",
       "1                          674                   2.5  ...                   0   \n",
       "\n",
       "  Last Notable Activity_Email Link Clicked Last Notable Activity_Email Opened  \\\n",
       "0                                        0                                  0   \n",
       "1                                        0                                  1   \n",
       "\n",
       "  Last Notable Activity_Modified  \\\n",
       "0                              1   \n",
       "1                              0   \n",
       "\n",
       "  Last Notable Activity_Olark Chat Conversation  \\\n",
       "0                                             0   \n",
       "1                                             0   \n",
       "\n",
       "   Last Notable Activity_Others Activity  \\\n",
       "0                                      0   \n",
       "1                                      0   \n",
       "\n",
       "   Last Notable Activity_Page Visited on Website  \\\n",
       "0                                              0   \n",
       "1                                              0   \n",
       "\n",
       "   Last Notable Activity_SMS Sent  Last Notable Activity_Unreachable  \\\n",
       "0                               0                                  0   \n",
       "1                               0                                  0   \n",
       "\n",
       "   Last Notable Activity_Unsubscribed  \n",
       "0                                   0  \n",
       "1                                   0  \n",
       "\n",
       "[2 rows x 70 columns]"
      ]
     },
     "execution_count": 85,
     "metadata": {},
     "output_type": "execute_result"
    }
   ],
   "source": [
    "df.head(2)"
   ]
  },
  {
   "cell_type": "code",
   "execution_count": 86,
   "id": "9d271cd5",
   "metadata": {},
   "outputs": [
    {
     "data": {
      "text/plain": [
       "(7643, 70)"
      ]
     },
     "execution_count": 86,
     "metadata": {},
     "output_type": "execute_result"
    }
   ],
   "source": [
    "df.shape"
   ]
  },
  {
   "cell_type": "code",
   "execution_count": 87,
   "id": "8b7920d4",
   "metadata": {},
   "outputs": [
    {
     "name": "stdout",
     "output_type": "stream",
     "text": [
      "<class 'pandas.core.frame.DataFrame'>\n",
      "Int64Index: 7643 entries, 0 to 9239\n",
      "Data columns (total 70 columns):\n",
      " #   Column                                         Non-Null Count  Dtype  \n",
      "---  ------                                         --------------  -----  \n",
      " 0   Prospect ID                                    7643 non-null   object \n",
      " 1   Lead Number                                    7643 non-null   int64  \n",
      " 2   Lead Origin                                    7643 non-null   object \n",
      " 3   Lead Source                                    7643 non-null   object \n",
      " 4   Do Not Email                                   7643 non-null   int64  \n",
      " 5   Do Not Call                                    7643 non-null   int64  \n",
      " 6   Converted                                      7643 non-null   int64  \n",
      " 7   TotalVisits                                    7643 non-null   float64\n",
      " 8   Total Time Spent on Website                    7643 non-null   int64  \n",
      " 9   Page Views Per Visit                           7643 non-null   float64\n",
      " 10  Last Activity                                  7643 non-null   object \n",
      " 11  Country                                        7643 non-null   object \n",
      " 12  Specialization                                 7643 non-null   object \n",
      " 13  City                                           7643 non-null   object \n",
      " 14  Last Notable Activity                          7643 non-null   object \n",
      " 15  Lead Origin_Landing Page Submission            7643 non-null   int32  \n",
      " 16  Lead Origin_Lead Add Form                      7643 non-null   int32  \n",
      " 17  Lead Origin_Lead Import                        7643 non-null   int32  \n",
      " 18  Lead Source_Facebook                           7643 non-null   int32  \n",
      " 19  Lead Source_Google                             7643 non-null   int32  \n",
      " 20  Lead Source_Olark Chat                         7643 non-null   int32  \n",
      " 21  Lead Source_Organic Search                     7643 non-null   int32  \n",
      " 22  Lead Source_Others                             7643 non-null   int32  \n",
      " 23  Lead Source_Reference                          7643 non-null   int32  \n",
      " 24  Lead Source_Referral Sites                     7643 non-null   int32  \n",
      " 25  Lead Source_Welingak Website                   7643 non-null   int32  \n",
      " 26  Last Activity_Email Bounced                    7643 non-null   int32  \n",
      " 27  Last Activity_Email Link Clicked               7643 non-null   int32  \n",
      " 28  Last Activity_Email Opened                     7643 non-null   int32  \n",
      " 29  Last Activity_Form Submitted on Website        7643 non-null   int32  \n",
      " 30  Last Activity_Had a Phone Conversation         7643 non-null   int32  \n",
      " 31  Last Activity_Olark Chat Conversation          7643 non-null   int32  \n",
      " 32  Last Activity_Other Activity                   7643 non-null   int32  \n",
      " 33  Last Activity_Page Visited on Website          7643 non-null   int32  \n",
      " 34  Last Activity_SMS Sent                         7643 non-null   int32  \n",
      " 35  Last Activity_Unreachable                      7643 non-null   int32  \n",
      " 36  Last Activity_Unsubscribed                     7643 non-null   int32  \n",
      " 37  Specialization_Business Administration         7643 non-null   int32  \n",
      " 38  Specialization_E-Business                      7643 non-null   int32  \n",
      " 39  Specialization_E-COMMERCE                      7643 non-null   int32  \n",
      " 40  Specialization_Finance Management              7643 non-null   int32  \n",
      " 41  Specialization_Healthcare Management           7643 non-null   int32  \n",
      " 42  Specialization_Hospitality Management          7643 non-null   int32  \n",
      " 43  Specialization_Human Resource Management       7643 non-null   int32  \n",
      " 44  Specialization_IT Projects Management          7643 non-null   int32  \n",
      " 45  Specialization_International Business          7643 non-null   int32  \n",
      " 46  Specialization_Marketing Management            7643 non-null   int32  \n",
      " 47  Specialization_Media and Advertising           7643 non-null   int32  \n",
      " 48  Specialization_Operations Management           7643 non-null   int32  \n",
      " 49  Specialization_Retail Management               7643 non-null   int32  \n",
      " 50  Specialization_Rural and Agribusiness          7643 non-null   int32  \n",
      " 51  Specialization_Select                          7643 non-null   int32  \n",
      " 52  Specialization_Services Excellence             7643 non-null   int32  \n",
      " 53  Specialization_Supply Chain Management         7643 non-null   int32  \n",
      " 54  Specialization_Travel and Tourism              7643 non-null   int32  \n",
      " 55  City_Other Cities                              7643 non-null   int32  \n",
      " 56  City_Other Cities of Maharashtra               7643 non-null   int32  \n",
      " 57  City_Other Metro Cities                        7643 non-null   int32  \n",
      " 58  City_Select                                    7643 non-null   int32  \n",
      " 59  City_Thane & Outskirts                         7643 non-null   int32  \n",
      " 60  City_Tier II Cities                            7643 non-null   int32  \n",
      " 61  Last Notable Activity_Email Link Clicked       7643 non-null   int32  \n",
      " 62  Last Notable Activity_Email Opened             7643 non-null   int32  \n",
      " 63  Last Notable Activity_Modified                 7643 non-null   int32  \n",
      " 64  Last Notable Activity_Olark Chat Conversation  7643 non-null   int32  \n",
      " 65  Last Notable Activity_Others Activity          7643 non-null   int32  \n",
      " 66  Last Notable Activity_Page Visited on Website  7643 non-null   int32  \n",
      " 67  Last Notable Activity_SMS Sent                 7643 non-null   int32  \n",
      " 68  Last Notable Activity_Unreachable              7643 non-null   int32  \n",
      " 69  Last Notable Activity_Unsubscribed             7643 non-null   int32  \n",
      "dtypes: float64(2), int32(55), int64(5), object(8)\n",
      "memory usage: 2.8+ MB\n"
     ]
    }
   ],
   "source": [
    "df.info()"
   ]
  },
  {
   "cell_type": "markdown",
   "id": "12bfdfc5",
   "metadata": {},
   "source": [
    "#### Dropping the Original Columns"
   ]
  },
  {
   "cell_type": "code",
   "execution_count": 88,
   "id": "a0439b11",
   "metadata": {},
   "outputs": [],
   "source": [
    "df.drop(dum_col, axis=1, inplace=True)"
   ]
  },
  {
   "cell_type": "code",
   "execution_count": 89,
   "id": "09f4b6ee",
   "metadata": {},
   "outputs": [
    {
     "data": {
      "text/plain": [
       "(7643, 64)"
      ]
     },
     "execution_count": 89,
     "metadata": {},
     "output_type": "execute_result"
    }
   ],
   "source": [
    "df.shape"
   ]
  },
  {
   "cell_type": "code",
   "execution_count": 90,
   "id": "5efb1fdb",
   "metadata": {},
   "outputs": [
    {
     "name": "stdout",
     "output_type": "stream",
     "text": [
      "<class 'pandas.core.frame.DataFrame'>\n",
      "Int64Index: 7643 entries, 0 to 9239\n",
      "Data columns (total 64 columns):\n",
      " #   Column                                         Non-Null Count  Dtype  \n",
      "---  ------                                         --------------  -----  \n",
      " 0   Prospect ID                                    7643 non-null   object \n",
      " 1   Lead Number                                    7643 non-null   int64  \n",
      " 2   Do Not Email                                   7643 non-null   int64  \n",
      " 3   Do Not Call                                    7643 non-null   int64  \n",
      " 4   Converted                                      7643 non-null   int64  \n",
      " 5   TotalVisits                                    7643 non-null   float64\n",
      " 6   Total Time Spent on Website                    7643 non-null   int64  \n",
      " 7   Page Views Per Visit                           7643 non-null   float64\n",
      " 8   Country                                        7643 non-null   object \n",
      " 9   Lead Origin_Landing Page Submission            7643 non-null   int32  \n",
      " 10  Lead Origin_Lead Add Form                      7643 non-null   int32  \n",
      " 11  Lead Origin_Lead Import                        7643 non-null   int32  \n",
      " 12  Lead Source_Facebook                           7643 non-null   int32  \n",
      " 13  Lead Source_Google                             7643 non-null   int32  \n",
      " 14  Lead Source_Olark Chat                         7643 non-null   int32  \n",
      " 15  Lead Source_Organic Search                     7643 non-null   int32  \n",
      " 16  Lead Source_Others                             7643 non-null   int32  \n",
      " 17  Lead Source_Reference                          7643 non-null   int32  \n",
      " 18  Lead Source_Referral Sites                     7643 non-null   int32  \n",
      " 19  Lead Source_Welingak Website                   7643 non-null   int32  \n",
      " 20  Last Activity_Email Bounced                    7643 non-null   int32  \n",
      " 21  Last Activity_Email Link Clicked               7643 non-null   int32  \n",
      " 22  Last Activity_Email Opened                     7643 non-null   int32  \n",
      " 23  Last Activity_Form Submitted on Website        7643 non-null   int32  \n",
      " 24  Last Activity_Had a Phone Conversation         7643 non-null   int32  \n",
      " 25  Last Activity_Olark Chat Conversation          7643 non-null   int32  \n",
      " 26  Last Activity_Other Activity                   7643 non-null   int32  \n",
      " 27  Last Activity_Page Visited on Website          7643 non-null   int32  \n",
      " 28  Last Activity_SMS Sent                         7643 non-null   int32  \n",
      " 29  Last Activity_Unreachable                      7643 non-null   int32  \n",
      " 30  Last Activity_Unsubscribed                     7643 non-null   int32  \n",
      " 31  Specialization_Business Administration         7643 non-null   int32  \n",
      " 32  Specialization_E-Business                      7643 non-null   int32  \n",
      " 33  Specialization_E-COMMERCE                      7643 non-null   int32  \n",
      " 34  Specialization_Finance Management              7643 non-null   int32  \n",
      " 35  Specialization_Healthcare Management           7643 non-null   int32  \n",
      " 36  Specialization_Hospitality Management          7643 non-null   int32  \n",
      " 37  Specialization_Human Resource Management       7643 non-null   int32  \n",
      " 38  Specialization_IT Projects Management          7643 non-null   int32  \n",
      " 39  Specialization_International Business          7643 non-null   int32  \n",
      " 40  Specialization_Marketing Management            7643 non-null   int32  \n",
      " 41  Specialization_Media and Advertising           7643 non-null   int32  \n",
      " 42  Specialization_Operations Management           7643 non-null   int32  \n",
      " 43  Specialization_Retail Management               7643 non-null   int32  \n",
      " 44  Specialization_Rural and Agribusiness          7643 non-null   int32  \n",
      " 45  Specialization_Select                          7643 non-null   int32  \n",
      " 46  Specialization_Services Excellence             7643 non-null   int32  \n",
      " 47  Specialization_Supply Chain Management         7643 non-null   int32  \n",
      " 48  Specialization_Travel and Tourism              7643 non-null   int32  \n",
      " 49  City_Other Cities                              7643 non-null   int32  \n",
      " 50  City_Other Cities of Maharashtra               7643 non-null   int32  \n",
      " 51  City_Other Metro Cities                        7643 non-null   int32  \n",
      " 52  City_Select                                    7643 non-null   int32  \n",
      " 53  City_Thane & Outskirts                         7643 non-null   int32  \n",
      " 54  City_Tier II Cities                            7643 non-null   int32  \n",
      " 55  Last Notable Activity_Email Link Clicked       7643 non-null   int32  \n",
      " 56  Last Notable Activity_Email Opened             7643 non-null   int32  \n",
      " 57  Last Notable Activity_Modified                 7643 non-null   int32  \n",
      " 58  Last Notable Activity_Olark Chat Conversation  7643 non-null   int32  \n",
      " 59  Last Notable Activity_Others Activity          7643 non-null   int32  \n",
      " 60  Last Notable Activity_Page Visited on Website  7643 non-null   int32  \n",
      " 61  Last Notable Activity_SMS Sent                 7643 non-null   int32  \n",
      " 62  Last Notable Activity_Unreachable              7643 non-null   int32  \n",
      " 63  Last Notable Activity_Unsubscribed             7643 non-null   int32  \n",
      "dtypes: float64(2), int32(55), int64(5), object(2)\n",
      "memory usage: 2.4+ MB\n"
     ]
    }
   ],
   "source": [
    "df.info()"
   ]
  },
  {
   "cell_type": "code",
   "execution_count": 91,
   "id": "22611053",
   "metadata": {},
   "outputs": [],
   "source": [
    "df.drop(['Lead Number'], axis=1, inplace=True)"
   ]
  },
  {
   "cell_type": "code",
   "execution_count": 92,
   "id": "123bea3e",
   "metadata": {},
   "outputs": [
    {
     "data": {
      "text/html": [
       "<div>\n",
       "<style scoped>\n",
       "    .dataframe tbody tr th:only-of-type {\n",
       "        vertical-align: middle;\n",
       "    }\n",
       "\n",
       "    .dataframe tbody tr th {\n",
       "        vertical-align: top;\n",
       "    }\n",
       "\n",
       "    .dataframe thead th {\n",
       "        text-align: right;\n",
       "    }\n",
       "</style>\n",
       "<table border=\"1\" class=\"dataframe\">\n",
       "  <thead>\n",
       "    <tr style=\"text-align: right;\">\n",
       "      <th></th>\n",
       "      <th>Prospect ID</th>\n",
       "      <th>Do Not Email</th>\n",
       "      <th>Do Not Call</th>\n",
       "      <th>Converted</th>\n",
       "      <th>TotalVisits</th>\n",
       "      <th>Total Time Spent on Website</th>\n",
       "      <th>Page Views Per Visit</th>\n",
       "      <th>Country</th>\n",
       "      <th>Lead Origin_Landing Page Submission</th>\n",
       "      <th>Lead Origin_Lead Add Form</th>\n",
       "      <th>...</th>\n",
       "      <th>City_Tier II Cities</th>\n",
       "      <th>Last Notable Activity_Email Link Clicked</th>\n",
       "      <th>Last Notable Activity_Email Opened</th>\n",
       "      <th>Last Notable Activity_Modified</th>\n",
       "      <th>Last Notable Activity_Olark Chat Conversation</th>\n",
       "      <th>Last Notable Activity_Others Activity</th>\n",
       "      <th>Last Notable Activity_Page Visited on Website</th>\n",
       "      <th>Last Notable Activity_SMS Sent</th>\n",
       "      <th>Last Notable Activity_Unreachable</th>\n",
       "      <th>Last Notable Activity_Unsubscribed</th>\n",
       "    </tr>\n",
       "  </thead>\n",
       "  <tbody>\n",
       "    <tr>\n",
       "      <th>0</th>\n",
       "      <td>7927b2df-8bba-4d29-b9a2-b6e0beafe620</td>\n",
       "      <td>0</td>\n",
       "      <td>0</td>\n",
       "      <td>0</td>\n",
       "      <td>0.0</td>\n",
       "      <td>0</td>\n",
       "      <td>0.0</td>\n",
       "      <td>India</td>\n",
       "      <td>0</td>\n",
       "      <td>0</td>\n",
       "      <td>...</td>\n",
       "      <td>0</td>\n",
       "      <td>0</td>\n",
       "      <td>0</td>\n",
       "      <td>1</td>\n",
       "      <td>0</td>\n",
       "      <td>0</td>\n",
       "      <td>0</td>\n",
       "      <td>0</td>\n",
       "      <td>0</td>\n",
       "      <td>0</td>\n",
       "    </tr>\n",
       "    <tr>\n",
       "      <th>1</th>\n",
       "      <td>2a272436-5132-4136-86fa-dcc88c88f482</td>\n",
       "      <td>0</td>\n",
       "      <td>0</td>\n",
       "      <td>0</td>\n",
       "      <td>5.0</td>\n",
       "      <td>674</td>\n",
       "      <td>2.5</td>\n",
       "      <td>India</td>\n",
       "      <td>0</td>\n",
       "      <td>0</td>\n",
       "      <td>...</td>\n",
       "      <td>0</td>\n",
       "      <td>0</td>\n",
       "      <td>1</td>\n",
       "      <td>0</td>\n",
       "      <td>0</td>\n",
       "      <td>0</td>\n",
       "      <td>0</td>\n",
       "      <td>0</td>\n",
       "      <td>0</td>\n",
       "      <td>0</td>\n",
       "    </tr>\n",
       "    <tr>\n",
       "      <th>2</th>\n",
       "      <td>8cc8c611-a219-4f35-ad23-fdfd2656bd8a</td>\n",
       "      <td>0</td>\n",
       "      <td>0</td>\n",
       "      <td>1</td>\n",
       "      <td>2.0</td>\n",
       "      <td>1532</td>\n",
       "      <td>2.0</td>\n",
       "      <td>India</td>\n",
       "      <td>1</td>\n",
       "      <td>0</td>\n",
       "      <td>...</td>\n",
       "      <td>0</td>\n",
       "      <td>0</td>\n",
       "      <td>1</td>\n",
       "      <td>0</td>\n",
       "      <td>0</td>\n",
       "      <td>0</td>\n",
       "      <td>0</td>\n",
       "      <td>0</td>\n",
       "      <td>0</td>\n",
       "      <td>0</td>\n",
       "    </tr>\n",
       "    <tr>\n",
       "      <th>3</th>\n",
       "      <td>0cc2df48-7cf4-4e39-9de9-19797f9b38cc</td>\n",
       "      <td>0</td>\n",
       "      <td>0</td>\n",
       "      <td>0</td>\n",
       "      <td>1.0</td>\n",
       "      <td>305</td>\n",
       "      <td>1.0</td>\n",
       "      <td>India</td>\n",
       "      <td>1</td>\n",
       "      <td>0</td>\n",
       "      <td>...</td>\n",
       "      <td>0</td>\n",
       "      <td>0</td>\n",
       "      <td>0</td>\n",
       "      <td>1</td>\n",
       "      <td>0</td>\n",
       "      <td>0</td>\n",
       "      <td>0</td>\n",
       "      <td>0</td>\n",
       "      <td>0</td>\n",
       "      <td>0</td>\n",
       "    </tr>\n",
       "    <tr>\n",
       "      <th>4</th>\n",
       "      <td>3256f628-e534-4826-9d63-4a8b88782852</td>\n",
       "      <td>0</td>\n",
       "      <td>0</td>\n",
       "      <td>1</td>\n",
       "      <td>2.0</td>\n",
       "      <td>1428</td>\n",
       "      <td>1.0</td>\n",
       "      <td>India</td>\n",
       "      <td>1</td>\n",
       "      <td>0</td>\n",
       "      <td>...</td>\n",
       "      <td>0</td>\n",
       "      <td>0</td>\n",
       "      <td>0</td>\n",
       "      <td>1</td>\n",
       "      <td>0</td>\n",
       "      <td>0</td>\n",
       "      <td>0</td>\n",
       "      <td>0</td>\n",
       "      <td>0</td>\n",
       "      <td>0</td>\n",
       "    </tr>\n",
       "  </tbody>\n",
       "</table>\n",
       "<p>5 rows × 63 columns</p>\n",
       "</div>"
      ],
      "text/plain": [
       "                            Prospect ID  Do Not Email  Do Not Call  Converted  \\\n",
       "0  7927b2df-8bba-4d29-b9a2-b6e0beafe620             0            0          0   \n",
       "1  2a272436-5132-4136-86fa-dcc88c88f482             0            0          0   \n",
       "2  8cc8c611-a219-4f35-ad23-fdfd2656bd8a             0            0          1   \n",
       "3  0cc2df48-7cf4-4e39-9de9-19797f9b38cc             0            0          0   \n",
       "4  3256f628-e534-4826-9d63-4a8b88782852             0            0          1   \n",
       "\n",
       "   TotalVisits  Total Time Spent on Website  Page Views Per Visit Country  \\\n",
       "0          0.0                            0                   0.0   India   \n",
       "1          5.0                          674                   2.5   India   \n",
       "2          2.0                         1532                   2.0   India   \n",
       "3          1.0                          305                   1.0   India   \n",
       "4          2.0                         1428                   1.0   India   \n",
       "\n",
       "   Lead Origin_Landing Page Submission  Lead Origin_Lead Add Form  ...  \\\n",
       "0                                    0                          0  ...   \n",
       "1                                    0                          0  ...   \n",
       "2                                    1                          0  ...   \n",
       "3                                    1                          0  ...   \n",
       "4                                    1                          0  ...   \n",
       "\n",
       "   City_Tier II Cities  Last Notable Activity_Email Link Clicked  \\\n",
       "0                    0                                         0   \n",
       "1                    0                                         0   \n",
       "2                    0                                         0   \n",
       "3                    0                                         0   \n",
       "4                    0                                         0   \n",
       "\n",
       "   Last Notable Activity_Email Opened  Last Notable Activity_Modified  \\\n",
       "0                                   0                               1   \n",
       "1                                   1                               0   \n",
       "2                                   1                               0   \n",
       "3                                   0                               1   \n",
       "4                                   0                               1   \n",
       "\n",
       "   Last Notable Activity_Olark Chat Conversation  \\\n",
       "0                                              0   \n",
       "1                                              0   \n",
       "2                                              0   \n",
       "3                                              0   \n",
       "4                                              0   \n",
       "\n",
       "   Last Notable Activity_Others Activity  \\\n",
       "0                                      0   \n",
       "1                                      0   \n",
       "2                                      0   \n",
       "3                                      0   \n",
       "4                                      0   \n",
       "\n",
       "   Last Notable Activity_Page Visited on Website  \\\n",
       "0                                              0   \n",
       "1                                              0   \n",
       "2                                              0   \n",
       "3                                              0   \n",
       "4                                              0   \n",
       "\n",
       "   Last Notable Activity_SMS Sent  Last Notable Activity_Unreachable  \\\n",
       "0                               0                                  0   \n",
       "1                               0                                  0   \n",
       "2                               0                                  0   \n",
       "3                               0                                  0   \n",
       "4                               0                                  0   \n",
       "\n",
       "   Last Notable Activity_Unsubscribed  \n",
       "0                                   0  \n",
       "1                                   0  \n",
       "2                                   0  \n",
       "3                                   0  \n",
       "4                                   0  \n",
       "\n",
       "[5 rows x 63 columns]"
      ]
     },
     "execution_count": 92,
     "metadata": {},
     "output_type": "execute_result"
    }
   ],
   "source": [
    "df.head()"
   ]
  },
  {
   "cell_type": "code",
   "execution_count": 93,
   "id": "2b1a70ae",
   "metadata": {},
   "outputs": [],
   "source": [
    "X = df.drop(['Prospect ID','Converted','Country'],axis=1)\n",
    "y = df.Converted"
   ]
  },
  {
   "cell_type": "code",
   "execution_count": 94,
   "id": "4da802a4",
   "metadata": {},
   "outputs": [
    {
     "data": {
      "text/plain": [
       "0    0\n",
       "1    0\n",
       "2    1\n",
       "3    0\n",
       "4    1\n",
       "Name: Converted, dtype: int64"
      ]
     },
     "execution_count": 94,
     "metadata": {},
     "output_type": "execute_result"
    }
   ],
   "source": [
    "y.head()"
   ]
  },
  {
   "cell_type": "code",
   "execution_count": 95,
   "id": "beb73b9c",
   "metadata": {},
   "outputs": [
    {
     "data": {
      "text/plain": [
       "((7643, 60), (7643,))"
      ]
     },
     "execution_count": 95,
     "metadata": {},
     "output_type": "execute_result"
    }
   ],
   "source": [
    "X.shape, y.shape"
   ]
  },
  {
   "cell_type": "markdown",
   "id": "0a0fc4ee",
   "metadata": {},
   "source": [
    "## Splitting the Data into Trian and Test"
   ]
  },
  {
   "cell_type": "code",
   "execution_count": 96,
   "id": "c928d683",
   "metadata": {},
   "outputs": [],
   "source": [
    "X_train, X_test, y_train, y_test = train_test_split(X, y, test_size=0.3, random_state=100 )"
   ]
  },
  {
   "cell_type": "code",
   "execution_count": 97,
   "id": "d20b958b",
   "metadata": {},
   "outputs": [
    {
     "name": "stdout",
     "output_type": "stream",
     "text": [
      "Shape of X_train : (5350, 60)\n",
      "Shape of X_test : (2293, 60)\n",
      "Shape of y_train : (5350,)\n",
      "Shape of y_test : (2293,)\n"
     ]
    }
   ],
   "source": [
    "print('Shape of X_train :', X_train.shape)\n",
    "print('Shape of X_test :', X_test.shape)\n",
    "print('Shape of y_train :', y_train.shape)\n",
    "print('Shape of y_test :', y_test.shape)"
   ]
  },
  {
   "cell_type": "markdown",
   "id": "f59764b4",
   "metadata": {},
   "source": [
    "## Data Standardisation"
   ]
  },
  {
   "cell_type": "code",
   "execution_count": 98,
   "id": "aed45904",
   "metadata": {},
   "outputs": [],
   "source": [
    "scaler = MinMaxScaler()\n",
    "X_train_scaled = scaler.fit_transform(X_train)\n",
    "X_test_scaled = scaler.transform(X_test)"
   ]
  },
  {
   "cell_type": "code",
   "execution_count": 99,
   "id": "66e88419",
   "metadata": {},
   "outputs": [
    {
     "name": "stdout",
     "output_type": "stream",
     "text": [
      "<class 'pandas.core.frame.DataFrame'>\n",
      "Int64Index: 5350 entries, 9023 to 6840\n",
      "Data columns (total 60 columns):\n",
      " #   Column                                         Non-Null Count  Dtype  \n",
      "---  ------                                         --------------  -----  \n",
      " 0   Do Not Email                                   5350 non-null   int64  \n",
      " 1   Do Not Call                                    5350 non-null   int64  \n",
      " 2   TotalVisits                                    5350 non-null   float64\n",
      " 3   Total Time Spent on Website                    5350 non-null   int64  \n",
      " 4   Page Views Per Visit                           5350 non-null   float64\n",
      " 5   Lead Origin_Landing Page Submission            5350 non-null   int32  \n",
      " 6   Lead Origin_Lead Add Form                      5350 non-null   int32  \n",
      " 7   Lead Origin_Lead Import                        5350 non-null   int32  \n",
      " 8   Lead Source_Facebook                           5350 non-null   int32  \n",
      " 9   Lead Source_Google                             5350 non-null   int32  \n",
      " 10  Lead Source_Olark Chat                         5350 non-null   int32  \n",
      " 11  Lead Source_Organic Search                     5350 non-null   int32  \n",
      " 12  Lead Source_Others                             5350 non-null   int32  \n",
      " 13  Lead Source_Reference                          5350 non-null   int32  \n",
      " 14  Lead Source_Referral Sites                     5350 non-null   int32  \n",
      " 15  Lead Source_Welingak Website                   5350 non-null   int32  \n",
      " 16  Last Activity_Email Bounced                    5350 non-null   int32  \n",
      " 17  Last Activity_Email Link Clicked               5350 non-null   int32  \n",
      " 18  Last Activity_Email Opened                     5350 non-null   int32  \n",
      " 19  Last Activity_Form Submitted on Website        5350 non-null   int32  \n",
      " 20  Last Activity_Had a Phone Conversation         5350 non-null   int32  \n",
      " 21  Last Activity_Olark Chat Conversation          5350 non-null   int32  \n",
      " 22  Last Activity_Other Activity                   5350 non-null   int32  \n",
      " 23  Last Activity_Page Visited on Website          5350 non-null   int32  \n",
      " 24  Last Activity_SMS Sent                         5350 non-null   int32  \n",
      " 25  Last Activity_Unreachable                      5350 non-null   int32  \n",
      " 26  Last Activity_Unsubscribed                     5350 non-null   int32  \n",
      " 27  Specialization_Business Administration         5350 non-null   int32  \n",
      " 28  Specialization_E-Business                      5350 non-null   int32  \n",
      " 29  Specialization_E-COMMERCE                      5350 non-null   int32  \n",
      " 30  Specialization_Finance Management              5350 non-null   int32  \n",
      " 31  Specialization_Healthcare Management           5350 non-null   int32  \n",
      " 32  Specialization_Hospitality Management          5350 non-null   int32  \n",
      " 33  Specialization_Human Resource Management       5350 non-null   int32  \n",
      " 34  Specialization_IT Projects Management          5350 non-null   int32  \n",
      " 35  Specialization_International Business          5350 non-null   int32  \n",
      " 36  Specialization_Marketing Management            5350 non-null   int32  \n",
      " 37  Specialization_Media and Advertising           5350 non-null   int32  \n",
      " 38  Specialization_Operations Management           5350 non-null   int32  \n",
      " 39  Specialization_Retail Management               5350 non-null   int32  \n",
      " 40  Specialization_Rural and Agribusiness          5350 non-null   int32  \n",
      " 41  Specialization_Select                          5350 non-null   int32  \n",
      " 42  Specialization_Services Excellence             5350 non-null   int32  \n",
      " 43  Specialization_Supply Chain Management         5350 non-null   int32  \n",
      " 44  Specialization_Travel and Tourism              5350 non-null   int32  \n",
      " 45  City_Other Cities                              5350 non-null   int32  \n",
      " 46  City_Other Cities of Maharashtra               5350 non-null   int32  \n",
      " 47  City_Other Metro Cities                        5350 non-null   int32  \n",
      " 48  City_Select                                    5350 non-null   int32  \n",
      " 49  City_Thane & Outskirts                         5350 non-null   int32  \n",
      " 50  City_Tier II Cities                            5350 non-null   int32  \n",
      " 51  Last Notable Activity_Email Link Clicked       5350 non-null   int32  \n",
      " 52  Last Notable Activity_Email Opened             5350 non-null   int32  \n",
      " 53  Last Notable Activity_Modified                 5350 non-null   int32  \n",
      " 54  Last Notable Activity_Olark Chat Conversation  5350 non-null   int32  \n",
      " 55  Last Notable Activity_Others Activity          5350 non-null   int32  \n",
      " 56  Last Notable Activity_Page Visited on Website  5350 non-null   int32  \n",
      " 57  Last Notable Activity_SMS Sent                 5350 non-null   int32  \n",
      " 58  Last Notable Activity_Unreachable              5350 non-null   int32  \n",
      " 59  Last Notable Activity_Unsubscribed             5350 non-null   int32  \n",
      "dtypes: float64(2), int32(55), int64(3)\n",
      "memory usage: 1.4 MB\n"
     ]
    }
   ],
   "source": [
    "X_train.info()"
   ]
  },
  {
   "cell_type": "code",
   "execution_count": 100,
   "id": "301b6636",
   "metadata": {},
   "outputs": [],
   "source": [
    "# Converting standardised scaler data into dataframe\n",
    "\n",
    "X_train_scaled = pd.DataFrame(X_train_scaled, columns=X_train.columns)\n",
    "X_test_scaled = pd.DataFrame(X_test_scaled, columns=X_test.columns)"
   ]
  },
  {
   "cell_type": "code",
   "execution_count": 101,
   "id": "b817127e",
   "metadata": {},
   "outputs": [
    {
     "data": {
      "text/html": [
       "<div>\n",
       "<style scoped>\n",
       "    .dataframe tbody tr th:only-of-type {\n",
       "        vertical-align: middle;\n",
       "    }\n",
       "\n",
       "    .dataframe tbody tr th {\n",
       "        vertical-align: top;\n",
       "    }\n",
       "\n",
       "    .dataframe thead th {\n",
       "        text-align: right;\n",
       "    }\n",
       "</style>\n",
       "<table border=\"1\" class=\"dataframe\">\n",
       "  <thead>\n",
       "    <tr style=\"text-align: right;\">\n",
       "      <th></th>\n",
       "      <th>Do Not Email</th>\n",
       "      <th>Do Not Call</th>\n",
       "      <th>TotalVisits</th>\n",
       "      <th>Total Time Spent on Website</th>\n",
       "      <th>Page Views Per Visit</th>\n",
       "      <th>Lead Origin_Landing Page Submission</th>\n",
       "      <th>Lead Origin_Lead Add Form</th>\n",
       "      <th>Lead Origin_Lead Import</th>\n",
       "      <th>Lead Source_Facebook</th>\n",
       "      <th>Lead Source_Google</th>\n",
       "      <th>...</th>\n",
       "      <th>City_Tier II Cities</th>\n",
       "      <th>Last Notable Activity_Email Link Clicked</th>\n",
       "      <th>Last Notable Activity_Email Opened</th>\n",
       "      <th>Last Notable Activity_Modified</th>\n",
       "      <th>Last Notable Activity_Olark Chat Conversation</th>\n",
       "      <th>Last Notable Activity_Others Activity</th>\n",
       "      <th>Last Notable Activity_Page Visited on Website</th>\n",
       "      <th>Last Notable Activity_SMS Sent</th>\n",
       "      <th>Last Notable Activity_Unreachable</th>\n",
       "      <th>Last Notable Activity_Unsubscribed</th>\n",
       "    </tr>\n",
       "  </thead>\n",
       "  <tbody>\n",
       "    <tr>\n",
       "      <th>count</th>\n",
       "      <td>5350.000000</td>\n",
       "      <td>5350.000000</td>\n",
       "      <td>5350.000000</td>\n",
       "      <td>5350.000000</td>\n",
       "      <td>5350.000000</td>\n",
       "      <td>5350.000000</td>\n",
       "      <td>5350.000000</td>\n",
       "      <td>5350.000000</td>\n",
       "      <td>5350.000000</td>\n",
       "      <td>5350.000000</td>\n",
       "      <td>...</td>\n",
       "      <td>5350.000000</td>\n",
       "      <td>5350.000000</td>\n",
       "      <td>5350.000000</td>\n",
       "      <td>5350.00000</td>\n",
       "      <td>5350.000000</td>\n",
       "      <td>5350.000000</td>\n",
       "      <td>5350.000000</td>\n",
       "      <td>5350.000000</td>\n",
       "      <td>5350.000000</td>\n",
       "      <td>5350.000000</td>\n",
       "    </tr>\n",
       "    <tr>\n",
       "      <th>mean</th>\n",
       "      <td>0.082056</td>\n",
       "      <td>0.000374</td>\n",
       "      <td>0.351159</td>\n",
       "      <td>0.234430</td>\n",
       "      <td>0.416634</td>\n",
       "      <td>0.633084</td>\n",
       "      <td>0.077944</td>\n",
       "      <td>0.004299</td>\n",
       "      <td>0.004299</td>\n",
       "      <td>0.328224</td>\n",
       "      <td>...</td>\n",
       "      <td>0.009533</td>\n",
       "      <td>0.017383</td>\n",
       "      <td>0.324673</td>\n",
       "      <td>0.32243</td>\n",
       "      <td>0.012336</td>\n",
       "      <td>0.002991</td>\n",
       "      <td>0.033458</td>\n",
       "      <td>0.268037</td>\n",
       "      <td>0.004860</td>\n",
       "      <td>0.005794</td>\n",
       "    </tr>\n",
       "    <tr>\n",
       "      <th>std</th>\n",
       "      <td>0.274476</td>\n",
       "      <td>0.019333</td>\n",
       "      <td>0.277965</td>\n",
       "      <td>0.243792</td>\n",
       "      <td>0.293513</td>\n",
       "      <td>0.482008</td>\n",
       "      <td>0.268108</td>\n",
       "      <td>0.065432</td>\n",
       "      <td>0.065432</td>\n",
       "      <td>0.469611</td>\n",
       "      <td>...</td>\n",
       "      <td>0.097178</td>\n",
       "      <td>0.130707</td>\n",
       "      <td>0.468296</td>\n",
       "      <td>0.46745</td>\n",
       "      <td>0.110393</td>\n",
       "      <td>0.054610</td>\n",
       "      <td>0.179846</td>\n",
       "      <td>0.442979</td>\n",
       "      <td>0.069549</td>\n",
       "      <td>0.075907</td>\n",
       "    </tr>\n",
       "    <tr>\n",
       "      <th>min</th>\n",
       "      <td>0.000000</td>\n",
       "      <td>0.000000</td>\n",
       "      <td>0.000000</td>\n",
       "      <td>0.000000</td>\n",
       "      <td>0.000000</td>\n",
       "      <td>0.000000</td>\n",
       "      <td>0.000000</td>\n",
       "      <td>0.000000</td>\n",
       "      <td>0.000000</td>\n",
       "      <td>0.000000</td>\n",
       "      <td>...</td>\n",
       "      <td>0.000000</td>\n",
       "      <td>0.000000</td>\n",
       "      <td>0.000000</td>\n",
       "      <td>0.00000</td>\n",
       "      <td>0.000000</td>\n",
       "      <td>0.000000</td>\n",
       "      <td>0.000000</td>\n",
       "      <td>0.000000</td>\n",
       "      <td>0.000000</td>\n",
       "      <td>0.000000</td>\n",
       "    </tr>\n",
       "    <tr>\n",
       "      <th>25%</th>\n",
       "      <td>0.000000</td>\n",
       "      <td>0.000000</td>\n",
       "      <td>0.200000</td>\n",
       "      <td>0.025088</td>\n",
       "      <td>0.208333</td>\n",
       "      <td>0.000000</td>\n",
       "      <td>0.000000</td>\n",
       "      <td>0.000000</td>\n",
       "      <td>0.000000</td>\n",
       "      <td>0.000000</td>\n",
       "      <td>...</td>\n",
       "      <td>0.000000</td>\n",
       "      <td>0.000000</td>\n",
       "      <td>0.000000</td>\n",
       "      <td>0.00000</td>\n",
       "      <td>0.000000</td>\n",
       "      <td>0.000000</td>\n",
       "      <td>0.000000</td>\n",
       "      <td>0.000000</td>\n",
       "      <td>0.000000</td>\n",
       "      <td>0.000000</td>\n",
       "    </tr>\n",
       "    <tr>\n",
       "      <th>50%</th>\n",
       "      <td>0.000000</td>\n",
       "      <td>0.000000</td>\n",
       "      <td>0.300000</td>\n",
       "      <td>0.129621</td>\n",
       "      <td>0.333333</td>\n",
       "      <td>1.000000</td>\n",
       "      <td>0.000000</td>\n",
       "      <td>0.000000</td>\n",
       "      <td>0.000000</td>\n",
       "      <td>0.000000</td>\n",
       "      <td>...</td>\n",
       "      <td>0.000000</td>\n",
       "      <td>0.000000</td>\n",
       "      <td>0.000000</td>\n",
       "      <td>0.00000</td>\n",
       "      <td>0.000000</td>\n",
       "      <td>0.000000</td>\n",
       "      <td>0.000000</td>\n",
       "      <td>0.000000</td>\n",
       "      <td>0.000000</td>\n",
       "      <td>0.000000</td>\n",
       "    </tr>\n",
       "    <tr>\n",
       "      <th>75%</th>\n",
       "      <td>0.000000</td>\n",
       "      <td>0.000000</td>\n",
       "      <td>0.500000</td>\n",
       "      <td>0.446193</td>\n",
       "      <td>0.666667</td>\n",
       "      <td>1.000000</td>\n",
       "      <td>0.000000</td>\n",
       "      <td>0.000000</td>\n",
       "      <td>0.000000</td>\n",
       "      <td>1.000000</td>\n",
       "      <td>...</td>\n",
       "      <td>0.000000</td>\n",
       "      <td>0.000000</td>\n",
       "      <td>1.000000</td>\n",
       "      <td>1.00000</td>\n",
       "      <td>0.000000</td>\n",
       "      <td>0.000000</td>\n",
       "      <td>0.000000</td>\n",
       "      <td>1.000000</td>\n",
       "      <td>0.000000</td>\n",
       "      <td>0.000000</td>\n",
       "    </tr>\n",
       "    <tr>\n",
       "      <th>max</th>\n",
       "      <td>1.000000</td>\n",
       "      <td>1.000000</td>\n",
       "      <td>1.000000</td>\n",
       "      <td>1.000000</td>\n",
       "      <td>1.000000</td>\n",
       "      <td>1.000000</td>\n",
       "      <td>1.000000</td>\n",
       "      <td>1.000000</td>\n",
       "      <td>1.000000</td>\n",
       "      <td>1.000000</td>\n",
       "      <td>...</td>\n",
       "      <td>1.000000</td>\n",
       "      <td>1.000000</td>\n",
       "      <td>1.000000</td>\n",
       "      <td>1.00000</td>\n",
       "      <td>1.000000</td>\n",
       "      <td>1.000000</td>\n",
       "      <td>1.000000</td>\n",
       "      <td>1.000000</td>\n",
       "      <td>1.000000</td>\n",
       "      <td>1.000000</td>\n",
       "    </tr>\n",
       "  </tbody>\n",
       "</table>\n",
       "<p>8 rows × 60 columns</p>\n",
       "</div>"
      ],
      "text/plain": [
       "       Do Not Email  Do Not Call  TotalVisits  Total Time Spent on Website  \\\n",
       "count   5350.000000  5350.000000  5350.000000                  5350.000000   \n",
       "mean       0.082056     0.000374     0.351159                     0.234430   \n",
       "std        0.274476     0.019333     0.277965                     0.243792   \n",
       "min        0.000000     0.000000     0.000000                     0.000000   \n",
       "25%        0.000000     0.000000     0.200000                     0.025088   \n",
       "50%        0.000000     0.000000     0.300000                     0.129621   \n",
       "75%        0.000000     0.000000     0.500000                     0.446193   \n",
       "max        1.000000     1.000000     1.000000                     1.000000   \n",
       "\n",
       "       Page Views Per Visit  Lead Origin_Landing Page Submission  \\\n",
       "count           5350.000000                          5350.000000   \n",
       "mean               0.416634                             0.633084   \n",
       "std                0.293513                             0.482008   \n",
       "min                0.000000                             0.000000   \n",
       "25%                0.208333                             0.000000   \n",
       "50%                0.333333                             1.000000   \n",
       "75%                0.666667                             1.000000   \n",
       "max                1.000000                             1.000000   \n",
       "\n",
       "       Lead Origin_Lead Add Form  Lead Origin_Lead Import  \\\n",
       "count                5350.000000              5350.000000   \n",
       "mean                    0.077944                 0.004299   \n",
       "std                     0.268108                 0.065432   \n",
       "min                     0.000000                 0.000000   \n",
       "25%                     0.000000                 0.000000   \n",
       "50%                     0.000000                 0.000000   \n",
       "75%                     0.000000                 0.000000   \n",
       "max                     1.000000                 1.000000   \n",
       "\n",
       "       Lead Source_Facebook  Lead Source_Google  ...  City_Tier II Cities  \\\n",
       "count           5350.000000         5350.000000  ...          5350.000000   \n",
       "mean               0.004299            0.328224  ...             0.009533   \n",
       "std                0.065432            0.469611  ...             0.097178   \n",
       "min                0.000000            0.000000  ...             0.000000   \n",
       "25%                0.000000            0.000000  ...             0.000000   \n",
       "50%                0.000000            0.000000  ...             0.000000   \n",
       "75%                0.000000            1.000000  ...             0.000000   \n",
       "max                1.000000            1.000000  ...             1.000000   \n",
       "\n",
       "       Last Notable Activity_Email Link Clicked  \\\n",
       "count                               5350.000000   \n",
       "mean                                   0.017383   \n",
       "std                                    0.130707   \n",
       "min                                    0.000000   \n",
       "25%                                    0.000000   \n",
       "50%                                    0.000000   \n",
       "75%                                    0.000000   \n",
       "max                                    1.000000   \n",
       "\n",
       "       Last Notable Activity_Email Opened  Last Notable Activity_Modified  \\\n",
       "count                         5350.000000                      5350.00000   \n",
       "mean                             0.324673                         0.32243   \n",
       "std                              0.468296                         0.46745   \n",
       "min                              0.000000                         0.00000   \n",
       "25%                              0.000000                         0.00000   \n",
       "50%                              0.000000                         0.00000   \n",
       "75%                              1.000000                         1.00000   \n",
       "max                              1.000000                         1.00000   \n",
       "\n",
       "       Last Notable Activity_Olark Chat Conversation  \\\n",
       "count                                    5350.000000   \n",
       "mean                                        0.012336   \n",
       "std                                         0.110393   \n",
       "min                                         0.000000   \n",
       "25%                                         0.000000   \n",
       "50%                                         0.000000   \n",
       "75%                                         0.000000   \n",
       "max                                         1.000000   \n",
       "\n",
       "       Last Notable Activity_Others Activity  \\\n",
       "count                            5350.000000   \n",
       "mean                                0.002991   \n",
       "std                                 0.054610   \n",
       "min                                 0.000000   \n",
       "25%                                 0.000000   \n",
       "50%                                 0.000000   \n",
       "75%                                 0.000000   \n",
       "max                                 1.000000   \n",
       "\n",
       "       Last Notable Activity_Page Visited on Website  \\\n",
       "count                                    5350.000000   \n",
       "mean                                        0.033458   \n",
       "std                                         0.179846   \n",
       "min                                         0.000000   \n",
       "25%                                         0.000000   \n",
       "50%                                         0.000000   \n",
       "75%                                         0.000000   \n",
       "max                                         1.000000   \n",
       "\n",
       "       Last Notable Activity_SMS Sent  Last Notable Activity_Unreachable  \\\n",
       "count                     5350.000000                        5350.000000   \n",
       "mean                         0.268037                           0.004860   \n",
       "std                          0.442979                           0.069549   \n",
       "min                          0.000000                           0.000000   \n",
       "25%                          0.000000                           0.000000   \n",
       "50%                          0.000000                           0.000000   \n",
       "75%                          1.000000                           0.000000   \n",
       "max                          1.000000                           1.000000   \n",
       "\n",
       "       Last Notable Activity_Unsubscribed  \n",
       "count                         5350.000000  \n",
       "mean                             0.005794  \n",
       "std                              0.075907  \n",
       "min                              0.000000  \n",
       "25%                              0.000000  \n",
       "50%                              0.000000  \n",
       "75%                              0.000000  \n",
       "max                              1.000000  \n",
       "\n",
       "[8 rows x 60 columns]"
      ]
     },
     "execution_count": 101,
     "metadata": {},
     "output_type": "execute_result"
    }
   ],
   "source": [
    "X_train_scaled.describe()"
   ]
  },
  {
   "cell_type": "code",
   "execution_count": 102,
   "id": "9572583a",
   "metadata": {},
   "outputs": [
    {
     "data": {
      "text/html": [
       "<div>\n",
       "<style scoped>\n",
       "    .dataframe tbody tr th:only-of-type {\n",
       "        vertical-align: middle;\n",
       "    }\n",
       "\n",
       "    .dataframe tbody tr th {\n",
       "        vertical-align: top;\n",
       "    }\n",
       "\n",
       "    .dataframe thead th {\n",
       "        text-align: right;\n",
       "    }\n",
       "</style>\n",
       "<table border=\"1\" class=\"dataframe\">\n",
       "  <thead>\n",
       "    <tr style=\"text-align: right;\">\n",
       "      <th></th>\n",
       "      <th>Do Not Email</th>\n",
       "      <th>Do Not Call</th>\n",
       "      <th>TotalVisits</th>\n",
       "      <th>Total Time Spent on Website</th>\n",
       "      <th>Page Views Per Visit</th>\n",
       "      <th>Lead Origin_Landing Page Submission</th>\n",
       "      <th>Lead Origin_Lead Add Form</th>\n",
       "      <th>Lead Origin_Lead Import</th>\n",
       "      <th>Lead Source_Facebook</th>\n",
       "      <th>Lead Source_Google</th>\n",
       "      <th>...</th>\n",
       "      <th>City_Tier II Cities</th>\n",
       "      <th>Last Notable Activity_Email Link Clicked</th>\n",
       "      <th>Last Notable Activity_Email Opened</th>\n",
       "      <th>Last Notable Activity_Modified</th>\n",
       "      <th>Last Notable Activity_Olark Chat Conversation</th>\n",
       "      <th>Last Notable Activity_Others Activity</th>\n",
       "      <th>Last Notable Activity_Page Visited on Website</th>\n",
       "      <th>Last Notable Activity_SMS Sent</th>\n",
       "      <th>Last Notable Activity_Unreachable</th>\n",
       "      <th>Last Notable Activity_Unsubscribed</th>\n",
       "    </tr>\n",
       "  </thead>\n",
       "  <tbody>\n",
       "    <tr>\n",
       "      <th>count</th>\n",
       "      <td>2293.000000</td>\n",
       "      <td>2293.0</td>\n",
       "      <td>2293.000000</td>\n",
       "      <td>2293.000000</td>\n",
       "      <td>2293.000000</td>\n",
       "      <td>2293.000000</td>\n",
       "      <td>2293.000000</td>\n",
       "      <td>2293.000000</td>\n",
       "      <td>2293.000000</td>\n",
       "      <td>2293.000000</td>\n",
       "      <td>...</td>\n",
       "      <td>2293.000000</td>\n",
       "      <td>2293.000000</td>\n",
       "      <td>2293.000000</td>\n",
       "      <td>2293.000000</td>\n",
       "      <td>2293.000000</td>\n",
       "      <td>2293.000000</td>\n",
       "      <td>2293.000000</td>\n",
       "      <td>2293.000000</td>\n",
       "      <td>2293.000000</td>\n",
       "      <td>2293.000000</td>\n",
       "    </tr>\n",
       "    <tr>\n",
       "      <th>mean</th>\n",
       "      <td>0.075883</td>\n",
       "      <td>0.0</td>\n",
       "      <td>0.351330</td>\n",
       "      <td>0.235717</td>\n",
       "      <td>0.421497</td>\n",
       "      <td>0.631051</td>\n",
       "      <td>0.071522</td>\n",
       "      <td>0.001744</td>\n",
       "      <td>0.002181</td>\n",
       "      <td>0.330571</td>\n",
       "      <td>...</td>\n",
       "      <td>0.010031</td>\n",
       "      <td>0.015700</td>\n",
       "      <td>0.324466</td>\n",
       "      <td>0.334932</td>\n",
       "      <td>0.009594</td>\n",
       "      <td>0.001744</td>\n",
       "      <td>0.040558</td>\n",
       "      <td>0.262974</td>\n",
       "      <td>0.001308</td>\n",
       "      <td>0.003053</td>\n",
       "    </tr>\n",
       "    <tr>\n",
       "      <th>std</th>\n",
       "      <td>0.264869</td>\n",
       "      <td>0.0</td>\n",
       "      <td>0.267974</td>\n",
       "      <td>0.244727</td>\n",
       "      <td>0.288417</td>\n",
       "      <td>0.482625</td>\n",
       "      <td>0.257751</td>\n",
       "      <td>0.041739</td>\n",
       "      <td>0.046656</td>\n",
       "      <td>0.470521</td>\n",
       "      <td>...</td>\n",
       "      <td>0.099671</td>\n",
       "      <td>0.124339</td>\n",
       "      <td>0.468277</td>\n",
       "      <td>0.472070</td>\n",
       "      <td>0.097501</td>\n",
       "      <td>0.041739</td>\n",
       "      <td>0.197307</td>\n",
       "      <td>0.440345</td>\n",
       "      <td>0.036155</td>\n",
       "      <td>0.055180</td>\n",
       "    </tr>\n",
       "    <tr>\n",
       "      <th>min</th>\n",
       "      <td>0.000000</td>\n",
       "      <td>0.0</td>\n",
       "      <td>0.000000</td>\n",
       "      <td>0.000000</td>\n",
       "      <td>0.000000</td>\n",
       "      <td>0.000000</td>\n",
       "      <td>0.000000</td>\n",
       "      <td>0.000000</td>\n",
       "      <td>0.000000</td>\n",
       "      <td>0.000000</td>\n",
       "      <td>...</td>\n",
       "      <td>0.000000</td>\n",
       "      <td>0.000000</td>\n",
       "      <td>0.000000</td>\n",
       "      <td>0.000000</td>\n",
       "      <td>0.000000</td>\n",
       "      <td>0.000000</td>\n",
       "      <td>0.000000</td>\n",
       "      <td>0.000000</td>\n",
       "      <td>0.000000</td>\n",
       "      <td>0.000000</td>\n",
       "    </tr>\n",
       "    <tr>\n",
       "      <th>25%</th>\n",
       "      <td>0.000000</td>\n",
       "      <td>0.0</td>\n",
       "      <td>0.200000</td>\n",
       "      <td>0.031250</td>\n",
       "      <td>0.250000</td>\n",
       "      <td>0.000000</td>\n",
       "      <td>0.000000</td>\n",
       "      <td>0.000000</td>\n",
       "      <td>0.000000</td>\n",
       "      <td>0.000000</td>\n",
       "      <td>...</td>\n",
       "      <td>0.000000</td>\n",
       "      <td>0.000000</td>\n",
       "      <td>0.000000</td>\n",
       "      <td>0.000000</td>\n",
       "      <td>0.000000</td>\n",
       "      <td>0.000000</td>\n",
       "      <td>0.000000</td>\n",
       "      <td>0.000000</td>\n",
       "      <td>0.000000</td>\n",
       "      <td>0.000000</td>\n",
       "    </tr>\n",
       "    <tr>\n",
       "      <th>50%</th>\n",
       "      <td>0.000000</td>\n",
       "      <td>0.0</td>\n",
       "      <td>0.300000</td>\n",
       "      <td>0.131602</td>\n",
       "      <td>0.333333</td>\n",
       "      <td>1.000000</td>\n",
       "      <td>0.000000</td>\n",
       "      <td>0.000000</td>\n",
       "      <td>0.000000</td>\n",
       "      <td>0.000000</td>\n",
       "      <td>...</td>\n",
       "      <td>0.000000</td>\n",
       "      <td>0.000000</td>\n",
       "      <td>0.000000</td>\n",
       "      <td>0.000000</td>\n",
       "      <td>0.000000</td>\n",
       "      <td>0.000000</td>\n",
       "      <td>0.000000</td>\n",
       "      <td>0.000000</td>\n",
       "      <td>0.000000</td>\n",
       "      <td>0.000000</td>\n",
       "    </tr>\n",
       "    <tr>\n",
       "      <th>75%</th>\n",
       "      <td>0.000000</td>\n",
       "      <td>0.0</td>\n",
       "      <td>0.500000</td>\n",
       "      <td>0.438820</td>\n",
       "      <td>0.666667</td>\n",
       "      <td>1.000000</td>\n",
       "      <td>0.000000</td>\n",
       "      <td>0.000000</td>\n",
       "      <td>0.000000</td>\n",
       "      <td>1.000000</td>\n",
       "      <td>...</td>\n",
       "      <td>0.000000</td>\n",
       "      <td>0.000000</td>\n",
       "      <td>1.000000</td>\n",
       "      <td>1.000000</td>\n",
       "      <td>0.000000</td>\n",
       "      <td>0.000000</td>\n",
       "      <td>0.000000</td>\n",
       "      <td>1.000000</td>\n",
       "      <td>0.000000</td>\n",
       "      <td>0.000000</td>\n",
       "    </tr>\n",
       "    <tr>\n",
       "      <th>max</th>\n",
       "      <td>1.000000</td>\n",
       "      <td>0.0</td>\n",
       "      <td>1.000000</td>\n",
       "      <td>0.991637</td>\n",
       "      <td>1.000000</td>\n",
       "      <td>1.000000</td>\n",
       "      <td>1.000000</td>\n",
       "      <td>1.000000</td>\n",
       "      <td>1.000000</td>\n",
       "      <td>1.000000</td>\n",
       "      <td>...</td>\n",
       "      <td>1.000000</td>\n",
       "      <td>1.000000</td>\n",
       "      <td>1.000000</td>\n",
       "      <td>1.000000</td>\n",
       "      <td>1.000000</td>\n",
       "      <td>1.000000</td>\n",
       "      <td>1.000000</td>\n",
       "      <td>1.000000</td>\n",
       "      <td>1.000000</td>\n",
       "      <td>1.000000</td>\n",
       "    </tr>\n",
       "  </tbody>\n",
       "</table>\n",
       "<p>8 rows × 60 columns</p>\n",
       "</div>"
      ],
      "text/plain": [
       "       Do Not Email  Do Not Call  TotalVisits  Total Time Spent on Website  \\\n",
       "count   2293.000000       2293.0  2293.000000                  2293.000000   \n",
       "mean       0.075883          0.0     0.351330                     0.235717   \n",
       "std        0.264869          0.0     0.267974                     0.244727   \n",
       "min        0.000000          0.0     0.000000                     0.000000   \n",
       "25%        0.000000          0.0     0.200000                     0.031250   \n",
       "50%        0.000000          0.0     0.300000                     0.131602   \n",
       "75%        0.000000          0.0     0.500000                     0.438820   \n",
       "max        1.000000          0.0     1.000000                     0.991637   \n",
       "\n",
       "       Page Views Per Visit  Lead Origin_Landing Page Submission  \\\n",
       "count           2293.000000                          2293.000000   \n",
       "mean               0.421497                             0.631051   \n",
       "std                0.288417                             0.482625   \n",
       "min                0.000000                             0.000000   \n",
       "25%                0.250000                             0.000000   \n",
       "50%                0.333333                             1.000000   \n",
       "75%                0.666667                             1.000000   \n",
       "max                1.000000                             1.000000   \n",
       "\n",
       "       Lead Origin_Lead Add Form  Lead Origin_Lead Import  \\\n",
       "count                2293.000000              2293.000000   \n",
       "mean                    0.071522                 0.001744   \n",
       "std                     0.257751                 0.041739   \n",
       "min                     0.000000                 0.000000   \n",
       "25%                     0.000000                 0.000000   \n",
       "50%                     0.000000                 0.000000   \n",
       "75%                     0.000000                 0.000000   \n",
       "max                     1.000000                 1.000000   \n",
       "\n",
       "       Lead Source_Facebook  Lead Source_Google  ...  City_Tier II Cities  \\\n",
       "count           2293.000000         2293.000000  ...          2293.000000   \n",
       "mean               0.002181            0.330571  ...             0.010031   \n",
       "std                0.046656            0.470521  ...             0.099671   \n",
       "min                0.000000            0.000000  ...             0.000000   \n",
       "25%                0.000000            0.000000  ...             0.000000   \n",
       "50%                0.000000            0.000000  ...             0.000000   \n",
       "75%                0.000000            1.000000  ...             0.000000   \n",
       "max                1.000000            1.000000  ...             1.000000   \n",
       "\n",
       "       Last Notable Activity_Email Link Clicked  \\\n",
       "count                               2293.000000   \n",
       "mean                                   0.015700   \n",
       "std                                    0.124339   \n",
       "min                                    0.000000   \n",
       "25%                                    0.000000   \n",
       "50%                                    0.000000   \n",
       "75%                                    0.000000   \n",
       "max                                    1.000000   \n",
       "\n",
       "       Last Notable Activity_Email Opened  Last Notable Activity_Modified  \\\n",
       "count                         2293.000000                     2293.000000   \n",
       "mean                             0.324466                        0.334932   \n",
       "std                              0.468277                        0.472070   \n",
       "min                              0.000000                        0.000000   \n",
       "25%                              0.000000                        0.000000   \n",
       "50%                              0.000000                        0.000000   \n",
       "75%                              1.000000                        1.000000   \n",
       "max                              1.000000                        1.000000   \n",
       "\n",
       "       Last Notable Activity_Olark Chat Conversation  \\\n",
       "count                                    2293.000000   \n",
       "mean                                        0.009594   \n",
       "std                                         0.097501   \n",
       "min                                         0.000000   \n",
       "25%                                         0.000000   \n",
       "50%                                         0.000000   \n",
       "75%                                         0.000000   \n",
       "max                                         1.000000   \n",
       "\n",
       "       Last Notable Activity_Others Activity  \\\n",
       "count                            2293.000000   \n",
       "mean                                0.001744   \n",
       "std                                 0.041739   \n",
       "min                                 0.000000   \n",
       "25%                                 0.000000   \n",
       "50%                                 0.000000   \n",
       "75%                                 0.000000   \n",
       "max                                 1.000000   \n",
       "\n",
       "       Last Notable Activity_Page Visited on Website  \\\n",
       "count                                    2293.000000   \n",
       "mean                                        0.040558   \n",
       "std                                         0.197307   \n",
       "min                                         0.000000   \n",
       "25%                                         0.000000   \n",
       "50%                                         0.000000   \n",
       "75%                                         0.000000   \n",
       "max                                         1.000000   \n",
       "\n",
       "       Last Notable Activity_SMS Sent  Last Notable Activity_Unreachable  \\\n",
       "count                     2293.000000                        2293.000000   \n",
       "mean                         0.262974                           0.001308   \n",
       "std                          0.440345                           0.036155   \n",
       "min                          0.000000                           0.000000   \n",
       "25%                          0.000000                           0.000000   \n",
       "50%                          0.000000                           0.000000   \n",
       "75%                          1.000000                           0.000000   \n",
       "max                          1.000000                           1.000000   \n",
       "\n",
       "       Last Notable Activity_Unsubscribed  \n",
       "count                         2293.000000  \n",
       "mean                             0.003053  \n",
       "std                              0.055180  \n",
       "min                              0.000000  \n",
       "25%                              0.000000  \n",
       "50%                              0.000000  \n",
       "75%                              0.000000  \n",
       "max                              1.000000  \n",
       "\n",
       "[8 rows x 60 columns]"
      ]
     },
     "execution_count": 102,
     "metadata": {},
     "output_type": "execute_result"
    }
   ],
   "source": [
    "X_test_scaled.describe()"
   ]
  },
  {
   "cell_type": "markdown",
   "id": "63a95580",
   "metadata": {},
   "source": [
    "## Building a Logistic Regression"
   ]
  },
  {
   "cell_type": "code",
   "execution_count": 103,
   "id": "ffee702d",
   "metadata": {},
   "outputs": [
    {
     "data": {
      "text/plain": [
       "array([ True, False,  True,  True,  True,  True,  True, False, False,\n",
       "       False,  True, False, False,  True, False,  True, False, False,\n",
       "        True, False,  True,  True,  True, False,  True, False, False,\n",
       "       False, False, False, False, False, False, False, False, False,\n",
       "       False, False, False, False, False,  True, False, False, False,\n",
       "       False, False, False, False, False, False,  True,  True,  True,\n",
       "        True, False, False, False,  True, False])"
      ]
     },
     "execution_count": 103,
     "metadata": {},
     "output_type": "execute_result"
    }
   ],
   "source": [
    "estimator = LogisticRegression()\n",
    "selector = RFE(estimator, n_features_to_select=20)\n",
    "selector.fit(X_train_scaled, y_train)\n",
    "selector.support_"
   ]
  },
  {
   "cell_type": "markdown",
   "id": "20c91c87",
   "metadata": {},
   "source": [
    "### Columns to Keep"
   ]
  },
  {
   "cell_type": "code",
   "execution_count": 326,
   "id": "138e6a0e",
   "metadata": {},
   "outputs": [],
   "source": [
    "cols_to_keep = X_train_scaled.columns[selector.support_]"
   ]
  },
  {
   "cell_type": "code",
   "execution_count": 327,
   "id": "5c420778",
   "metadata": {},
   "outputs": [
    {
     "data": {
      "text/plain": [
       "Index(['Do Not Email', 'TotalVisits', 'Total Time Spent on Website',\n",
       "       'Page Views Per Visit', 'Lead Origin_Landing Page Submission',\n",
       "       'Lead Origin_Lead Add Form', 'Lead Source_Olark Chat',\n",
       "       'Lead Source_Reference', 'Lead Source_Welingak Website',\n",
       "       'Last Activity_Email Opened', 'Last Activity_Had a Phone Conversation',\n",
       "       'Last Activity_Olark Chat Conversation', 'Last Activity_Other Activity',\n",
       "       'Last Activity_SMS Sent', 'Specialization_Select',\n",
       "       'Last Notable Activity_Email Link Clicked',\n",
       "       'Last Notable Activity_Email Opened', 'Last Notable Activity_Modified',\n",
       "       'Last Notable Activity_Olark Chat Conversation',\n",
       "       'Last Notable Activity_Unreachable'],\n",
       "      dtype='object')"
      ]
     },
     "execution_count": 327,
     "metadata": {},
     "output_type": "execute_result"
    }
   ],
   "source": [
    "cols_to_keep"
   ]
  },
  {
   "cell_type": "code",
   "execution_count": 105,
   "id": "b85606f5",
   "metadata": {},
   "outputs": [
    {
     "data": {
      "text/plain": [
       "[('Do Not Email', True, 1),\n",
       " ('Do Not Call', False, 10),\n",
       " ('TotalVisits', True, 1),\n",
       " ('Total Time Spent on Website', True, 1),\n",
       " ('Page Views Per Visit', True, 1),\n",
       " ('Lead Origin_Landing Page Submission', True, 1),\n",
       " ('Lead Origin_Lead Add Form', True, 1),\n",
       " ('Lead Origin_Lead Import', False, 13),\n",
       " ('Lead Source_Facebook', False, 5),\n",
       " ('Lead Source_Google', False, 11),\n",
       " ('Lead Source_Olark Chat', True, 1),\n",
       " ('Lead Source_Organic Search', False, 15),\n",
       " ('Lead Source_Others', False, 33),\n",
       " ('Lead Source_Reference', True, 1),\n",
       " ('Lead Source_Referral Sites', False, 20),\n",
       " ('Lead Source_Welingak Website', True, 1),\n",
       " ('Last Activity_Email Bounced', False, 2),\n",
       " ('Last Activity_Email Link Clicked', False, 35),\n",
       " ('Last Activity_Email Opened', True, 1),\n",
       " ('Last Activity_Form Submitted on Website', False, 21),\n",
       " ('Last Activity_Had a Phone Conversation', True, 1),\n",
       " ('Last Activity_Olark Chat Conversation', True, 1),\n",
       " ('Last Activity_Other Activity', True, 1),\n",
       " ('Last Activity_Page Visited on Website', False, 31),\n",
       " ('Last Activity_SMS Sent', True, 1),\n",
       " ('Last Activity_Unreachable', False, 24),\n",
       " ('Last Activity_Unsubscribed', False, 8),\n",
       " ('Specialization_Business Administration', False, 18),\n",
       " ('Specialization_E-Business', False, 17),\n",
       " ('Specialization_E-COMMERCE', False, 16),\n",
       " ('Specialization_Finance Management', False, 30),\n",
       " ('Specialization_Healthcare Management', False, 14),\n",
       " ('Specialization_Hospitality Management', False, 7),\n",
       " ('Specialization_Human Resource Management', False, 29),\n",
       " ('Specialization_IT Projects Management', False, 32),\n",
       " ('Specialization_International Business', False, 4),\n",
       " ('Specialization_Marketing Management', False, 34),\n",
       " ('Specialization_Media and Advertising', False, 27),\n",
       " ('Specialization_Operations Management', False, 37),\n",
       " ('Specialization_Retail Management', False, 22),\n",
       " ('Specialization_Rural and Agribusiness', False, 23),\n",
       " ('Specialization_Select', True, 1),\n",
       " ('Specialization_Services Excellence', False, 39),\n",
       " ('Specialization_Supply Chain Management', False, 28),\n",
       " ('Specialization_Travel and Tourism', False, 26),\n",
       " ('City_Other Cities', False, 38),\n",
       " ('City_Other Cities of Maharashtra', False, 12),\n",
       " ('City_Other Metro Cities', False, 19),\n",
       " ('City_Select', False, 25),\n",
       " ('City_Thane & Outskirts', False, 40),\n",
       " ('City_Tier II Cities', False, 36),\n",
       " ('Last Notable Activity_Email Link Clicked', True, 1),\n",
       " ('Last Notable Activity_Email Opened', True, 1),\n",
       " ('Last Notable Activity_Modified', True, 1),\n",
       " ('Last Notable Activity_Olark Chat Conversation', True, 1),\n",
       " ('Last Notable Activity_Others Activity', False, 6),\n",
       " ('Last Notable Activity_Page Visited on Website', False, 3),\n",
       " ('Last Notable Activity_SMS Sent', False, 9),\n",
       " ('Last Notable Activity_Unreachable', True, 1),\n",
       " ('Last Notable Activity_Unsubscribed', False, 41)]"
      ]
     },
     "execution_count": 105,
     "metadata": {},
     "output_type": "execute_result"
    }
   ],
   "source": [
    "list(zip(X_train_scaled.columns, selector.support_, selector.ranking_))"
   ]
  },
  {
   "cell_type": "code",
   "execution_count": 106,
   "id": "0f02e2a4",
   "metadata": {},
   "outputs": [],
   "source": [
    "X_train = X_train_scaled[cols_to_keep]\n",
    "X_test = X_test_scaled[cols_to_keep]"
   ]
  },
  {
   "cell_type": "code",
   "execution_count": 107,
   "id": "44f97daa",
   "metadata": {},
   "outputs": [
    {
     "data": {
      "text/plain": [
       "((5350, 20), (2293, 20))"
      ]
     },
     "execution_count": 107,
     "metadata": {},
     "output_type": "execute_result"
    }
   ],
   "source": [
    "X_train.shape, X_test.shape"
   ]
  },
  {
   "cell_type": "code",
   "execution_count": 108,
   "id": "b289d10f",
   "metadata": {},
   "outputs": [],
   "source": [
    "# Adding constant to X_train and X_test\n",
    "X_train_sm = sm.add_constant(X_train, has_constant='add')\n",
    "X_test_sm = sm.add_constant(X_test, has_constant='add')"
   ]
  },
  {
   "cell_type": "code",
   "execution_count": 109,
   "id": "66f1e358",
   "metadata": {},
   "outputs": [
    {
     "data": {
      "text/html": [
       "<div>\n",
       "<style scoped>\n",
       "    .dataframe tbody tr th:only-of-type {\n",
       "        vertical-align: middle;\n",
       "    }\n",
       "\n",
       "    .dataframe tbody tr th {\n",
       "        vertical-align: top;\n",
       "    }\n",
       "\n",
       "    .dataframe thead th {\n",
       "        text-align: right;\n",
       "    }\n",
       "</style>\n",
       "<table border=\"1\" class=\"dataframe\">\n",
       "  <thead>\n",
       "    <tr style=\"text-align: right;\">\n",
       "      <th></th>\n",
       "      <th>const</th>\n",
       "      <th>Do Not Email</th>\n",
       "      <th>TotalVisits</th>\n",
       "      <th>Total Time Spent on Website</th>\n",
       "      <th>Page Views Per Visit</th>\n",
       "      <th>Lead Origin_Landing Page Submission</th>\n",
       "      <th>Lead Origin_Lead Add Form</th>\n",
       "      <th>Lead Source_Olark Chat</th>\n",
       "      <th>Lead Source_Reference</th>\n",
       "      <th>Lead Source_Welingak Website</th>\n",
       "      <th>...</th>\n",
       "      <th>Last Activity_Had a Phone Conversation</th>\n",
       "      <th>Last Activity_Olark Chat Conversation</th>\n",
       "      <th>Last Activity_Other Activity</th>\n",
       "      <th>Last Activity_SMS Sent</th>\n",
       "      <th>Specialization_Select</th>\n",
       "      <th>Last Notable Activity_Email Link Clicked</th>\n",
       "      <th>Last Notable Activity_Email Opened</th>\n",
       "      <th>Last Notable Activity_Modified</th>\n",
       "      <th>Last Notable Activity_Olark Chat Conversation</th>\n",
       "      <th>Last Notable Activity_Unreachable</th>\n",
       "    </tr>\n",
       "  </thead>\n",
       "  <tbody>\n",
       "    <tr>\n",
       "      <th>0</th>\n",
       "      <td>1.0</td>\n",
       "      <td>0.0</td>\n",
       "      <td>0.6</td>\n",
       "      <td>0.115317</td>\n",
       "      <td>1.000000</td>\n",
       "      <td>0.0</td>\n",
       "      <td>0.0</td>\n",
       "      <td>0.0</td>\n",
       "      <td>0.0</td>\n",
       "      <td>0.0</td>\n",
       "      <td>...</td>\n",
       "      <td>0.0</td>\n",
       "      <td>0.0</td>\n",
       "      <td>0.0</td>\n",
       "      <td>0.0</td>\n",
       "      <td>1.0</td>\n",
       "      <td>0.0</td>\n",
       "      <td>0.0</td>\n",
       "      <td>1.0</td>\n",
       "      <td>0.0</td>\n",
       "      <td>0.0</td>\n",
       "    </tr>\n",
       "    <tr>\n",
       "      <th>1</th>\n",
       "      <td>1.0</td>\n",
       "      <td>0.0</td>\n",
       "      <td>0.4</td>\n",
       "      <td>0.098151</td>\n",
       "      <td>0.333333</td>\n",
       "      <td>0.0</td>\n",
       "      <td>0.0</td>\n",
       "      <td>0.0</td>\n",
       "      <td>0.0</td>\n",
       "      <td>0.0</td>\n",
       "      <td>...</td>\n",
       "      <td>0.0</td>\n",
       "      <td>0.0</td>\n",
       "      <td>0.0</td>\n",
       "      <td>0.0</td>\n",
       "      <td>1.0</td>\n",
       "      <td>0.0</td>\n",
       "      <td>0.0</td>\n",
       "      <td>1.0</td>\n",
       "      <td>0.0</td>\n",
       "      <td>0.0</td>\n",
       "    </tr>\n",
       "    <tr>\n",
       "      <th>2</th>\n",
       "      <td>1.0</td>\n",
       "      <td>0.0</td>\n",
       "      <td>0.2</td>\n",
       "      <td>0.237236</td>\n",
       "      <td>0.333333</td>\n",
       "      <td>1.0</td>\n",
       "      <td>0.0</td>\n",
       "      <td>0.0</td>\n",
       "      <td>0.0</td>\n",
       "      <td>0.0</td>\n",
       "      <td>...</td>\n",
       "      <td>0.0</td>\n",
       "      <td>0.0</td>\n",
       "      <td>0.0</td>\n",
       "      <td>0.0</td>\n",
       "      <td>0.0</td>\n",
       "      <td>0.0</td>\n",
       "      <td>0.0</td>\n",
       "      <td>1.0</td>\n",
       "      <td>0.0</td>\n",
       "      <td>0.0</td>\n",
       "    </tr>\n",
       "    <tr>\n",
       "      <th>3</th>\n",
       "      <td>1.0</td>\n",
       "      <td>0.0</td>\n",
       "      <td>0.1</td>\n",
       "      <td>0.129842</td>\n",
       "      <td>0.166667</td>\n",
       "      <td>1.0</td>\n",
       "      <td>0.0</td>\n",
       "      <td>0.0</td>\n",
       "      <td>0.0</td>\n",
       "      <td>0.0</td>\n",
       "      <td>...</td>\n",
       "      <td>0.0</td>\n",
       "      <td>0.0</td>\n",
       "      <td>0.0</td>\n",
       "      <td>0.0</td>\n",
       "      <td>0.0</td>\n",
       "      <td>0.0</td>\n",
       "      <td>0.0</td>\n",
       "      <td>1.0</td>\n",
       "      <td>0.0</td>\n",
       "      <td>0.0</td>\n",
       "    </tr>\n",
       "    <tr>\n",
       "      <th>4</th>\n",
       "      <td>1.0</td>\n",
       "      <td>0.0</td>\n",
       "      <td>0.2</td>\n",
       "      <td>0.658891</td>\n",
       "      <td>0.333333</td>\n",
       "      <td>1.0</td>\n",
       "      <td>0.0</td>\n",
       "      <td>0.0</td>\n",
       "      <td>0.0</td>\n",
       "      <td>0.0</td>\n",
       "      <td>...</td>\n",
       "      <td>0.0</td>\n",
       "      <td>0.0</td>\n",
       "      <td>0.0</td>\n",
       "      <td>1.0</td>\n",
       "      <td>0.0</td>\n",
       "      <td>0.0</td>\n",
       "      <td>0.0</td>\n",
       "      <td>1.0</td>\n",
       "      <td>0.0</td>\n",
       "      <td>0.0</td>\n",
       "    </tr>\n",
       "  </tbody>\n",
       "</table>\n",
       "<p>5 rows × 21 columns</p>\n",
       "</div>"
      ],
      "text/plain": [
       "   const  Do Not Email  TotalVisits  Total Time Spent on Website  \\\n",
       "0    1.0           0.0          0.6                     0.115317   \n",
       "1    1.0           0.0          0.4                     0.098151   \n",
       "2    1.0           0.0          0.2                     0.237236   \n",
       "3    1.0           0.0          0.1                     0.129842   \n",
       "4    1.0           0.0          0.2                     0.658891   \n",
       "\n",
       "   Page Views Per Visit  Lead Origin_Landing Page Submission  \\\n",
       "0              1.000000                                  0.0   \n",
       "1              0.333333                                  0.0   \n",
       "2              0.333333                                  1.0   \n",
       "3              0.166667                                  1.0   \n",
       "4              0.333333                                  1.0   \n",
       "\n",
       "   Lead Origin_Lead Add Form  Lead Source_Olark Chat  Lead Source_Reference  \\\n",
       "0                        0.0                     0.0                    0.0   \n",
       "1                        0.0                     0.0                    0.0   \n",
       "2                        0.0                     0.0                    0.0   \n",
       "3                        0.0                     0.0                    0.0   \n",
       "4                        0.0                     0.0                    0.0   \n",
       "\n",
       "   Lead Source_Welingak Website  ...  Last Activity_Had a Phone Conversation  \\\n",
       "0                           0.0  ...                                     0.0   \n",
       "1                           0.0  ...                                     0.0   \n",
       "2                           0.0  ...                                     0.0   \n",
       "3                           0.0  ...                                     0.0   \n",
       "4                           0.0  ...                                     0.0   \n",
       "\n",
       "   Last Activity_Olark Chat Conversation  Last Activity_Other Activity  \\\n",
       "0                                    0.0                           0.0   \n",
       "1                                    0.0                           0.0   \n",
       "2                                    0.0                           0.0   \n",
       "3                                    0.0                           0.0   \n",
       "4                                    0.0                           0.0   \n",
       "\n",
       "   Last Activity_SMS Sent  Specialization_Select  \\\n",
       "0                     0.0                    1.0   \n",
       "1                     0.0                    1.0   \n",
       "2                     0.0                    0.0   \n",
       "3                     0.0                    0.0   \n",
       "4                     1.0                    0.0   \n",
       "\n",
       "   Last Notable Activity_Email Link Clicked  \\\n",
       "0                                       0.0   \n",
       "1                                       0.0   \n",
       "2                                       0.0   \n",
       "3                                       0.0   \n",
       "4                                       0.0   \n",
       "\n",
       "   Last Notable Activity_Email Opened  Last Notable Activity_Modified  \\\n",
       "0                                 0.0                             1.0   \n",
       "1                                 0.0                             1.0   \n",
       "2                                 0.0                             1.0   \n",
       "3                                 0.0                             1.0   \n",
       "4                                 0.0                             1.0   \n",
       "\n",
       "   Last Notable Activity_Olark Chat Conversation  \\\n",
       "0                                            0.0   \n",
       "1                                            0.0   \n",
       "2                                            0.0   \n",
       "3                                            0.0   \n",
       "4                                            0.0   \n",
       "\n",
       "   Last Notable Activity_Unreachable  \n",
       "0                                0.0  \n",
       "1                                0.0  \n",
       "2                                0.0  \n",
       "3                                0.0  \n",
       "4                                0.0  \n",
       "\n",
       "[5 rows x 21 columns]"
      ]
     },
     "execution_count": 109,
     "metadata": {},
     "output_type": "execute_result"
    }
   ],
   "source": [
    "X_train_sm.head()"
   ]
  },
  {
   "cell_type": "code",
   "execution_count": 110,
   "id": "36f40cf5",
   "metadata": {},
   "outputs": [
    {
     "data": {
      "text/plain": [
       "(5350, 21)"
      ]
     },
     "execution_count": 110,
     "metadata": {},
     "output_type": "execute_result"
    }
   ],
   "source": [
    "X_train_sm.shape"
   ]
  },
  {
   "cell_type": "code",
   "execution_count": 111,
   "id": "ae0e23b5",
   "metadata": {},
   "outputs": [
    {
     "data": {
      "text/plain": [
       "(2293, 21)"
      ]
     },
     "execution_count": 111,
     "metadata": {},
     "output_type": "execute_result"
    }
   ],
   "source": [
    "X_test_sm.shape"
   ]
  },
  {
   "cell_type": "code",
   "execution_count": 112,
   "id": "d3496d75",
   "metadata": {},
   "outputs": [
    {
     "data": {
      "text/plain": [
       "(5350,)"
      ]
     },
     "execution_count": 112,
     "metadata": {},
     "output_type": "execute_result"
    }
   ],
   "source": [
    "y_train.shape"
   ]
  },
  {
   "cell_type": "code",
   "execution_count": 113,
   "id": "f3f309ed",
   "metadata": {},
   "outputs": [
    {
     "data": {
      "text/plain": [
       "(2293,)"
      ]
     },
     "execution_count": 113,
     "metadata": {},
     "output_type": "execute_result"
    }
   ],
   "source": [
    "y_test.shape"
   ]
  },
  {
   "cell_type": "code",
   "execution_count": 114,
   "id": "7d088437",
   "metadata": {},
   "outputs": [
    {
     "data": {
      "text/html": [
       "<div>\n",
       "<style scoped>\n",
       "    .dataframe tbody tr th:only-of-type {\n",
       "        vertical-align: middle;\n",
       "    }\n",
       "\n",
       "    .dataframe tbody tr th {\n",
       "        vertical-align: top;\n",
       "    }\n",
       "\n",
       "    .dataframe thead th {\n",
       "        text-align: right;\n",
       "    }\n",
       "</style>\n",
       "<table border=\"1\" class=\"dataframe\">\n",
       "  <thead>\n",
       "    <tr style=\"text-align: right;\">\n",
       "      <th></th>\n",
       "      <th>const</th>\n",
       "      <th>Do Not Email</th>\n",
       "      <th>TotalVisits</th>\n",
       "      <th>Total Time Spent on Website</th>\n",
       "      <th>Page Views Per Visit</th>\n",
       "      <th>Lead Origin_Landing Page Submission</th>\n",
       "      <th>Lead Origin_Lead Add Form</th>\n",
       "      <th>Lead Source_Olark Chat</th>\n",
       "      <th>Lead Source_Reference</th>\n",
       "      <th>Lead Source_Welingak Website</th>\n",
       "      <th>...</th>\n",
       "      <th>Last Activity_Had a Phone Conversation</th>\n",
       "      <th>Last Activity_Olark Chat Conversation</th>\n",
       "      <th>Last Activity_Other Activity</th>\n",
       "      <th>Last Activity_SMS Sent</th>\n",
       "      <th>Specialization_Select</th>\n",
       "      <th>Last Notable Activity_Email Link Clicked</th>\n",
       "      <th>Last Notable Activity_Email Opened</th>\n",
       "      <th>Last Notable Activity_Modified</th>\n",
       "      <th>Last Notable Activity_Olark Chat Conversation</th>\n",
       "      <th>Last Notable Activity_Unreachable</th>\n",
       "    </tr>\n",
       "  </thead>\n",
       "  <tbody>\n",
       "    <tr>\n",
       "      <th>0</th>\n",
       "      <td>1.0</td>\n",
       "      <td>0.0</td>\n",
       "      <td>0.2</td>\n",
       "      <td>0.170335</td>\n",
       "      <td>0.333333</td>\n",
       "      <td>1.0</td>\n",
       "      <td>0.0</td>\n",
       "      <td>0.0</td>\n",
       "      <td>0.0</td>\n",
       "      <td>0.0</td>\n",
       "      <td>...</td>\n",
       "      <td>0.0</td>\n",
       "      <td>0.0</td>\n",
       "      <td>0.0</td>\n",
       "      <td>0.0</td>\n",
       "      <td>0.0</td>\n",
       "      <td>0.0</td>\n",
       "      <td>0.0</td>\n",
       "      <td>1.0</td>\n",
       "      <td>0.0</td>\n",
       "      <td>0.0</td>\n",
       "    </tr>\n",
       "    <tr>\n",
       "      <th>1</th>\n",
       "      <td>1.0</td>\n",
       "      <td>0.0</td>\n",
       "      <td>0.3</td>\n",
       "      <td>0.197623</td>\n",
       "      <td>0.500000</td>\n",
       "      <td>1.0</td>\n",
       "      <td>0.0</td>\n",
       "      <td>0.0</td>\n",
       "      <td>0.0</td>\n",
       "      <td>0.0</td>\n",
       "      <td>...</td>\n",
       "      <td>0.0</td>\n",
       "      <td>0.0</td>\n",
       "      <td>0.0</td>\n",
       "      <td>1.0</td>\n",
       "      <td>0.0</td>\n",
       "      <td>0.0</td>\n",
       "      <td>0.0</td>\n",
       "      <td>0.0</td>\n",
       "      <td>0.0</td>\n",
       "      <td>0.0</td>\n",
       "    </tr>\n",
       "    <tr>\n",
       "      <th>2</th>\n",
       "      <td>1.0</td>\n",
       "      <td>0.0</td>\n",
       "      <td>0.2</td>\n",
       "      <td>0.102553</td>\n",
       "      <td>0.333333</td>\n",
       "      <td>1.0</td>\n",
       "      <td>0.0</td>\n",
       "      <td>0.0</td>\n",
       "      <td>0.0</td>\n",
       "      <td>0.0</td>\n",
       "      <td>...</td>\n",
       "      <td>0.0</td>\n",
       "      <td>0.0</td>\n",
       "      <td>0.0</td>\n",
       "      <td>1.0</td>\n",
       "      <td>0.0</td>\n",
       "      <td>0.0</td>\n",
       "      <td>0.0</td>\n",
       "      <td>0.0</td>\n",
       "      <td>0.0</td>\n",
       "      <td>0.0</td>\n",
       "    </tr>\n",
       "    <tr>\n",
       "      <th>3</th>\n",
       "      <td>1.0</td>\n",
       "      <td>0.0</td>\n",
       "      <td>0.4</td>\n",
       "      <td>0.724472</td>\n",
       "      <td>0.666667</td>\n",
       "      <td>1.0</td>\n",
       "      <td>0.0</td>\n",
       "      <td>0.0</td>\n",
       "      <td>0.0</td>\n",
       "      <td>0.0</td>\n",
       "      <td>...</td>\n",
       "      <td>0.0</td>\n",
       "      <td>0.0</td>\n",
       "      <td>0.0</td>\n",
       "      <td>1.0</td>\n",
       "      <td>0.0</td>\n",
       "      <td>0.0</td>\n",
       "      <td>0.0</td>\n",
       "      <td>0.0</td>\n",
       "      <td>0.0</td>\n",
       "      <td>0.0</td>\n",
       "    </tr>\n",
       "    <tr>\n",
       "      <th>4</th>\n",
       "      <td>1.0</td>\n",
       "      <td>0.0</td>\n",
       "      <td>1.0</td>\n",
       "      <td>0.842430</td>\n",
       "      <td>0.611667</td>\n",
       "      <td>1.0</td>\n",
       "      <td>0.0</td>\n",
       "      <td>0.0</td>\n",
       "      <td>0.0</td>\n",
       "      <td>0.0</td>\n",
       "      <td>...</td>\n",
       "      <td>0.0</td>\n",
       "      <td>0.0</td>\n",
       "      <td>0.0</td>\n",
       "      <td>1.0</td>\n",
       "      <td>0.0</td>\n",
       "      <td>0.0</td>\n",
       "      <td>0.0</td>\n",
       "      <td>0.0</td>\n",
       "      <td>0.0</td>\n",
       "      <td>0.0</td>\n",
       "    </tr>\n",
       "  </tbody>\n",
       "</table>\n",
       "<p>5 rows × 21 columns</p>\n",
       "</div>"
      ],
      "text/plain": [
       "   const  Do Not Email  TotalVisits  Total Time Spent on Website  \\\n",
       "0    1.0           0.0          0.2                     0.170335   \n",
       "1    1.0           0.0          0.3                     0.197623   \n",
       "2    1.0           0.0          0.2                     0.102553   \n",
       "3    1.0           0.0          0.4                     0.724472   \n",
       "4    1.0           0.0          1.0                     0.842430   \n",
       "\n",
       "   Page Views Per Visit  Lead Origin_Landing Page Submission  \\\n",
       "0              0.333333                                  1.0   \n",
       "1              0.500000                                  1.0   \n",
       "2              0.333333                                  1.0   \n",
       "3              0.666667                                  1.0   \n",
       "4              0.611667                                  1.0   \n",
       "\n",
       "   Lead Origin_Lead Add Form  Lead Source_Olark Chat  Lead Source_Reference  \\\n",
       "0                        0.0                     0.0                    0.0   \n",
       "1                        0.0                     0.0                    0.0   \n",
       "2                        0.0                     0.0                    0.0   \n",
       "3                        0.0                     0.0                    0.0   \n",
       "4                        0.0                     0.0                    0.0   \n",
       "\n",
       "   Lead Source_Welingak Website  ...  Last Activity_Had a Phone Conversation  \\\n",
       "0                           0.0  ...                                     0.0   \n",
       "1                           0.0  ...                                     0.0   \n",
       "2                           0.0  ...                                     0.0   \n",
       "3                           0.0  ...                                     0.0   \n",
       "4                           0.0  ...                                     0.0   \n",
       "\n",
       "   Last Activity_Olark Chat Conversation  Last Activity_Other Activity  \\\n",
       "0                                    0.0                           0.0   \n",
       "1                                    0.0                           0.0   \n",
       "2                                    0.0                           0.0   \n",
       "3                                    0.0                           0.0   \n",
       "4                                    0.0                           0.0   \n",
       "\n",
       "   Last Activity_SMS Sent  Specialization_Select  \\\n",
       "0                     0.0                    0.0   \n",
       "1                     1.0                    0.0   \n",
       "2                     1.0                    0.0   \n",
       "3                     1.0                    0.0   \n",
       "4                     1.0                    0.0   \n",
       "\n",
       "   Last Notable Activity_Email Link Clicked  \\\n",
       "0                                       0.0   \n",
       "1                                       0.0   \n",
       "2                                       0.0   \n",
       "3                                       0.0   \n",
       "4                                       0.0   \n",
       "\n",
       "   Last Notable Activity_Email Opened  Last Notable Activity_Modified  \\\n",
       "0                                 0.0                             1.0   \n",
       "1                                 0.0                             0.0   \n",
       "2                                 0.0                             0.0   \n",
       "3                                 0.0                             0.0   \n",
       "4                                 0.0                             0.0   \n",
       "\n",
       "   Last Notable Activity_Olark Chat Conversation  \\\n",
       "0                                            0.0   \n",
       "1                                            0.0   \n",
       "2                                            0.0   \n",
       "3                                            0.0   \n",
       "4                                            0.0   \n",
       "\n",
       "   Last Notable Activity_Unreachable  \n",
       "0                                0.0  \n",
       "1                                0.0  \n",
       "2                                0.0  \n",
       "3                                0.0  \n",
       "4                                0.0  \n",
       "\n",
       "[5 rows x 21 columns]"
      ]
     },
     "execution_count": 114,
     "metadata": {},
     "output_type": "execute_result"
    }
   ],
   "source": [
    "X_test_sm.head()"
   ]
  },
  {
   "cell_type": "code",
   "execution_count": 115,
   "id": "a91d91f4",
   "metadata": {},
   "outputs": [
    {
     "data": {
      "text/html": [
       "<table class=\"simpletable\">\n",
       "<caption>Generalized Linear Model Regression Results</caption>\n",
       "<tr>\n",
       "  <th>Dep. Variable:</th>           <td>y</td>        <th>  No. Observations:  </th>  <td>  5350</td> \n",
       "</tr>\n",
       "<tr>\n",
       "  <th>Model:</th>                  <td>GLM</td>       <th>  Df Residuals:      </th>  <td>  5329</td> \n",
       "</tr>\n",
       "<tr>\n",
       "  <th>Model Family:</th>        <td>Binomial</td>     <th>  Df Model:          </th>  <td>    20</td> \n",
       "</tr>\n",
       "<tr>\n",
       "  <th>Link Function:</th>         <td>logit</td>      <th>  Scale:             </th> <td>  1.0000</td>\n",
       "</tr>\n",
       "<tr>\n",
       "  <th>Method:</th>                <td>IRLS</td>       <th>  Log-Likelihood:    </th> <td> -2463.7</td>\n",
       "</tr>\n",
       "<tr>\n",
       "  <th>Date:</th>            <td>Sun, 19 May 2024</td> <th>  Deviance:          </th> <td>  4927.4</td>\n",
       "</tr>\n",
       "<tr>\n",
       "  <th>Time:</th>                <td>21:30:30</td>     <th>  Pearson chi2:      </th> <td>5.44e+03</td>\n",
       "</tr>\n",
       "<tr>\n",
       "  <th>No. Iterations:</th>          <td>7</td>        <th>                     </th>     <td> </td>   \n",
       "</tr>\n",
       "<tr>\n",
       "  <th>Covariance Type:</th>     <td>nonrobust</td>    <th>                     </th>     <td> </td>   \n",
       "</tr>\n",
       "</table>\n",
       "<table class=\"simpletable\">\n",
       "<tr>\n",
       "                        <td></td>                           <th>coef</th>     <th>std err</th>      <th>z</th>      <th>P>|z|</th>  <th>[0.025</th>    <th>0.975]</th>  \n",
       "</tr>\n",
       "<tr>\n",
       "  <th>const</th>                                         <td>   -0.6505</td> <td>    0.198</td> <td>   -3.281</td> <td> 0.001</td> <td>   -1.039</td> <td>   -0.262</td>\n",
       "</tr>\n",
       "<tr>\n",
       "  <th>Do Not Email</th>                                  <td>   -1.4710</td> <td>    0.180</td> <td>   -8.180</td> <td> 0.000</td> <td>   -1.823</td> <td>   -1.119</td>\n",
       "</tr>\n",
       "<tr>\n",
       "  <th>TotalVisits</th>                                   <td>    1.0794</td> <td>    0.190</td> <td>    5.686</td> <td> 0.000</td> <td>    0.707</td> <td>    1.451</td>\n",
       "</tr>\n",
       "<tr>\n",
       "  <th>Total Time Spent on Website</th>                   <td>    4.3903</td> <td>    0.168</td> <td>   26.136</td> <td> 0.000</td> <td>    4.061</td> <td>    4.720</td>\n",
       "</tr>\n",
       "<tr>\n",
       "  <th>Page Views Per Visit</th>                          <td>   -0.9656</td> <td>    0.198</td> <td>   -4.877</td> <td> 0.000</td> <td>   -1.354</td> <td>   -0.578</td>\n",
       "</tr>\n",
       "<tr>\n",
       "  <th>Lead Origin_Landing Page Submission</th>           <td>   -1.1250</td> <td>    0.127</td> <td>   -8.843</td> <td> 0.000</td> <td>   -1.374</td> <td>   -0.876</td>\n",
       "</tr>\n",
       "<tr>\n",
       "  <th>Lead Origin_Lead Add Form</th>                     <td>    1.9442</td> <td>    1.131</td> <td>    1.718</td> <td> 0.086</td> <td>   -0.273</td> <td>    4.162</td>\n",
       "</tr>\n",
       "<tr>\n",
       "  <th>Lead Source_Olark Chat</th>                        <td>    1.2822</td> <td>    0.154</td> <td>    8.307</td> <td> 0.000</td> <td>    0.980</td> <td>    1.585</td>\n",
       "</tr>\n",
       "<tr>\n",
       "  <th>Lead Source_Reference</th>                         <td>    1.4636</td> <td>    1.149</td> <td>    1.274</td> <td> 0.203</td> <td>   -0.788</td> <td>    3.715</td>\n",
       "</tr>\n",
       "<tr>\n",
       "  <th>Lead Source_Welingak Website</th>                  <td>    3.4610</td> <td>    1.339</td> <td>    2.584</td> <td> 0.010</td> <td>    0.836</td> <td>    6.086</td>\n",
       "</tr>\n",
       "<tr>\n",
       "  <th>Last Activity_Email Opened</th>                    <td>    1.0331</td> <td>    0.170</td> <td>    6.092</td> <td> 0.000</td> <td>    0.701</td> <td>    1.365</td>\n",
       "</tr>\n",
       "<tr>\n",
       "  <th>Last Activity_Had a Phone Conversation</th>        <td>    2.2126</td> <td>    0.624</td> <td>    3.545</td> <td> 0.000</td> <td>    0.989</td> <td>    3.436</td>\n",
       "</tr>\n",
       "<tr>\n",
       "  <th>Last Activity_Olark Chat Conversation</th>         <td>   -0.4372</td> <td>    0.227</td> <td>   -1.926</td> <td> 0.054</td> <td>   -0.882</td> <td>    0.008</td>\n",
       "</tr>\n",
       "<tr>\n",
       "  <th>Last Activity_Other Activity</th>                  <td>    1.8939</td> <td>    0.949</td> <td>    1.996</td> <td> 0.046</td> <td>    0.034</td> <td>    3.753</td>\n",
       "</tr>\n",
       "<tr>\n",
       "  <th>Last Activity_SMS Sent</th>                        <td>    1.1505</td> <td>    0.131</td> <td>    8.775</td> <td> 0.000</td> <td>    0.894</td> <td>    1.407</td>\n",
       "</tr>\n",
       "<tr>\n",
       "  <th>Specialization_Select</th>                         <td>   -1.1090</td> <td>    0.129</td> <td>   -8.610</td> <td> 0.000</td> <td>   -1.361</td> <td>   -0.857</td>\n",
       "</tr>\n",
       "<tr>\n",
       "  <th>Last Notable Activity_Email Link Clicked</th>      <td>   -0.7242</td> <td>    0.295</td> <td>   -2.456</td> <td> 0.014</td> <td>   -1.302</td> <td>   -0.146</td>\n",
       "</tr>\n",
       "<tr>\n",
       "  <th>Last Notable Activity_Email Opened</th>            <td>   -1.1802</td> <td>    0.187</td> <td>   -6.302</td> <td> 0.000</td> <td>   -1.547</td> <td>   -0.813</td>\n",
       "</tr>\n",
       "<tr>\n",
       "  <th>Last Notable Activity_Modified</th>                <td>   -1.1955</td> <td>    0.123</td> <td>   -9.728</td> <td> 0.000</td> <td>   -1.436</td> <td>   -0.955</td>\n",
       "</tr>\n",
       "<tr>\n",
       "  <th>Last Notable Activity_Olark Chat Conversation</th> <td>   -0.8869</td> <td>    0.420</td> <td>   -2.114</td> <td> 0.034</td> <td>   -1.709</td> <td>   -0.065</td>\n",
       "</tr>\n",
       "<tr>\n",
       "  <th>Last Notable Activity_Unreachable</th>             <td>    1.7152</td> <td>    0.538</td> <td>    3.189</td> <td> 0.001</td> <td>    0.661</td> <td>    2.769</td>\n",
       "</tr>\n",
       "</table>"
      ],
      "text/plain": [
       "<class 'statsmodels.iolib.summary.Summary'>\n",
       "\"\"\"\n",
       "                 Generalized Linear Model Regression Results                  \n",
       "==============================================================================\n",
       "Dep. Variable:                      y   No. Observations:                 5350\n",
       "Model:                            GLM   Df Residuals:                     5329\n",
       "Model Family:                Binomial   Df Model:                           20\n",
       "Link Function:                  logit   Scale:                          1.0000\n",
       "Method:                          IRLS   Log-Likelihood:                -2463.7\n",
       "Date:                Sun, 19 May 2024   Deviance:                       4927.4\n",
       "Time:                        21:30:30   Pearson chi2:                 5.44e+03\n",
       "No. Iterations:                     7                                         \n",
       "Covariance Type:            nonrobust                                         \n",
       "=================================================================================================================\n",
       "                                                    coef    std err          z      P>|z|      [0.025      0.975]\n",
       "-----------------------------------------------------------------------------------------------------------------\n",
       "const                                            -0.6505      0.198     -3.281      0.001      -1.039      -0.262\n",
       "Do Not Email                                     -1.4710      0.180     -8.180      0.000      -1.823      -1.119\n",
       "TotalVisits                                       1.0794      0.190      5.686      0.000       0.707       1.451\n",
       "Total Time Spent on Website                       4.3903      0.168     26.136      0.000       4.061       4.720\n",
       "Page Views Per Visit                             -0.9656      0.198     -4.877      0.000      -1.354      -0.578\n",
       "Lead Origin_Landing Page Submission              -1.1250      0.127     -8.843      0.000      -1.374      -0.876\n",
       "Lead Origin_Lead Add Form                         1.9442      1.131      1.718      0.086      -0.273       4.162\n",
       "Lead Source_Olark Chat                            1.2822      0.154      8.307      0.000       0.980       1.585\n",
       "Lead Source_Reference                             1.4636      1.149      1.274      0.203      -0.788       3.715\n",
       "Lead Source_Welingak Website                      3.4610      1.339      2.584      0.010       0.836       6.086\n",
       "Last Activity_Email Opened                        1.0331      0.170      6.092      0.000       0.701       1.365\n",
       "Last Activity_Had a Phone Conversation            2.2126      0.624      3.545      0.000       0.989       3.436\n",
       "Last Activity_Olark Chat Conversation            -0.4372      0.227     -1.926      0.054      -0.882       0.008\n",
       "Last Activity_Other Activity                      1.8939      0.949      1.996      0.046       0.034       3.753\n",
       "Last Activity_SMS Sent                            1.1505      0.131      8.775      0.000       0.894       1.407\n",
       "Specialization_Select                            -1.1090      0.129     -8.610      0.000      -1.361      -0.857\n",
       "Last Notable Activity_Email Link Clicked         -0.7242      0.295     -2.456      0.014      -1.302      -0.146\n",
       "Last Notable Activity_Email Opened               -1.1802      0.187     -6.302      0.000      -1.547      -0.813\n",
       "Last Notable Activity_Modified                   -1.1955      0.123     -9.728      0.000      -1.436      -0.955\n",
       "Last Notable Activity_Olark Chat Conversation    -0.8869      0.420     -2.114      0.034      -1.709      -0.065\n",
       "Last Notable Activity_Unreachable                 1.7152      0.538      3.189      0.001       0.661       2.769\n",
       "=================================================================================================================\n",
       "\"\"\""
      ]
     },
     "execution_count": 115,
     "metadata": {},
     "output_type": "execute_result"
    }
   ],
   "source": [
    "# Build a Logistic Regression Model\n",
    "model1 = sm.GLM(np.array(y_train), X_train_sm, family=sm.families.Binomial())\n",
    "result1 = model1.fit()\n",
    "result1.summary()"
   ]
  },
  {
   "cell_type": "code",
   "execution_count": 116,
   "id": "d4d9c779",
   "metadata": {},
   "outputs": [],
   "source": [
    "# Since p-value of 'Lead Source_Reference' is high then we will delete the column\n",
    "\n",
    "X_train_sm.drop(['Lead Source_Reference'], axis=1, inplace=True)\n",
    "X_test_sm.drop(['Lead Source_Reference'], axis=1, inplace=True)"
   ]
  },
  {
   "cell_type": "code",
   "execution_count": 117,
   "id": "8cd6119d",
   "metadata": {},
   "outputs": [
    {
     "data": {
      "text/html": [
       "<table class=\"simpletable\">\n",
       "<caption>Generalized Linear Model Regression Results</caption>\n",
       "<tr>\n",
       "  <th>Dep. Variable:</th>           <td>y</td>        <th>  No. Observations:  </th>  <td>  5350</td> \n",
       "</tr>\n",
       "<tr>\n",
       "  <th>Model:</th>                  <td>GLM</td>       <th>  Df Residuals:      </th>  <td>  5330</td> \n",
       "</tr>\n",
       "<tr>\n",
       "  <th>Model Family:</th>        <td>Binomial</td>     <th>  Df Model:          </th>  <td>    19</td> \n",
       "</tr>\n",
       "<tr>\n",
       "  <th>Link Function:</th>         <td>logit</td>      <th>  Scale:             </th> <td>  1.0000</td>\n",
       "</tr>\n",
       "<tr>\n",
       "  <th>Method:</th>                <td>IRLS</td>       <th>  Log-Likelihood:    </th> <td> -2464.3</td>\n",
       "</tr>\n",
       "<tr>\n",
       "  <th>Date:</th>            <td>Sun, 19 May 2024</td> <th>  Deviance:          </th> <td>  4928.6</td>\n",
       "</tr>\n",
       "<tr>\n",
       "  <th>Time:</th>                <td>21:30:30</td>     <th>  Pearson chi2:      </th> <td>5.46e+03</td>\n",
       "</tr>\n",
       "<tr>\n",
       "  <th>No. Iterations:</th>          <td>7</td>        <th>                     </th>     <td> </td>   \n",
       "</tr>\n",
       "<tr>\n",
       "  <th>Covariance Type:</th>     <td>nonrobust</td>    <th>                     </th>     <td> </td>   \n",
       "</tr>\n",
       "</table>\n",
       "<table class=\"simpletable\">\n",
       "<tr>\n",
       "                        <td></td>                           <th>coef</th>     <th>std err</th>      <th>z</th>      <th>P>|z|</th>  <th>[0.025</th>    <th>0.975]</th>  \n",
       "</tr>\n",
       "<tr>\n",
       "  <th>const</th>                                         <td>   -0.6510</td> <td>    0.198</td> <td>   -3.285</td> <td> 0.001</td> <td>   -1.040</td> <td>   -0.263</td>\n",
       "</tr>\n",
       "<tr>\n",
       "  <th>Do Not Email</th>                                  <td>   -1.4691</td> <td>    0.180</td> <td>   -8.176</td> <td> 0.000</td> <td>   -1.821</td> <td>   -1.117</td>\n",
       "</tr>\n",
       "<tr>\n",
       "  <th>TotalVisits</th>                                   <td>    1.0792</td> <td>    0.190</td> <td>    5.685</td> <td> 0.000</td> <td>    0.707</td> <td>    1.451</td>\n",
       "</tr>\n",
       "<tr>\n",
       "  <th>Total Time Spent on Website</th>                   <td>    4.3894</td> <td>    0.168</td> <td>   26.133</td> <td> 0.000</td> <td>    4.060</td> <td>    4.719</td>\n",
       "</tr>\n",
       "<tr>\n",
       "  <th>Page Views Per Visit</th>                          <td>   -0.9659</td> <td>    0.198</td> <td>   -4.879</td> <td> 0.000</td> <td>   -1.354</td> <td>   -0.578</td>\n",
       "</tr>\n",
       "<tr>\n",
       "  <th>Lead Origin_Landing Page Submission</th>           <td>   -1.1251</td> <td>    0.127</td> <td>   -8.845</td> <td> 0.000</td> <td>   -1.374</td> <td>   -0.876</td>\n",
       "</tr>\n",
       "<tr>\n",
       "  <th>Lead Origin_Lead Add Form</th>                     <td>    3.3698</td> <td>    0.258</td> <td>   13.049</td> <td> 0.000</td> <td>    2.864</td> <td>    3.876</td>\n",
       "</tr>\n",
       "<tr>\n",
       "  <th>Lead Source_Olark Chat</th>                        <td>    1.2806</td> <td>    0.154</td> <td>    8.294</td> <td> 0.000</td> <td>    0.978</td> <td>    1.583</td>\n",
       "</tr>\n",
       "<tr>\n",
       "  <th>Lead Source_Welingak Website</th>                  <td>    2.0339</td> <td>    0.758</td> <td>    2.682</td> <td> 0.007</td> <td>    0.547</td> <td>    3.520</td>\n",
       "</tr>\n",
       "<tr>\n",
       "  <th>Last Activity_Email Opened</th>                    <td>    1.0335</td> <td>    0.169</td> <td>    6.098</td> <td> 0.000</td> <td>    0.701</td> <td>    1.366</td>\n",
       "</tr>\n",
       "<tr>\n",
       "  <th>Last Activity_Had a Phone Conversation</th>        <td>    2.2123</td> <td>    0.624</td> <td>    3.545</td> <td> 0.000</td> <td>    0.989</td> <td>    3.435</td>\n",
       "</tr>\n",
       "<tr>\n",
       "  <th>Last Activity_Olark Chat Conversation</th>         <td>   -0.4374</td> <td>    0.227</td> <td>   -1.927</td> <td> 0.054</td> <td>   -0.882</td> <td>    0.007</td>\n",
       "</tr>\n",
       "<tr>\n",
       "  <th>Last Activity_Other Activity</th>                  <td>    1.8949</td> <td>    0.948</td> <td>    1.998</td> <td> 0.046</td> <td>    0.036</td> <td>    3.753</td>\n",
       "</tr>\n",
       "<tr>\n",
       "  <th>Last Activity_SMS Sent</th>                        <td>    1.1510</td> <td>    0.131</td> <td>    8.782</td> <td> 0.000</td> <td>    0.894</td> <td>    1.408</td>\n",
       "</tr>\n",
       "<tr>\n",
       "  <th>Specialization_Select</th>                         <td>   -1.1085</td> <td>    0.129</td> <td>   -8.609</td> <td> 0.000</td> <td>   -1.361</td> <td>   -0.856</td>\n",
       "</tr>\n",
       "<tr>\n",
       "  <th>Last Notable Activity_Email Link Clicked</th>      <td>   -0.7201</td> <td>    0.295</td> <td>   -2.444</td> <td> 0.015</td> <td>   -1.298</td> <td>   -0.143</td>\n",
       "</tr>\n",
       "<tr>\n",
       "  <th>Last Notable Activity_Email Opened</th>            <td>   -1.1801</td> <td>    0.187</td> <td>   -6.305</td> <td> 0.000</td> <td>   -1.547</td> <td>   -0.813</td>\n",
       "</tr>\n",
       "<tr>\n",
       "  <th>Last Notable Activity_Modified</th>                <td>   -1.1936</td> <td>    0.123</td> <td>   -9.718</td> <td> 0.000</td> <td>   -1.434</td> <td>   -0.953</td>\n",
       "</tr>\n",
       "<tr>\n",
       "  <th>Last Notable Activity_Olark Chat Conversation</th> <td>   -0.8844</td> <td>    0.419</td> <td>   -2.109</td> <td> 0.035</td> <td>   -1.706</td> <td>   -0.063</td>\n",
       "</tr>\n",
       "<tr>\n",
       "  <th>Last Notable Activity_Unreachable</th>             <td>    1.7163</td> <td>    0.538</td> <td>    3.191</td> <td> 0.001</td> <td>    0.662</td> <td>    2.770</td>\n",
       "</tr>\n",
       "</table>"
      ],
      "text/plain": [
       "<class 'statsmodels.iolib.summary.Summary'>\n",
       "\"\"\"\n",
       "                 Generalized Linear Model Regression Results                  \n",
       "==============================================================================\n",
       "Dep. Variable:                      y   No. Observations:                 5350\n",
       "Model:                            GLM   Df Residuals:                     5330\n",
       "Model Family:                Binomial   Df Model:                           19\n",
       "Link Function:                  logit   Scale:                          1.0000\n",
       "Method:                          IRLS   Log-Likelihood:                -2464.3\n",
       "Date:                Sun, 19 May 2024   Deviance:                       4928.6\n",
       "Time:                        21:30:30   Pearson chi2:                 5.46e+03\n",
       "No. Iterations:                     7                                         \n",
       "Covariance Type:            nonrobust                                         \n",
       "=================================================================================================================\n",
       "                                                    coef    std err          z      P>|z|      [0.025      0.975]\n",
       "-----------------------------------------------------------------------------------------------------------------\n",
       "const                                            -0.6510      0.198     -3.285      0.001      -1.040      -0.263\n",
       "Do Not Email                                     -1.4691      0.180     -8.176      0.000      -1.821      -1.117\n",
       "TotalVisits                                       1.0792      0.190      5.685      0.000       0.707       1.451\n",
       "Total Time Spent on Website                       4.3894      0.168     26.133      0.000       4.060       4.719\n",
       "Page Views Per Visit                             -0.9659      0.198     -4.879      0.000      -1.354      -0.578\n",
       "Lead Origin_Landing Page Submission              -1.1251      0.127     -8.845      0.000      -1.374      -0.876\n",
       "Lead Origin_Lead Add Form                         3.3698      0.258     13.049      0.000       2.864       3.876\n",
       "Lead Source_Olark Chat                            1.2806      0.154      8.294      0.000       0.978       1.583\n",
       "Lead Source_Welingak Website                      2.0339      0.758      2.682      0.007       0.547       3.520\n",
       "Last Activity_Email Opened                        1.0335      0.169      6.098      0.000       0.701       1.366\n",
       "Last Activity_Had a Phone Conversation            2.2123      0.624      3.545      0.000       0.989       3.435\n",
       "Last Activity_Olark Chat Conversation            -0.4374      0.227     -1.927      0.054      -0.882       0.007\n",
       "Last Activity_Other Activity                      1.8949      0.948      1.998      0.046       0.036       3.753\n",
       "Last Activity_SMS Sent                            1.1510      0.131      8.782      0.000       0.894       1.408\n",
       "Specialization_Select                            -1.1085      0.129     -8.609      0.000      -1.361      -0.856\n",
       "Last Notable Activity_Email Link Clicked         -0.7201      0.295     -2.444      0.015      -1.298      -0.143\n",
       "Last Notable Activity_Email Opened               -1.1801      0.187     -6.305      0.000      -1.547      -0.813\n",
       "Last Notable Activity_Modified                   -1.1936      0.123     -9.718      0.000      -1.434      -0.953\n",
       "Last Notable Activity_Olark Chat Conversation    -0.8844      0.419     -2.109      0.035      -1.706      -0.063\n",
       "Last Notable Activity_Unreachable                 1.7163      0.538      3.191      0.001       0.662       2.770\n",
       "=================================================================================================================\n",
       "\"\"\""
      ]
     },
     "execution_count": 117,
     "metadata": {},
     "output_type": "execute_result"
    }
   ],
   "source": [
    "model2 = sm.GLM(np.array(y_train), X_train_sm, family=sm.families.Binomial())\n",
    "result2 = model2.fit()\n",
    "result2.summary()"
   ]
  },
  {
   "cell_type": "code",
   "execution_count": 118,
   "id": "9cbb275e",
   "metadata": {},
   "outputs": [],
   "source": [
    "# Since p-value of 'Last Activity_Olark Chat Conversation' is high then we will delete the column\n",
    "\n",
    "X_train_sm.drop(['Last Activity_Olark Chat Conversation'], axis=1, inplace=True)\n",
    "X_test_sm.drop(['Last Activity_Olark Chat Conversation'], axis=1, inplace=True)"
   ]
  },
  {
   "cell_type": "code",
   "execution_count": 119,
   "id": "c265c084",
   "metadata": {},
   "outputs": [
    {
     "data": {
      "text/html": [
       "<table class=\"simpletable\">\n",
       "<caption>Generalized Linear Model Regression Results</caption>\n",
       "<tr>\n",
       "  <th>Dep. Variable:</th>           <td>y</td>        <th>  No. Observations:  </th>  <td>  5350</td> \n",
       "</tr>\n",
       "<tr>\n",
       "  <th>Model:</th>                  <td>GLM</td>       <th>  Df Residuals:      </th>  <td>  5331</td> \n",
       "</tr>\n",
       "<tr>\n",
       "  <th>Model Family:</th>        <td>Binomial</td>     <th>  Df Model:          </th>  <td>    18</td> \n",
       "</tr>\n",
       "<tr>\n",
       "  <th>Link Function:</th>         <td>logit</td>      <th>  Scale:             </th> <td>  1.0000</td>\n",
       "</tr>\n",
       "<tr>\n",
       "  <th>Method:</th>                <td>IRLS</td>       <th>  Log-Likelihood:    </th> <td> -2466.2</td>\n",
       "</tr>\n",
       "<tr>\n",
       "  <th>Date:</th>            <td>Sun, 19 May 2024</td> <th>  Deviance:          </th> <td>  4932.5</td>\n",
       "</tr>\n",
       "<tr>\n",
       "  <th>Time:</th>                <td>21:30:30</td>     <th>  Pearson chi2:      </th> <td>5.47e+03</td>\n",
       "</tr>\n",
       "<tr>\n",
       "  <th>No. Iterations:</th>          <td>7</td>        <th>                     </th>     <td> </td>   \n",
       "</tr>\n",
       "<tr>\n",
       "  <th>Covariance Type:</th>     <td>nonrobust</td>    <th>                     </th>     <td> </td>   \n",
       "</tr>\n",
       "</table>\n",
       "<table class=\"simpletable\">\n",
       "<tr>\n",
       "                        <td></td>                           <th>coef</th>     <th>std err</th>      <th>z</th>      <th>P>|z|</th>  <th>[0.025</th>    <th>0.975]</th>  \n",
       "</tr>\n",
       "<tr>\n",
       "  <th>const</th>                                         <td>   -0.7092</td> <td>    0.197</td> <td>   -3.607</td> <td> 0.000</td> <td>   -1.095</td> <td>   -0.324</td>\n",
       "</tr>\n",
       "<tr>\n",
       "  <th>Do Not Email</th>                                  <td>   -1.4310</td> <td>    0.179</td> <td>   -7.984</td> <td> 0.000</td> <td>   -1.782</td> <td>   -1.080</td>\n",
       "</tr>\n",
       "<tr>\n",
       "  <th>TotalVisits</th>                                   <td>    1.0823</td> <td>    0.190</td> <td>    5.695</td> <td> 0.000</td> <td>    0.710</td> <td>    1.455</td>\n",
       "</tr>\n",
       "<tr>\n",
       "  <th>Total Time Spent on Website</th>                   <td>    4.3948</td> <td>    0.168</td> <td>   26.120</td> <td> 0.000</td> <td>    4.065</td> <td>    4.725</td>\n",
       "</tr>\n",
       "<tr>\n",
       "  <th>Page Views Per Visit</th>                          <td>   -0.9850</td> <td>    0.198</td> <td>   -4.973</td> <td> 0.000</td> <td>   -1.373</td> <td>   -0.597</td>\n",
       "</tr>\n",
       "<tr>\n",
       "  <th>Lead Origin_Landing Page Submission</th>           <td>   -1.1139</td> <td>    0.127</td> <td>   -8.771</td> <td> 0.000</td> <td>   -1.363</td> <td>   -0.865</td>\n",
       "</tr>\n",
       "<tr>\n",
       "  <th>Lead Origin_Lead Add Form</th>                     <td>    3.3735</td> <td>    0.258</td> <td>   13.061</td> <td> 0.000</td> <td>    2.867</td> <td>    3.880</td>\n",
       "</tr>\n",
       "<tr>\n",
       "  <th>Lead Source_Olark Chat</th>                        <td>    1.2330</td> <td>    0.152</td> <td>    8.120</td> <td> 0.000</td> <td>    0.935</td> <td>    1.531</td>\n",
       "</tr>\n",
       "<tr>\n",
       "  <th>Lead Source_Welingak Website</th>                  <td>    2.0361</td> <td>    0.758</td> <td>    2.685</td> <td> 0.007</td> <td>    0.550</td> <td>    3.523</td>\n",
       "</tr>\n",
       "<tr>\n",
       "  <th>Last Activity_Email Opened</th>                    <td>    1.1481</td> <td>    0.160</td> <td>    7.181</td> <td> 0.000</td> <td>    0.835</td> <td>    1.461</td>\n",
       "</tr>\n",
       "<tr>\n",
       "  <th>Last Activity_Had a Phone Conversation</th>        <td>    2.2945</td> <td>    0.624</td> <td>    3.679</td> <td> 0.000</td> <td>    1.072</td> <td>    3.517</td>\n",
       "</tr>\n",
       "<tr>\n",
       "  <th>Last Activity_Other Activity</th>                  <td>    1.9994</td> <td>    0.953</td> <td>    2.098</td> <td> 0.036</td> <td>    0.132</td> <td>    3.867</td>\n",
       "</tr>\n",
       "<tr>\n",
       "  <th>Last Activity_SMS Sent</th>                        <td>    1.2219</td> <td>    0.127</td> <td>    9.646</td> <td> 0.000</td> <td>    0.974</td> <td>    1.470</td>\n",
       "</tr>\n",
       "<tr>\n",
       "  <th>Specialization_Select</th>                         <td>   -1.1175</td> <td>    0.128</td> <td>   -8.716</td> <td> 0.000</td> <td>   -1.369</td> <td>   -0.866</td>\n",
       "</tr>\n",
       "<tr>\n",
       "  <th>Last Notable Activity_Email Link Clicked</th>      <td>   -0.6533</td> <td>    0.293</td> <td>   -2.230</td> <td> 0.026</td> <td>   -1.228</td> <td>   -0.079</td>\n",
       "</tr>\n",
       "<tr>\n",
       "  <th>Last Notable Activity_Email Opened</th>            <td>   -1.2302</td> <td>    0.186</td> <td>   -6.623</td> <td> 0.000</td> <td>   -1.594</td> <td>   -0.866</td>\n",
       "</tr>\n",
       "<tr>\n",
       "  <th>Last Notable Activity_Modified</th>                <td>   -1.2397</td> <td>    0.121</td> <td>  -10.243</td> <td> 0.000</td> <td>   -1.477</td> <td>   -1.003</td>\n",
       "</tr>\n",
       "<tr>\n",
       "  <th>Last Notable Activity_Olark Chat Conversation</th> <td>   -1.2426</td> <td>    0.375</td> <td>   -3.310</td> <td> 0.001</td> <td>   -1.978</td> <td>   -0.507</td>\n",
       "</tr>\n",
       "<tr>\n",
       "  <th>Last Notable Activity_Unreachable</th>             <td>    1.7755</td> <td>    0.536</td> <td>    3.310</td> <td> 0.001</td> <td>    0.724</td> <td>    2.827</td>\n",
       "</tr>\n",
       "</table>"
      ],
      "text/plain": [
       "<class 'statsmodels.iolib.summary.Summary'>\n",
       "\"\"\"\n",
       "                 Generalized Linear Model Regression Results                  \n",
       "==============================================================================\n",
       "Dep. Variable:                      y   No. Observations:                 5350\n",
       "Model:                            GLM   Df Residuals:                     5331\n",
       "Model Family:                Binomial   Df Model:                           18\n",
       "Link Function:                  logit   Scale:                          1.0000\n",
       "Method:                          IRLS   Log-Likelihood:                -2466.2\n",
       "Date:                Sun, 19 May 2024   Deviance:                       4932.5\n",
       "Time:                        21:30:30   Pearson chi2:                 5.47e+03\n",
       "No. Iterations:                     7                                         \n",
       "Covariance Type:            nonrobust                                         \n",
       "=================================================================================================================\n",
       "                                                    coef    std err          z      P>|z|      [0.025      0.975]\n",
       "-----------------------------------------------------------------------------------------------------------------\n",
       "const                                            -0.7092      0.197     -3.607      0.000      -1.095      -0.324\n",
       "Do Not Email                                     -1.4310      0.179     -7.984      0.000      -1.782      -1.080\n",
       "TotalVisits                                       1.0823      0.190      5.695      0.000       0.710       1.455\n",
       "Total Time Spent on Website                       4.3948      0.168     26.120      0.000       4.065       4.725\n",
       "Page Views Per Visit                             -0.9850      0.198     -4.973      0.000      -1.373      -0.597\n",
       "Lead Origin_Landing Page Submission              -1.1139      0.127     -8.771      0.000      -1.363      -0.865\n",
       "Lead Origin_Lead Add Form                         3.3735      0.258     13.061      0.000       2.867       3.880\n",
       "Lead Source_Olark Chat                            1.2330      0.152      8.120      0.000       0.935       1.531\n",
       "Lead Source_Welingak Website                      2.0361      0.758      2.685      0.007       0.550       3.523\n",
       "Last Activity_Email Opened                        1.1481      0.160      7.181      0.000       0.835       1.461\n",
       "Last Activity_Had a Phone Conversation            2.2945      0.624      3.679      0.000       1.072       3.517\n",
       "Last Activity_Other Activity                      1.9994      0.953      2.098      0.036       0.132       3.867\n",
       "Last Activity_SMS Sent                            1.2219      0.127      9.646      0.000       0.974       1.470\n",
       "Specialization_Select                            -1.1175      0.128     -8.716      0.000      -1.369      -0.866\n",
       "Last Notable Activity_Email Link Clicked         -0.6533      0.293     -2.230      0.026      -1.228      -0.079\n",
       "Last Notable Activity_Email Opened               -1.2302      0.186     -6.623      0.000      -1.594      -0.866\n",
       "Last Notable Activity_Modified                   -1.2397      0.121    -10.243      0.000      -1.477      -1.003\n",
       "Last Notable Activity_Olark Chat Conversation    -1.2426      0.375     -3.310      0.001      -1.978      -0.507\n",
       "Last Notable Activity_Unreachable                 1.7755      0.536      3.310      0.001       0.724       2.827\n",
       "=================================================================================================================\n",
       "\"\"\""
      ]
     },
     "execution_count": 119,
     "metadata": {},
     "output_type": "execute_result"
    }
   ],
   "source": [
    "model3 = sm.GLM(np.array(y_train), X_train_sm, family=sm.families.Binomial())\n",
    "result3 = model3.fit()\n",
    "result3.summary()"
   ]
  },
  {
   "cell_type": "markdown",
   "id": "e0230f1b",
   "metadata": {},
   "source": [
    "### Calculation of VIF"
   ]
  },
  {
   "cell_type": "code",
   "execution_count": 120,
   "id": "4ddad382",
   "metadata": {},
   "outputs": [
    {
     "data": {
      "text/html": [
       "<div>\n",
       "<style scoped>\n",
       "    .dataframe tbody tr th:only-of-type {\n",
       "        vertical-align: middle;\n",
       "    }\n",
       "\n",
       "    .dataframe tbody tr th {\n",
       "        vertical-align: top;\n",
       "    }\n",
       "\n",
       "    .dataframe thead th {\n",
       "        text-align: right;\n",
       "    }\n",
       "</style>\n",
       "<table border=\"1\" class=\"dataframe\">\n",
       "  <thead>\n",
       "    <tr style=\"text-align: right;\">\n",
       "      <th></th>\n",
       "      <th>Feature</th>\n",
       "      <th>VIF</th>\n",
       "    </tr>\n",
       "  </thead>\n",
       "  <tbody>\n",
       "    <tr>\n",
       "      <th>0</th>\n",
       "      <td>const</td>\n",
       "      <td>30.630618</td>\n",
       "    </tr>\n",
       "    <tr>\n",
       "      <th>1</th>\n",
       "      <td>Do Not Email</td>\n",
       "      <td>1.153745</td>\n",
       "    </tr>\n",
       "    <tr>\n",
       "      <th>2</th>\n",
       "      <td>TotalVisits</td>\n",
       "      <td>2.378952</td>\n",
       "    </tr>\n",
       "    <tr>\n",
       "      <th>3</th>\n",
       "      <td>Total Time Spent on Website</td>\n",
       "      <td>1.245050</td>\n",
       "    </tr>\n",
       "    <tr>\n",
       "      <th>4</th>\n",
       "      <td>Page Views Per Visit</td>\n",
       "      <td>2.817941</td>\n",
       "    </tr>\n",
       "    <tr>\n",
       "      <th>5</th>\n",
       "      <td>Lead Origin_Landing Page Submission</td>\n",
       "      <td>2.969607</td>\n",
       "    </tr>\n",
       "    <tr>\n",
       "      <th>6</th>\n",
       "      <td>Lead Origin_Lead Add Form</td>\n",
       "      <td>2.207898</td>\n",
       "    </tr>\n",
       "    <tr>\n",
       "      <th>7</th>\n",
       "      <td>Lead Source_Olark Chat</td>\n",
       "      <td>1.993816</td>\n",
       "    </tr>\n",
       "    <tr>\n",
       "      <th>8</th>\n",
       "      <td>Lead Source_Welingak Website</td>\n",
       "      <td>1.372646</td>\n",
       "    </tr>\n",
       "    <tr>\n",
       "      <th>9</th>\n",
       "      <td>Last Activity_Email Opened</td>\n",
       "      <td>4.983509</td>\n",
       "    </tr>\n",
       "    <tr>\n",
       "      <th>10</th>\n",
       "      <td>Last Activity_Had a Phone Conversation</td>\n",
       "      <td>1.020744</td>\n",
       "    </tr>\n",
       "    <tr>\n",
       "      <th>11</th>\n",
       "      <td>Last Activity_Other Activity</td>\n",
       "      <td>1.007663</td>\n",
       "    </tr>\n",
       "    <tr>\n",
       "      <th>12</th>\n",
       "      <td>Last Activity_SMS Sent</td>\n",
       "      <td>2.758757</td>\n",
       "    </tr>\n",
       "    <tr>\n",
       "      <th>13</th>\n",
       "      <td>Specialization_Select</td>\n",
       "      <td>2.226602</td>\n",
       "    </tr>\n",
       "    <tr>\n",
       "      <th>14</th>\n",
       "      <td>Last Notable Activity_Email Link Clicked</td>\n",
       "      <td>1.197910</td>\n",
       "    </tr>\n",
       "    <tr>\n",
       "      <th>15</th>\n",
       "      <td>Last Notable Activity_Email Opened</td>\n",
       "      <td>6.524396</td>\n",
       "    </tr>\n",
       "    <tr>\n",
       "      <th>16</th>\n",
       "      <td>Last Notable Activity_Modified</td>\n",
       "      <td>2.484188</td>\n",
       "    </tr>\n",
       "    <tr>\n",
       "      <th>17</th>\n",
       "      <td>Last Notable Activity_Olark Chat Conversation</td>\n",
       "      <td>1.144772</td>\n",
       "    </tr>\n",
       "    <tr>\n",
       "      <th>18</th>\n",
       "      <td>Last Notable Activity_Unreachable</td>\n",
       "      <td>1.058645</td>\n",
       "    </tr>\n",
       "  </tbody>\n",
       "</table>\n",
       "</div>"
      ],
      "text/plain": [
       "                                          Feature        VIF\n",
       "0                                           const  30.630618\n",
       "1                                    Do Not Email   1.153745\n",
       "2                                     TotalVisits   2.378952\n",
       "3                     Total Time Spent on Website   1.245050\n",
       "4                            Page Views Per Visit   2.817941\n",
       "5             Lead Origin_Landing Page Submission   2.969607\n",
       "6                       Lead Origin_Lead Add Form   2.207898\n",
       "7                          Lead Source_Olark Chat   1.993816\n",
       "8                    Lead Source_Welingak Website   1.372646\n",
       "9                      Last Activity_Email Opened   4.983509\n",
       "10         Last Activity_Had a Phone Conversation   1.020744\n",
       "11                   Last Activity_Other Activity   1.007663\n",
       "12                         Last Activity_SMS Sent   2.758757\n",
       "13                          Specialization_Select   2.226602\n",
       "14       Last Notable Activity_Email Link Clicked   1.197910\n",
       "15             Last Notable Activity_Email Opened   6.524396\n",
       "16                 Last Notable Activity_Modified   2.484188\n",
       "17  Last Notable Activity_Olark Chat Conversation   1.144772\n",
       "18              Last Notable Activity_Unreachable   1.058645"
      ]
     },
     "execution_count": 120,
     "metadata": {},
     "output_type": "execute_result"
    }
   ],
   "source": [
    "vif_data = pd.DataFrame()\n",
    "vif_data['Feature'] = X_train_sm.columns\n",
    "vif_data['VIF'] = [variance_inflation_factor(X_train_sm.values, i) for i in range(len(X_train_sm.columns))]\n",
    "vif_data"
   ]
  },
  {
   "cell_type": "code",
   "execution_count": 121,
   "id": "28f9c3d4",
   "metadata": {},
   "outputs": [],
   "source": [
    "# Since VIF of 'Last Notable Activity_Email Opened' column is higher than 5 then we will drop this column\n",
    "\n",
    "X_train_sm.drop(['Last Notable Activity_Email Opened'], axis=1, inplace=True)\n",
    "X_test_sm.drop(['Last Notable Activity_Email Opened'], axis=1, inplace=True)"
   ]
  },
  {
   "cell_type": "code",
   "execution_count": 122,
   "id": "e3289ae7",
   "metadata": {},
   "outputs": [
    {
     "data": {
      "text/html": [
       "<table class=\"simpletable\">\n",
       "<caption>Generalized Linear Model Regression Results</caption>\n",
       "<tr>\n",
       "  <th>Dep. Variable:</th>           <td>y</td>        <th>  No. Observations:  </th>  <td>  5350</td> \n",
       "</tr>\n",
       "<tr>\n",
       "  <th>Model:</th>                  <td>GLM</td>       <th>  Df Residuals:      </th>  <td>  5332</td> \n",
       "</tr>\n",
       "<tr>\n",
       "  <th>Model Family:</th>        <td>Binomial</td>     <th>  Df Model:          </th>  <td>    17</td> \n",
       "</tr>\n",
       "<tr>\n",
       "  <th>Link Function:</th>         <td>logit</td>      <th>  Scale:             </th> <td>  1.0000</td>\n",
       "</tr>\n",
       "<tr>\n",
       "  <th>Method:</th>                <td>IRLS</td>       <th>  Log-Likelihood:    </th> <td> -2487.9</td>\n",
       "</tr>\n",
       "<tr>\n",
       "  <th>Date:</th>            <td>Sun, 19 May 2024</td> <th>  Deviance:          </th> <td>  4975.8</td>\n",
       "</tr>\n",
       "<tr>\n",
       "  <th>Time:</th>                <td>21:30:30</td>     <th>  Pearson chi2:      </th> <td>5.50e+03</td>\n",
       "</tr>\n",
       "<tr>\n",
       "  <th>No. Iterations:</th>          <td>7</td>        <th>                     </th>     <td> </td>   \n",
       "</tr>\n",
       "<tr>\n",
       "  <th>Covariance Type:</th>     <td>nonrobust</td>    <th>                     </th>     <td> </td>   \n",
       "</tr>\n",
       "</table>\n",
       "<table class=\"simpletable\">\n",
       "<tr>\n",
       "                        <td></td>                           <th>coef</th>     <th>std err</th>      <th>z</th>      <th>P>|z|</th>  <th>[0.025</th>    <th>0.975]</th>  \n",
       "</tr>\n",
       "<tr>\n",
       "  <th>const</th>                                         <td>   -1.1273</td> <td>    0.187</td> <td>   -6.036</td> <td> 0.000</td> <td>   -1.493</td> <td>   -0.761</td>\n",
       "</tr>\n",
       "<tr>\n",
       "  <th>Do Not Email</th>                                  <td>   -1.3606</td> <td>    0.178</td> <td>   -7.645</td> <td> 0.000</td> <td>   -1.709</td> <td>   -1.012</td>\n",
       "</tr>\n",
       "<tr>\n",
       "  <th>TotalVisits</th>                                   <td>    1.1689</td> <td>    0.189</td> <td>    6.190</td> <td> 0.000</td> <td>    0.799</td> <td>    1.539</td>\n",
       "</tr>\n",
       "<tr>\n",
       "  <th>Total Time Spent on Website</th>                   <td>    4.4036</td> <td>    0.168</td> <td>   26.278</td> <td> 0.000</td> <td>    4.075</td> <td>    4.732</td>\n",
       "</tr>\n",
       "<tr>\n",
       "  <th>Page Views Per Visit</th>                          <td>   -1.0219</td> <td>    0.197</td> <td>   -5.185</td> <td> 0.000</td> <td>   -1.408</td> <td>   -0.636</td>\n",
       "</tr>\n",
       "<tr>\n",
       "  <th>Lead Origin_Landing Page Submission</th>           <td>   -1.1025</td> <td>    0.127</td> <td>   -8.709</td> <td> 0.000</td> <td>   -1.351</td> <td>   -0.854</td>\n",
       "</tr>\n",
       "<tr>\n",
       "  <th>Lead Origin_Lead Add Form</th>                     <td>    3.4014</td> <td>    0.258</td> <td>   13.202</td> <td> 0.000</td> <td>    2.896</td> <td>    3.906</td>\n",
       "</tr>\n",
       "<tr>\n",
       "  <th>Lead Source_Olark Chat</th>                        <td>    1.2643</td> <td>    0.151</td> <td>    8.365</td> <td> 0.000</td> <td>    0.968</td> <td>    1.561</td>\n",
       "</tr>\n",
       "<tr>\n",
       "  <th>Lead Source_Welingak Website</th>                  <td>    1.9631</td> <td>    0.758</td> <td>    2.590</td> <td> 0.010</td> <td>    0.477</td> <td>    3.449</td>\n",
       "</tr>\n",
       "<tr>\n",
       "  <th>Last Activity_Email Opened</th>                    <td>    0.4162</td> <td>    0.119</td> <td>    3.511</td> <td> 0.000</td> <td>    0.184</td> <td>    0.649</td>\n",
       "</tr>\n",
       "<tr>\n",
       "  <th>Last Activity_Had a Phone Conversation</th>        <td>    2.4250</td> <td>    0.610</td> <td>    3.975</td> <td> 0.000</td> <td>    1.229</td> <td>    3.621</td>\n",
       "</tr>\n",
       "<tr>\n",
       "  <th>Last Activity_Other Activity</th>                  <td>    2.0350</td> <td>    0.925</td> <td>    2.200</td> <td> 0.028</td> <td>    0.222</td> <td>    3.848</td>\n",
       "</tr>\n",
       "<tr>\n",
       "  <th>Last Activity_SMS Sent</th>                        <td>    1.5051</td> <td>    0.119</td> <td>   12.619</td> <td> 0.000</td> <td>    1.271</td> <td>    1.739</td>\n",
       "</tr>\n",
       "<tr>\n",
       "  <th>Specialization_Select</th>                         <td>   -1.0980</td> <td>    0.128</td> <td>   -8.594</td> <td> 0.000</td> <td>   -1.348</td> <td>   -0.848</td>\n",
       "</tr>\n",
       "<tr>\n",
       "  <th>Last Notable Activity_Email Link Clicked</th>      <td>   -0.2765</td> <td>    0.288</td> <td>   -0.961</td> <td> 0.336</td> <td>   -0.840</td> <td>    0.287</td>\n",
       "</tr>\n",
       "<tr>\n",
       "  <th>Last Notable Activity_Modified</th>                <td>   -0.7416</td> <td>    0.094</td> <td>   -7.883</td> <td> 0.000</td> <td>   -0.926</td> <td>   -0.557</td>\n",
       "</tr>\n",
       "<tr>\n",
       "  <th>Last Notable Activity_Olark Chat Conversation</th> <td>   -0.8751</td> <td>    0.372</td> <td>   -2.355</td> <td> 0.019</td> <td>   -1.603</td> <td>   -0.147</td>\n",
       "</tr>\n",
       "<tr>\n",
       "  <th>Last Notable Activity_Unreachable</th>             <td>    2.1592</td> <td>    0.533</td> <td>    4.049</td> <td> 0.000</td> <td>    1.114</td> <td>    3.204</td>\n",
       "</tr>\n",
       "</table>"
      ],
      "text/plain": [
       "<class 'statsmodels.iolib.summary.Summary'>\n",
       "\"\"\"\n",
       "                 Generalized Linear Model Regression Results                  \n",
       "==============================================================================\n",
       "Dep. Variable:                      y   No. Observations:                 5350\n",
       "Model:                            GLM   Df Residuals:                     5332\n",
       "Model Family:                Binomial   Df Model:                           17\n",
       "Link Function:                  logit   Scale:                          1.0000\n",
       "Method:                          IRLS   Log-Likelihood:                -2487.9\n",
       "Date:                Sun, 19 May 2024   Deviance:                       4975.8\n",
       "Time:                        21:30:30   Pearson chi2:                 5.50e+03\n",
       "No. Iterations:                     7                                         \n",
       "Covariance Type:            nonrobust                                         \n",
       "=================================================================================================================\n",
       "                                                    coef    std err          z      P>|z|      [0.025      0.975]\n",
       "-----------------------------------------------------------------------------------------------------------------\n",
       "const                                            -1.1273      0.187     -6.036      0.000      -1.493      -0.761\n",
       "Do Not Email                                     -1.3606      0.178     -7.645      0.000      -1.709      -1.012\n",
       "TotalVisits                                       1.1689      0.189      6.190      0.000       0.799       1.539\n",
       "Total Time Spent on Website                       4.4036      0.168     26.278      0.000       4.075       4.732\n",
       "Page Views Per Visit                             -1.0219      0.197     -5.185      0.000      -1.408      -0.636\n",
       "Lead Origin_Landing Page Submission              -1.1025      0.127     -8.709      0.000      -1.351      -0.854\n",
       "Lead Origin_Lead Add Form                         3.4014      0.258     13.202      0.000       2.896       3.906\n",
       "Lead Source_Olark Chat                            1.2643      0.151      8.365      0.000       0.968       1.561\n",
       "Lead Source_Welingak Website                      1.9631      0.758      2.590      0.010       0.477       3.449\n",
       "Last Activity_Email Opened                        0.4162      0.119      3.511      0.000       0.184       0.649\n",
       "Last Activity_Had a Phone Conversation            2.4250      0.610      3.975      0.000       1.229       3.621\n",
       "Last Activity_Other Activity                      2.0350      0.925      2.200      0.028       0.222       3.848\n",
       "Last Activity_SMS Sent                            1.5051      0.119     12.619      0.000       1.271       1.739\n",
       "Specialization_Select                            -1.0980      0.128     -8.594      0.000      -1.348      -0.848\n",
       "Last Notable Activity_Email Link Clicked         -0.2765      0.288     -0.961      0.336      -0.840       0.287\n",
       "Last Notable Activity_Modified                   -0.7416      0.094     -7.883      0.000      -0.926      -0.557\n",
       "Last Notable Activity_Olark Chat Conversation    -0.8751      0.372     -2.355      0.019      -1.603      -0.147\n",
       "Last Notable Activity_Unreachable                 2.1592      0.533      4.049      0.000       1.114       3.204\n",
       "=================================================================================================================\n",
       "\"\"\""
      ]
     },
     "execution_count": 122,
     "metadata": {},
     "output_type": "execute_result"
    }
   ],
   "source": [
    "model4 = sm.GLM(np.array(y_train), X_train_sm, family=sm.families.Binomial())\n",
    "result4 = model4.fit()\n",
    "result4.summary()"
   ]
  },
  {
   "cell_type": "code",
   "execution_count": 182,
   "id": "73babb30",
   "metadata": {},
   "outputs": [
    {
     "data": {
      "text/html": [
       "<div>\n",
       "<style scoped>\n",
       "    .dataframe tbody tr th:only-of-type {\n",
       "        vertical-align: middle;\n",
       "    }\n",
       "\n",
       "    .dataframe tbody tr th {\n",
       "        vertical-align: top;\n",
       "    }\n",
       "\n",
       "    .dataframe thead th {\n",
       "        text-align: right;\n",
       "    }\n",
       "</style>\n",
       "<table border=\"1\" class=\"dataframe\">\n",
       "  <thead>\n",
       "    <tr style=\"text-align: right;\">\n",
       "      <th></th>\n",
       "      <th>Feature</th>\n",
       "      <th>VIF</th>\n",
       "    </tr>\n",
       "  </thead>\n",
       "  <tbody>\n",
       "    <tr>\n",
       "      <th>0</th>\n",
       "      <td>const</td>\n",
       "      <td>27.223856</td>\n",
       "    </tr>\n",
       "    <tr>\n",
       "      <th>1</th>\n",
       "      <td>Do Not Email</td>\n",
       "      <td>1.150859</td>\n",
       "    </tr>\n",
       "    <tr>\n",
       "      <th>2</th>\n",
       "      <td>TotalVisits</td>\n",
       "      <td>2.367344</td>\n",
       "    </tr>\n",
       "    <tr>\n",
       "      <th>3</th>\n",
       "      <td>Total Time Spent on Website</td>\n",
       "      <td>1.242546</td>\n",
       "    </tr>\n",
       "    <tr>\n",
       "      <th>4</th>\n",
       "      <td>Page Views Per Visit</td>\n",
       "      <td>2.815143</td>\n",
       "    </tr>\n",
       "    <tr>\n",
       "      <th>5</th>\n",
       "      <td>Lead Origin_Landing Page Submission</td>\n",
       "      <td>2.969597</td>\n",
       "    </tr>\n",
       "    <tr>\n",
       "      <th>6</th>\n",
       "      <td>Lead Origin_Lead Add Form</td>\n",
       "      <td>2.204801</td>\n",
       "    </tr>\n",
       "    <tr>\n",
       "      <th>7</th>\n",
       "      <td>Lead Source_Olark Chat</td>\n",
       "      <td>1.990904</td>\n",
       "    </tr>\n",
       "    <tr>\n",
       "      <th>8</th>\n",
       "      <td>Lead Source_Welingak Website</td>\n",
       "      <td>1.372453</td>\n",
       "    </tr>\n",
       "    <tr>\n",
       "      <th>9</th>\n",
       "      <td>Last Activity_Email Opened</td>\n",
       "      <td>2.559502</td>\n",
       "    </tr>\n",
       "    <tr>\n",
       "      <th>10</th>\n",
       "      <td>Last Activity_Had a Phone Conversation</td>\n",
       "      <td>1.018194</td>\n",
       "    </tr>\n",
       "    <tr>\n",
       "      <th>11</th>\n",
       "      <td>Last Activity_Other Activity</td>\n",
       "      <td>1.007127</td>\n",
       "    </tr>\n",
       "    <tr>\n",
       "      <th>12</th>\n",
       "      <td>Last Activity_SMS Sent</td>\n",
       "      <td>2.395155</td>\n",
       "    </tr>\n",
       "    <tr>\n",
       "      <th>13</th>\n",
       "      <td>Specialization_Select</td>\n",
       "      <td>2.226359</td>\n",
       "    </tr>\n",
       "    <tr>\n",
       "      <th>14</th>\n",
       "      <td>Last Notable Activity_Email Link Clicked</td>\n",
       "      <td>1.149936</td>\n",
       "    </tr>\n",
       "    <tr>\n",
       "      <th>15</th>\n",
       "      <td>Last Notable Activity_Modified</td>\n",
       "      <td>1.545363</td>\n",
       "    </tr>\n",
       "    <tr>\n",
       "      <th>16</th>\n",
       "      <td>Last Notable Activity_Olark Chat Conversation</td>\n",
       "      <td>1.112739</td>\n",
       "    </tr>\n",
       "    <tr>\n",
       "      <th>17</th>\n",
       "      <td>Last Notable Activity_Unreachable</td>\n",
       "      <td>1.044851</td>\n",
       "    </tr>\n",
       "  </tbody>\n",
       "</table>\n",
       "</div>"
      ],
      "text/plain": [
       "                                          Feature        VIF\n",
       "0                                           const  27.223856\n",
       "1                                    Do Not Email   1.150859\n",
       "2                                     TotalVisits   2.367344\n",
       "3                     Total Time Spent on Website   1.242546\n",
       "4                            Page Views Per Visit   2.815143\n",
       "5             Lead Origin_Landing Page Submission   2.969597\n",
       "6                       Lead Origin_Lead Add Form   2.204801\n",
       "7                          Lead Source_Olark Chat   1.990904\n",
       "8                    Lead Source_Welingak Website   1.372453\n",
       "9                      Last Activity_Email Opened   2.559502\n",
       "10         Last Activity_Had a Phone Conversation   1.018194\n",
       "11                   Last Activity_Other Activity   1.007127\n",
       "12                         Last Activity_SMS Sent   2.395155\n",
       "13                          Specialization_Select   2.226359\n",
       "14       Last Notable Activity_Email Link Clicked   1.149936\n",
       "15                 Last Notable Activity_Modified   1.545363\n",
       "16  Last Notable Activity_Olark Chat Conversation   1.112739\n",
       "17              Last Notable Activity_Unreachable   1.044851"
      ]
     },
     "execution_count": 182,
     "metadata": {},
     "output_type": "execute_result"
    }
   ],
   "source": [
    "vif_data = pd.DataFrame()\n",
    "vif_data['Feature'] = X_train_sm.columns\n",
    "vif_data['VIF'] = [variance_inflation_factor(X_train_sm.values, i) for i in range(len(X_train_sm.columns))]\n",
    "vif_data"
   ]
  },
  {
   "cell_type": "code",
   "execution_count": 183,
   "id": "50eb119e",
   "metadata": {},
   "outputs": [],
   "source": [
    "# Since VIF of 'Last Notable Activity_Email Link Clicked' column is higher than 5 then we will drop this column\n",
    "\n",
    "X_train_sm.drop(['Last Notable Activity_Email Link Clicked'], axis=1, inplace=True)\n",
    "X_test_sm.drop(['Last Notable Activity_Email Link Clicked'], axis=1, inplace=True)"
   ]
  },
  {
   "cell_type": "code",
   "execution_count": 184,
   "id": "b725af87",
   "metadata": {},
   "outputs": [
    {
     "data": {
      "text/html": [
       "<table class=\"simpletable\">\n",
       "<caption>Generalized Linear Model Regression Results</caption>\n",
       "<tr>\n",
       "  <th>Dep. Variable:</th>           <td>y</td>        <th>  No. Observations:  </th>  <td>  5350</td> \n",
       "</tr>\n",
       "<tr>\n",
       "  <th>Model:</th>                  <td>GLM</td>       <th>  Df Residuals:      </th>  <td>  5333</td> \n",
       "</tr>\n",
       "<tr>\n",
       "  <th>Model Family:</th>        <td>Binomial</td>     <th>  Df Model:          </th>  <td>    16</td> \n",
       "</tr>\n",
       "<tr>\n",
       "  <th>Link Function:</th>         <td>logit</td>      <th>  Scale:             </th> <td>  1.0000</td>\n",
       "</tr>\n",
       "<tr>\n",
       "  <th>Method:</th>                <td>IRLS</td>       <th>  Log-Likelihood:    </th> <td> -2488.4</td>\n",
       "</tr>\n",
       "<tr>\n",
       "  <th>Date:</th>            <td>Mon, 20 May 2024</td> <th>  Deviance:          </th> <td>  4976.7</td>\n",
       "</tr>\n",
       "<tr>\n",
       "  <th>Time:</th>                <td>11:34:09</td>     <th>  Pearson chi2:      </th> <td>5.49e+03</td>\n",
       "</tr>\n",
       "<tr>\n",
       "  <th>No. Iterations:</th>          <td>7</td>        <th>                     </th>     <td> </td>   \n",
       "</tr>\n",
       "<tr>\n",
       "  <th>Covariance Type:</th>     <td>nonrobust</td>    <th>                     </th>     <td> </td>   \n",
       "</tr>\n",
       "</table>\n",
       "<table class=\"simpletable\">\n",
       "<tr>\n",
       "                        <td></td>                           <th>coef</th>     <th>std err</th>      <th>z</th>      <th>P>|z|</th>  <th>[0.025</th>    <th>0.975]</th>  \n",
       "</tr>\n",
       "<tr>\n",
       "  <th>const</th>                                         <td>   -1.1705</td> <td>    0.181</td> <td>   -6.452</td> <td> 0.000</td> <td>   -1.526</td> <td>   -0.815</td>\n",
       "</tr>\n",
       "<tr>\n",
       "  <th>Do Not Email</th>                                  <td>   -1.3454</td> <td>    0.177</td> <td>   -7.584</td> <td> 0.000</td> <td>   -1.693</td> <td>   -0.998</td>\n",
       "</tr>\n",
       "<tr>\n",
       "  <th>TotalVisits</th>                                   <td>    1.1735</td> <td>    0.189</td> <td>    6.216</td> <td> 0.000</td> <td>    0.804</td> <td>    1.544</td>\n",
       "</tr>\n",
       "<tr>\n",
       "  <th>Total Time Spent on Website</th>                   <td>    4.4025</td> <td>    0.168</td> <td>   26.277</td> <td> 0.000</td> <td>    4.074</td> <td>    4.731</td>\n",
       "</tr>\n",
       "<tr>\n",
       "  <th>Page Views Per Visit</th>                          <td>   -1.0244</td> <td>    0.197</td> <td>   -5.198</td> <td> 0.000</td> <td>   -1.411</td> <td>   -0.638</td>\n",
       "</tr>\n",
       "<tr>\n",
       "  <th>Lead Origin_Landing Page Submission</th>           <td>   -1.1037</td> <td>    0.127</td> <td>   -8.718</td> <td> 0.000</td> <td>   -1.352</td> <td>   -0.856</td>\n",
       "</tr>\n",
       "<tr>\n",
       "  <th>Lead Origin_Lead Add Form</th>                     <td>    3.3854</td> <td>    0.257</td> <td>   13.184</td> <td> 0.000</td> <td>    2.882</td> <td>    3.889</td>\n",
       "</tr>\n",
       "<tr>\n",
       "  <th>Lead Source_Olark Chat</th>                        <td>    1.2612</td> <td>    0.151</td> <td>    8.347</td> <td> 0.000</td> <td>    0.965</td> <td>    1.557</td>\n",
       "</tr>\n",
       "<tr>\n",
       "  <th>Lead Source_Welingak Website</th>                  <td>    1.9649</td> <td>    0.758</td> <td>    2.592</td> <td> 0.010</td> <td>    0.479</td> <td>    3.450</td>\n",
       "</tr>\n",
       "<tr>\n",
       "  <th>Last Activity_Email Opened</th>                    <td>    0.4569</td> <td>    0.111</td> <td>    4.117</td> <td> 0.000</td> <td>    0.239</td> <td>    0.674</td>\n",
       "</tr>\n",
       "<tr>\n",
       "  <th>Last Activity_Had a Phone Conversation</th>        <td>    2.4561</td> <td>    0.609</td> <td>    4.035</td> <td> 0.000</td> <td>    1.263</td> <td>    3.649</td>\n",
       "</tr>\n",
       "<tr>\n",
       "  <th>Last Activity_Other Activity</th>                  <td>    2.0631</td> <td>    0.923</td> <td>    2.234</td> <td> 0.025</td> <td>    0.253</td> <td>    3.873</td>\n",
       "</tr>\n",
       "<tr>\n",
       "  <th>Last Activity_SMS Sent</th>                        <td>    1.5438</td> <td>    0.113</td> <td>   13.716</td> <td> 0.000</td> <td>    1.323</td> <td>    1.764</td>\n",
       "</tr>\n",
       "<tr>\n",
       "  <th>Specialization_Select</th>                         <td>   -1.0963</td> <td>    0.128</td> <td>   -8.581</td> <td> 0.000</td> <td>   -1.347</td> <td>   -0.846</td>\n",
       "</tr>\n",
       "<tr>\n",
       "  <th>Last Notable Activity_Modified</th>                <td>   -0.7182</td> <td>    0.091</td> <td>   -7.907</td> <td> 0.000</td> <td>   -0.896</td> <td>   -0.540</td>\n",
       "</tr>\n",
       "<tr>\n",
       "  <th>Last Notable Activity_Olark Chat Conversation</th> <td>   -0.8316</td> <td>    0.369</td> <td>   -2.255</td> <td> 0.024</td> <td>   -1.554</td> <td>   -0.109</td>\n",
       "</tr>\n",
       "<tr>\n",
       "  <th>Last Notable Activity_Unreachable</th>             <td>    2.2022</td> <td>    0.531</td> <td>    4.145</td> <td> 0.000</td> <td>    1.161</td> <td>    3.243</td>\n",
       "</tr>\n",
       "</table>"
      ],
      "text/plain": [
       "<class 'statsmodels.iolib.summary.Summary'>\n",
       "\"\"\"\n",
       "                 Generalized Linear Model Regression Results                  \n",
       "==============================================================================\n",
       "Dep. Variable:                      y   No. Observations:                 5350\n",
       "Model:                            GLM   Df Residuals:                     5333\n",
       "Model Family:                Binomial   Df Model:                           16\n",
       "Link Function:                  logit   Scale:                          1.0000\n",
       "Method:                          IRLS   Log-Likelihood:                -2488.4\n",
       "Date:                Mon, 20 May 2024   Deviance:                       4976.7\n",
       "Time:                        11:34:09   Pearson chi2:                 5.49e+03\n",
       "No. Iterations:                     7                                         \n",
       "Covariance Type:            nonrobust                                         \n",
       "=================================================================================================================\n",
       "                                                    coef    std err          z      P>|z|      [0.025      0.975]\n",
       "-----------------------------------------------------------------------------------------------------------------\n",
       "const                                            -1.1705      0.181     -6.452      0.000      -1.526      -0.815\n",
       "Do Not Email                                     -1.3454      0.177     -7.584      0.000      -1.693      -0.998\n",
       "TotalVisits                                       1.1735      0.189      6.216      0.000       0.804       1.544\n",
       "Total Time Spent on Website                       4.4025      0.168     26.277      0.000       4.074       4.731\n",
       "Page Views Per Visit                             -1.0244      0.197     -5.198      0.000      -1.411      -0.638\n",
       "Lead Origin_Landing Page Submission              -1.1037      0.127     -8.718      0.000      -1.352      -0.856\n",
       "Lead Origin_Lead Add Form                         3.3854      0.257     13.184      0.000       2.882       3.889\n",
       "Lead Source_Olark Chat                            1.2612      0.151      8.347      0.000       0.965       1.557\n",
       "Lead Source_Welingak Website                      1.9649      0.758      2.592      0.010       0.479       3.450\n",
       "Last Activity_Email Opened                        0.4569      0.111      4.117      0.000       0.239       0.674\n",
       "Last Activity_Had a Phone Conversation            2.4561      0.609      4.035      0.000       1.263       3.649\n",
       "Last Activity_Other Activity                      2.0631      0.923      2.234      0.025       0.253       3.873\n",
       "Last Activity_SMS Sent                            1.5438      0.113     13.716      0.000       1.323       1.764\n",
       "Specialization_Select                            -1.0963      0.128     -8.581      0.000      -1.347      -0.846\n",
       "Last Notable Activity_Modified                   -0.7182      0.091     -7.907      0.000      -0.896      -0.540\n",
       "Last Notable Activity_Olark Chat Conversation    -0.8316      0.369     -2.255      0.024      -1.554      -0.109\n",
       "Last Notable Activity_Unreachable                 2.2022      0.531      4.145      0.000       1.161       3.243\n",
       "=================================================================================================================\n",
       "\"\"\""
      ]
     },
     "execution_count": 184,
     "metadata": {},
     "output_type": "execute_result"
    }
   ],
   "source": [
    "model5 = sm.GLM(np.array(y_train), X_train_sm, family=sm.families.Binomial())\n",
    "result5 = model5.fit()\n",
    "result5.summary()"
   ]
  },
  {
   "cell_type": "code",
   "execution_count": 227,
   "id": "d464321c",
   "metadata": {},
   "outputs": [
    {
     "data": {
      "text/html": [
       "<div>\n",
       "<style scoped>\n",
       "    .dataframe tbody tr th:only-of-type {\n",
       "        vertical-align: middle;\n",
       "    }\n",
       "\n",
       "    .dataframe tbody tr th {\n",
       "        vertical-align: top;\n",
       "    }\n",
       "\n",
       "    .dataframe thead th {\n",
       "        text-align: right;\n",
       "    }\n",
       "</style>\n",
       "<table border=\"1\" class=\"dataframe\">\n",
       "  <thead>\n",
       "    <tr style=\"text-align: right;\">\n",
       "      <th></th>\n",
       "      <th>Feature</th>\n",
       "      <th>VIF</th>\n",
       "    </tr>\n",
       "  </thead>\n",
       "  <tbody>\n",
       "    <tr>\n",
       "      <th>0</th>\n",
       "      <td>const</td>\n",
       "      <td>25.866052</td>\n",
       "    </tr>\n",
       "    <tr>\n",
       "      <th>1</th>\n",
       "      <td>Do Not Email</td>\n",
       "      <td>1.134102</td>\n",
       "    </tr>\n",
       "    <tr>\n",
       "      <th>2</th>\n",
       "      <td>TotalVisits</td>\n",
       "      <td>2.366804</td>\n",
       "    </tr>\n",
       "    <tr>\n",
       "      <th>3</th>\n",
       "      <td>Total Time Spent on Website</td>\n",
       "      <td>1.242511</td>\n",
       "    </tr>\n",
       "    <tr>\n",
       "      <th>4</th>\n",
       "      <td>Page Views Per Visit</td>\n",
       "      <td>2.814928</td>\n",
       "    </tr>\n",
       "    <tr>\n",
       "      <th>5</th>\n",
       "      <td>Lead Origin_Landing Page Submission</td>\n",
       "      <td>2.969180</td>\n",
       "    </tr>\n",
       "    <tr>\n",
       "      <th>6</th>\n",
       "      <td>Lead Origin_Lead Add Form</td>\n",
       "      <td>2.201671</td>\n",
       "    </tr>\n",
       "    <tr>\n",
       "      <th>7</th>\n",
       "      <td>Lead Source_Olark Chat</td>\n",
       "      <td>1.990431</td>\n",
       "    </tr>\n",
       "    <tr>\n",
       "      <th>8</th>\n",
       "      <td>Lead Source_Welingak Website</td>\n",
       "      <td>1.372450</td>\n",
       "    </tr>\n",
       "    <tr>\n",
       "      <th>9</th>\n",
       "      <td>Last Activity_Email Opened</td>\n",
       "      <td>2.285648</td>\n",
       "    </tr>\n",
       "    <tr>\n",
       "      <th>10</th>\n",
       "      <td>Last Activity_Had a Phone Conversation</td>\n",
       "      <td>1.015703</td>\n",
       "    </tr>\n",
       "    <tr>\n",
       "      <th>11</th>\n",
       "      <td>Last Activity_Other Activity</td>\n",
       "      <td>1.006208</td>\n",
       "    </tr>\n",
       "    <tr>\n",
       "      <th>12</th>\n",
       "      <td>Last Activity_SMS Sent</td>\n",
       "      <td>2.158571</td>\n",
       "    </tr>\n",
       "    <tr>\n",
       "      <th>13</th>\n",
       "      <td>Specialization_Select</td>\n",
       "      <td>2.225930</td>\n",
       "    </tr>\n",
       "    <tr>\n",
       "      <th>14</th>\n",
       "      <td>Last Notable Activity_Modified</td>\n",
       "      <td>1.440119</td>\n",
       "    </tr>\n",
       "    <tr>\n",
       "      <th>15</th>\n",
       "      <td>Last Notable Activity_Olark Chat Conversation</td>\n",
       "      <td>1.096724</td>\n",
       "    </tr>\n",
       "    <tr>\n",
       "      <th>16</th>\n",
       "      <td>Last Notable Activity_Unreachable</td>\n",
       "      <td>1.038209</td>\n",
       "    </tr>\n",
       "  </tbody>\n",
       "</table>\n",
       "</div>"
      ],
      "text/plain": [
       "                                          Feature        VIF\n",
       "0                                           const  25.866052\n",
       "1                                    Do Not Email   1.134102\n",
       "2                                     TotalVisits   2.366804\n",
       "3                     Total Time Spent on Website   1.242511\n",
       "4                            Page Views Per Visit   2.814928\n",
       "5             Lead Origin_Landing Page Submission   2.969180\n",
       "6                       Lead Origin_Lead Add Form   2.201671\n",
       "7                          Lead Source_Olark Chat   1.990431\n",
       "8                    Lead Source_Welingak Website   1.372450\n",
       "9                      Last Activity_Email Opened   2.285648\n",
       "10         Last Activity_Had a Phone Conversation   1.015703\n",
       "11                   Last Activity_Other Activity   1.006208\n",
       "12                         Last Activity_SMS Sent   2.158571\n",
       "13                          Specialization_Select   2.225930\n",
       "14                 Last Notable Activity_Modified   1.440119\n",
       "15  Last Notable Activity_Olark Chat Conversation   1.096724\n",
       "16              Last Notable Activity_Unreachable   1.038209"
      ]
     },
     "execution_count": 227,
     "metadata": {},
     "output_type": "execute_result"
    }
   ],
   "source": [
    "vif_data = pd.DataFrame()\n",
    "vif_data['Feature'] = X_train_sm.columns\n",
    "vif_data['VIF'] = [variance_inflation_factor(X_train_sm.values, i) for i in range(len(X_train_sm.columns))]\n",
    "vif_data"
   ]
  },
  {
   "cell_type": "code",
   "execution_count": 228,
   "id": "f1a50306",
   "metadata": {},
   "outputs": [],
   "source": [
    "X_train_sm.drop(['Last Notable Activity_Olark Chat Conversation'], axis=1, inplace=True)\n",
    "X_test_sm.drop(['Last Notable Activity_Olark Chat Conversation'], axis=1, inplace=True)"
   ]
  },
  {
   "cell_type": "code",
   "execution_count": 229,
   "id": "09ac56de",
   "metadata": {},
   "outputs": [
    {
     "data": {
      "text/html": [
       "<table class=\"simpletable\">\n",
       "<caption>Generalized Linear Model Regression Results</caption>\n",
       "<tr>\n",
       "  <th>Dep. Variable:</th>           <td>y</td>        <th>  No. Observations:  </th>  <td>  5350</td> \n",
       "</tr>\n",
       "<tr>\n",
       "  <th>Model:</th>                  <td>GLM</td>       <th>  Df Residuals:      </th>  <td>  5334</td> \n",
       "</tr>\n",
       "<tr>\n",
       "  <th>Model Family:</th>        <td>Binomial</td>     <th>  Df Model:          </th>  <td>    15</td> \n",
       "</tr>\n",
       "<tr>\n",
       "  <th>Link Function:</th>         <td>logit</td>      <th>  Scale:             </th> <td>  1.0000</td>\n",
       "</tr>\n",
       "<tr>\n",
       "  <th>Method:</th>                <td>IRLS</td>       <th>  Log-Likelihood:    </th> <td> -2491.1</td>\n",
       "</tr>\n",
       "<tr>\n",
       "  <th>Date:</th>            <td>Mon, 20 May 2024</td> <th>  Deviance:          </th> <td>  4982.2</td>\n",
       "</tr>\n",
       "<tr>\n",
       "  <th>Time:</th>                <td>11:42:30</td>     <th>  Pearson chi2:      </th> <td>5.53e+03</td>\n",
       "</tr>\n",
       "<tr>\n",
       "  <th>No. Iterations:</th>          <td>7</td>        <th>                     </th>     <td> </td>   \n",
       "</tr>\n",
       "<tr>\n",
       "  <th>Covariance Type:</th>     <td>nonrobust</td>    <th>                     </th>     <td> </td>   \n",
       "</tr>\n",
       "</table>\n",
       "<table class=\"simpletable\">\n",
       "<tr>\n",
       "                     <td></td>                       <th>coef</th>     <th>std err</th>      <th>z</th>      <th>P>|z|</th>  <th>[0.025</th>    <th>0.975]</th>  \n",
       "</tr>\n",
       "<tr>\n",
       "  <th>const</th>                                  <td>   -1.2390</td> <td>    0.179</td> <td>   -6.916</td> <td> 0.000</td> <td>   -1.590</td> <td>   -0.888</td>\n",
       "</tr>\n",
       "<tr>\n",
       "  <th>Do Not Email</th>                           <td>   -1.3247</td> <td>    0.177</td> <td>   -7.472</td> <td> 0.000</td> <td>   -1.672</td> <td>   -0.977</td>\n",
       "</tr>\n",
       "<tr>\n",
       "  <th>TotalVisits</th>                            <td>    1.1708</td> <td>    0.189</td> <td>    6.199</td> <td> 0.000</td> <td>    0.801</td> <td>    1.541</td>\n",
       "</tr>\n",
       "<tr>\n",
       "  <th>Total Time Spent on Website</th>            <td>    4.3924</td> <td>    0.167</td> <td>   26.229</td> <td> 0.000</td> <td>    4.064</td> <td>    4.721</td>\n",
       "</tr>\n",
       "<tr>\n",
       "  <th>Page Views Per Visit</th>                   <td>   -1.0262</td> <td>    0.197</td> <td>   -5.208</td> <td> 0.000</td> <td>   -1.412</td> <td>   -0.640</td>\n",
       "</tr>\n",
       "<tr>\n",
       "  <th>Lead Origin_Landing Page Submission</th>    <td>   -1.0975</td> <td>    0.127</td> <td>   -8.676</td> <td> 0.000</td> <td>   -1.345</td> <td>   -0.850</td>\n",
       "</tr>\n",
       "<tr>\n",
       "  <th>Lead Origin_Lead Add Form</th>              <td>    3.3797</td> <td>    0.257</td> <td>   13.171</td> <td> 0.000</td> <td>    2.877</td> <td>    3.883</td>\n",
       "</tr>\n",
       "<tr>\n",
       "  <th>Lead Source_Olark Chat</th>                 <td>    1.2477</td> <td>    0.151</td> <td>    8.273</td> <td> 0.000</td> <td>    0.952</td> <td>    1.543</td>\n",
       "</tr>\n",
       "<tr>\n",
       "  <th>Lead Source_Welingak Website</th>           <td>    1.9760</td> <td>    0.758</td> <td>    2.607</td> <td> 0.009</td> <td>    0.490</td> <td>    3.462</td>\n",
       "</tr>\n",
       "<tr>\n",
       "  <th>Last Activity_Email Opened</th>             <td>    0.5228</td> <td>    0.107</td> <td>    4.865</td> <td> 0.000</td> <td>    0.312</td> <td>    0.733</td>\n",
       "</tr>\n",
       "<tr>\n",
       "  <th>Last Activity_Had a Phone Conversation</th> <td>    2.5057</td> <td>    0.607</td> <td>    4.128</td> <td> 0.000</td> <td>    1.316</td> <td>    3.695</td>\n",
       "</tr>\n",
       "<tr>\n",
       "  <th>Last Activity_Other Activity</th>           <td>    2.1119</td> <td>    0.922</td> <td>    2.291</td> <td> 0.022</td> <td>    0.305</td> <td>    3.919</td>\n",
       "</tr>\n",
       "<tr>\n",
       "  <th>Last Activity_SMS Sent</th>                 <td>    1.6060</td> <td>    0.110</td> <td>   14.659</td> <td> 0.000</td> <td>    1.391</td> <td>    1.821</td>\n",
       "</tr>\n",
       "<tr>\n",
       "  <th>Specialization_Select</th>                  <td>   -1.1008</td> <td>    0.128</td> <td>   -8.621</td> <td> 0.000</td> <td>   -1.351</td> <td>   -0.851</td>\n",
       "</tr>\n",
       "<tr>\n",
       "  <th>Last Notable Activity_Modified</th>         <td>   -0.6794</td> <td>    0.089</td> <td>   -7.619</td> <td> 0.000</td> <td>   -0.854</td> <td>   -0.505</td>\n",
       "</tr>\n",
       "<tr>\n",
       "  <th>Last Notable Activity_Unreachable</th>      <td>    2.2705</td> <td>    0.530</td> <td>    4.284</td> <td> 0.000</td> <td>    1.232</td> <td>    3.309</td>\n",
       "</tr>\n",
       "</table>"
      ],
      "text/plain": [
       "<class 'statsmodels.iolib.summary.Summary'>\n",
       "\"\"\"\n",
       "                 Generalized Linear Model Regression Results                  \n",
       "==============================================================================\n",
       "Dep. Variable:                      y   No. Observations:                 5350\n",
       "Model:                            GLM   Df Residuals:                     5334\n",
       "Model Family:                Binomial   Df Model:                           15\n",
       "Link Function:                  logit   Scale:                          1.0000\n",
       "Method:                          IRLS   Log-Likelihood:                -2491.1\n",
       "Date:                Mon, 20 May 2024   Deviance:                       4982.2\n",
       "Time:                        11:42:30   Pearson chi2:                 5.53e+03\n",
       "No. Iterations:                     7                                         \n",
       "Covariance Type:            nonrobust                                         \n",
       "==========================================================================================================\n",
       "                                             coef    std err          z      P>|z|      [0.025      0.975]\n",
       "----------------------------------------------------------------------------------------------------------\n",
       "const                                     -1.2390      0.179     -6.916      0.000      -1.590      -0.888\n",
       "Do Not Email                              -1.3247      0.177     -7.472      0.000      -1.672      -0.977\n",
       "TotalVisits                                1.1708      0.189      6.199      0.000       0.801       1.541\n",
       "Total Time Spent on Website                4.3924      0.167     26.229      0.000       4.064       4.721\n",
       "Page Views Per Visit                      -1.0262      0.197     -5.208      0.000      -1.412      -0.640\n",
       "Lead Origin_Landing Page Submission       -1.0975      0.127     -8.676      0.000      -1.345      -0.850\n",
       "Lead Origin_Lead Add Form                  3.3797      0.257     13.171      0.000       2.877       3.883\n",
       "Lead Source_Olark Chat                     1.2477      0.151      8.273      0.000       0.952       1.543\n",
       "Lead Source_Welingak Website               1.9760      0.758      2.607      0.009       0.490       3.462\n",
       "Last Activity_Email Opened                 0.5228      0.107      4.865      0.000       0.312       0.733\n",
       "Last Activity_Had a Phone Conversation     2.5057      0.607      4.128      0.000       1.316       3.695\n",
       "Last Activity_Other Activity               2.1119      0.922      2.291      0.022       0.305       3.919\n",
       "Last Activity_SMS Sent                     1.6060      0.110     14.659      0.000       1.391       1.821\n",
       "Specialization_Select                     -1.1008      0.128     -8.621      0.000      -1.351      -0.851\n",
       "Last Notable Activity_Modified            -0.6794      0.089     -7.619      0.000      -0.854      -0.505\n",
       "Last Notable Activity_Unreachable          2.2705      0.530      4.284      0.000       1.232       3.309\n",
       "==========================================================================================================\n",
       "\"\"\""
      ]
     },
     "execution_count": 229,
     "metadata": {},
     "output_type": "execute_result"
    }
   ],
   "source": [
    "model6 = sm.GLM(np.array(y_train), X_train_sm, family=sm.families.Binomial())\n",
    "result6 = model6.fit()\n",
    "result6.summary()"
   ]
  },
  {
   "cell_type": "code",
   "execution_count": 230,
   "id": "055f8fb3",
   "metadata": {},
   "outputs": [
    {
     "data": {
      "text/html": [
       "<div>\n",
       "<style scoped>\n",
       "    .dataframe tbody tr th:only-of-type {\n",
       "        vertical-align: middle;\n",
       "    }\n",
       "\n",
       "    .dataframe tbody tr th {\n",
       "        vertical-align: top;\n",
       "    }\n",
       "\n",
       "    .dataframe thead th {\n",
       "        text-align: right;\n",
       "    }\n",
       "</style>\n",
       "<table border=\"1\" class=\"dataframe\">\n",
       "  <thead>\n",
       "    <tr style=\"text-align: right;\">\n",
       "      <th></th>\n",
       "      <th>Feature</th>\n",
       "      <th>VIF</th>\n",
       "    </tr>\n",
       "  </thead>\n",
       "  <tbody>\n",
       "    <tr>\n",
       "      <th>0</th>\n",
       "      <td>const</td>\n",
       "      <td>25.256191</td>\n",
       "    </tr>\n",
       "    <tr>\n",
       "      <th>1</th>\n",
       "      <td>Do Not Email</td>\n",
       "      <td>1.129487</td>\n",
       "    </tr>\n",
       "    <tr>\n",
       "      <th>2</th>\n",
       "      <td>TotalVisits</td>\n",
       "      <td>2.366658</td>\n",
       "    </tr>\n",
       "    <tr>\n",
       "      <th>3</th>\n",
       "      <td>Total Time Spent on Website</td>\n",
       "      <td>1.241765</td>\n",
       "    </tr>\n",
       "    <tr>\n",
       "      <th>4</th>\n",
       "      <td>Page Views Per Visit</td>\n",
       "      <td>2.814681</td>\n",
       "    </tr>\n",
       "    <tr>\n",
       "      <th>5</th>\n",
       "      <td>Lead Origin_Landing Page Submission</td>\n",
       "      <td>2.967833</td>\n",
       "    </tr>\n",
       "    <tr>\n",
       "      <th>6</th>\n",
       "      <td>Lead Origin_Lead Add Form</td>\n",
       "      <td>2.201352</td>\n",
       "    </tr>\n",
       "    <tr>\n",
       "      <th>7</th>\n",
       "      <td>Lead Source_Olark Chat</td>\n",
       "      <td>1.985003</td>\n",
       "    </tr>\n",
       "    <tr>\n",
       "      <th>8</th>\n",
       "      <td>Lead Source_Welingak Website</td>\n",
       "      <td>1.372219</td>\n",
       "    </tr>\n",
       "    <tr>\n",
       "      <th>9</th>\n",
       "      <td>Last Activity_Email Opened</td>\n",
       "      <td>2.149394</td>\n",
       "    </tr>\n",
       "    <tr>\n",
       "      <th>10</th>\n",
       "      <td>Last Activity_Had a Phone Conversation</td>\n",
       "      <td>1.014430</td>\n",
       "    </tr>\n",
       "    <tr>\n",
       "      <th>11</th>\n",
       "      <td>Last Activity_Other Activity</td>\n",
       "      <td>1.005693</td>\n",
       "    </tr>\n",
       "    <tr>\n",
       "      <th>12</th>\n",
       "      <td>Last Activity_SMS Sent</td>\n",
       "      <td>2.040269</td>\n",
       "    </tr>\n",
       "    <tr>\n",
       "      <th>13</th>\n",
       "      <td>Specialization_Select</td>\n",
       "      <td>2.224706</td>\n",
       "    </tr>\n",
       "    <tr>\n",
       "      <th>14</th>\n",
       "      <td>Last Notable Activity_Modified</td>\n",
       "      <td>1.383025</td>\n",
       "    </tr>\n",
       "    <tr>\n",
       "      <th>15</th>\n",
       "      <td>Last Notable Activity_Unreachable</td>\n",
       "      <td>1.034854</td>\n",
       "    </tr>\n",
       "  </tbody>\n",
       "</table>\n",
       "</div>"
      ],
      "text/plain": [
       "                                   Feature        VIF\n",
       "0                                    const  25.256191\n",
       "1                             Do Not Email   1.129487\n",
       "2                              TotalVisits   2.366658\n",
       "3              Total Time Spent on Website   1.241765\n",
       "4                     Page Views Per Visit   2.814681\n",
       "5      Lead Origin_Landing Page Submission   2.967833\n",
       "6                Lead Origin_Lead Add Form   2.201352\n",
       "7                   Lead Source_Olark Chat   1.985003\n",
       "8             Lead Source_Welingak Website   1.372219\n",
       "9               Last Activity_Email Opened   2.149394\n",
       "10  Last Activity_Had a Phone Conversation   1.014430\n",
       "11            Last Activity_Other Activity   1.005693\n",
       "12                  Last Activity_SMS Sent   2.040269\n",
       "13                   Specialization_Select   2.224706\n",
       "14          Last Notable Activity_Modified   1.383025\n",
       "15       Last Notable Activity_Unreachable   1.034854"
      ]
     },
     "execution_count": 230,
     "metadata": {},
     "output_type": "execute_result"
    }
   ],
   "source": [
    "vif_data = pd.DataFrame()\n",
    "vif_data['Feature'] = X_train_sm.columns\n",
    "vif_data['VIF'] = [variance_inflation_factor(X_train_sm.values, i) for i in range(len(X_train_sm.columns))]\n",
    "vif_data"
   ]
  },
  {
   "cell_type": "code",
   "execution_count": null,
   "id": "993d1cf3",
   "metadata": {},
   "outputs": [],
   "source": []
  },
  {
   "cell_type": "markdown",
   "id": "25f765d5",
   "metadata": {},
   "source": [
    "### Predicting the Variable"
   ]
  },
  {
   "cell_type": "code",
   "execution_count": 124,
   "id": "4fc39d23",
   "metadata": {},
   "outputs": [
    {
     "data": {
      "text/plain": [
       "Index(['const', 'Do Not Email', 'TotalVisits', 'Total Time Spent on Website',\n",
       "       'Page Views Per Visit', 'Lead Origin_Landing Page Submission',\n",
       "       'Lead Origin_Lead Add Form', 'Lead Source_Olark Chat',\n",
       "       'Lead Source_Welingak Website', 'Last Activity_Email Opened',\n",
       "       'Last Activity_Had a Phone Conversation',\n",
       "       'Last Activity_Other Activity', 'Last Activity_SMS Sent',\n",
       "       'Specialization_Select', 'Last Notable Activity_Email Link Clicked',\n",
       "       'Last Notable Activity_Modified',\n",
       "       'Last Notable Activity_Olark Chat Conversation',\n",
       "       'Last Notable Activity_Unreachable'],\n",
       "      dtype='object')"
      ]
     },
     "execution_count": 124,
     "metadata": {},
     "output_type": "execute_result"
    }
   ],
   "source": [
    "X_train_sm.columns"
   ]
  },
  {
   "cell_type": "code",
   "execution_count": 231,
   "id": "ac2cb9d9",
   "metadata": {},
   "outputs": [],
   "source": [
    "y_pred = result6.predict(X_train_sm)"
   ]
  },
  {
   "cell_type": "code",
   "execution_count": 232,
   "id": "5bd3207f",
   "metadata": {},
   "outputs": [],
   "source": [
    "y_train_pred = y_pred.values.reshape(-1)"
   ]
  },
  {
   "cell_type": "code",
   "execution_count": 233,
   "id": "0e4d5cf3",
   "metadata": {},
   "outputs": [
    {
     "data": {
      "text/plain": [
       "array([0.0553924 , 0.07858117, 0.11088061, 0.07588981, 0.79838639])"
      ]
     },
     "execution_count": 233,
     "metadata": {},
     "output_type": "execute_result"
    }
   ],
   "source": [
    "y_train_pred[:5]"
   ]
  },
  {
   "cell_type": "code",
   "execution_count": 279,
   "id": "e4176f44",
   "metadata": {},
   "outputs": [
    {
     "data": {
      "text/html": [
       "<div>\n",
       "<style scoped>\n",
       "    .dataframe tbody tr th:only-of-type {\n",
       "        vertical-align: middle;\n",
       "    }\n",
       "\n",
       "    .dataframe tbody tr th {\n",
       "        vertical-align: top;\n",
       "    }\n",
       "\n",
       "    .dataframe thead th {\n",
       "        text-align: right;\n",
       "    }\n",
       "</style>\n",
       "<table border=\"1\" class=\"dataframe\">\n",
       "  <thead>\n",
       "    <tr style=\"text-align: right;\">\n",
       "      <th></th>\n",
       "      <th>Converted</th>\n",
       "      <th>Converted_Prob</th>\n",
       "      <th>Prospect ID</th>\n",
       "    </tr>\n",
       "  </thead>\n",
       "  <tbody>\n",
       "    <tr>\n",
       "      <th>0</th>\n",
       "      <td>0</td>\n",
       "      <td>0.055392</td>\n",
       "      <td>9023</td>\n",
       "    </tr>\n",
       "    <tr>\n",
       "      <th>1</th>\n",
       "      <td>0</td>\n",
       "      <td>0.078581</td>\n",
       "      <td>32</td>\n",
       "    </tr>\n",
       "    <tr>\n",
       "      <th>2</th>\n",
       "      <td>0</td>\n",
       "      <td>0.110881</td>\n",
       "      <td>1095</td>\n",
       "    </tr>\n",
       "    <tr>\n",
       "      <th>3</th>\n",
       "      <td>0</td>\n",
       "      <td>0.075890</td>\n",
       "      <td>4082</td>\n",
       "    </tr>\n",
       "    <tr>\n",
       "      <th>4</th>\n",
       "      <td>0</td>\n",
       "      <td>0.798386</td>\n",
       "      <td>1248</td>\n",
       "    </tr>\n",
       "  </tbody>\n",
       "</table>\n",
       "</div>"
      ],
      "text/plain": [
       "   Converted  Converted_Prob  Prospect ID\n",
       "0          0        0.055392         9023\n",
       "1          0        0.078581           32\n",
       "2          0        0.110881         1095\n",
       "3          0        0.075890         4082\n",
       "4          0        0.798386         1248"
      ]
     },
     "execution_count": 279,
     "metadata": {},
     "output_type": "execute_result"
    }
   ],
   "source": [
    "y_train_pred_final = pd.DataFrame({'Converted': y_train.values, 'Converted_Prob': y_train_pred})\n",
    "y_train_pred_final['Prospect ID'] = y_train.index\n",
    "y_train_pred_final.head()"
   ]
  },
  {
   "cell_type": "markdown",
   "id": "17d2a52a",
   "metadata": {},
   "source": [
    "### Mapping the Probabilty to binary values"
   ]
  },
  {
   "cell_type": "code",
   "execution_count": 280,
   "id": "e1fcef41",
   "metadata": {},
   "outputs": [
    {
     "data": {
      "text/html": [
       "<div>\n",
       "<style scoped>\n",
       "    .dataframe tbody tr th:only-of-type {\n",
       "        vertical-align: middle;\n",
       "    }\n",
       "\n",
       "    .dataframe tbody tr th {\n",
       "        vertical-align: top;\n",
       "    }\n",
       "\n",
       "    .dataframe thead th {\n",
       "        text-align: right;\n",
       "    }\n",
       "</style>\n",
       "<table border=\"1\" class=\"dataframe\">\n",
       "  <thead>\n",
       "    <tr style=\"text-align: right;\">\n",
       "      <th></th>\n",
       "      <th>Converted</th>\n",
       "      <th>Converted_Prob</th>\n",
       "      <th>Prospect ID</th>\n",
       "      <th>Predicted</th>\n",
       "    </tr>\n",
       "  </thead>\n",
       "  <tbody>\n",
       "    <tr>\n",
       "      <th>0</th>\n",
       "      <td>0</td>\n",
       "      <td>0.055392</td>\n",
       "      <td>9023</td>\n",
       "      <td>0</td>\n",
       "    </tr>\n",
       "    <tr>\n",
       "      <th>1</th>\n",
       "      <td>0</td>\n",
       "      <td>0.078581</td>\n",
       "      <td>32</td>\n",
       "      <td>0</td>\n",
       "    </tr>\n",
       "    <tr>\n",
       "      <th>2</th>\n",
       "      <td>0</td>\n",
       "      <td>0.110881</td>\n",
       "      <td>1095</td>\n",
       "      <td>0</td>\n",
       "    </tr>\n",
       "    <tr>\n",
       "      <th>3</th>\n",
       "      <td>0</td>\n",
       "      <td>0.075890</td>\n",
       "      <td>4082</td>\n",
       "      <td>0</td>\n",
       "    </tr>\n",
       "    <tr>\n",
       "      <th>4</th>\n",
       "      <td>0</td>\n",
       "      <td>0.798386</td>\n",
       "      <td>1248</td>\n",
       "      <td>1</td>\n",
       "    </tr>\n",
       "  </tbody>\n",
       "</table>\n",
       "</div>"
      ],
      "text/plain": [
       "   Converted  Converted_Prob  Prospect ID  Predicted\n",
       "0          0        0.055392         9023          0\n",
       "1          0        0.078581           32          0\n",
       "2          0        0.110881         1095          0\n",
       "3          0        0.075890         4082          0\n",
       "4          0        0.798386         1248          1"
      ]
     },
     "execution_count": 280,
     "metadata": {},
     "output_type": "execute_result"
    }
   ],
   "source": [
    "y_train_pred_final['Predicted'] = y_train_pred_final.Converted_Prob.map(lambda x : 1 if x>0.5 else 0)\n",
    "\n",
    "y_train_pred_final.head()"
   ]
  },
  {
   "cell_type": "markdown",
   "id": "3710d776",
   "metadata": {},
   "source": [
    "## Confusion Matrix"
   ]
  },
  {
   "cell_type": "code",
   "execution_count": 282,
   "id": "1512db50",
   "metadata": {},
   "outputs": [
    {
     "data": {
      "text/plain": [
       "array([[2545,  461],\n",
       "       [ 687, 1657]], dtype=int64)"
      ]
     },
     "execution_count": 282,
     "metadata": {},
     "output_type": "execute_result"
    }
   ],
   "source": [
    "metrics.confusion_matrix(y_train_pred_final.Converted, y_train_pred_final.Predicted)"
   ]
  },
  {
   "cell_type": "markdown",
   "id": "c3a508c0",
   "metadata": {},
   "source": [
    "### Accuracy"
   ]
  },
  {
   "cell_type": "code",
   "execution_count": 283,
   "id": "78ba4506",
   "metadata": {},
   "outputs": [
    {
     "data": {
      "text/plain": [
       "0.7854205607476635"
      ]
     },
     "execution_count": 283,
     "metadata": {},
     "output_type": "execute_result"
    }
   ],
   "source": [
    "metrics.accuracy_score(y_train_pred_final.Converted, y_train_pred_final.Predicted)"
   ]
  },
  {
   "cell_type": "markdown",
   "id": "6fa0f1b8",
   "metadata": {},
   "source": [
    "### Recall"
   ]
  },
  {
   "cell_type": "code",
   "execution_count": 284,
   "id": "9c3a9347",
   "metadata": {},
   "outputs": [
    {
     "data": {
      "text/plain": [
       "0.7069112627986348"
      ]
     },
     "execution_count": 284,
     "metadata": {},
     "output_type": "execute_result"
    }
   ],
   "source": [
    "metrics.recall_score(y_train_pred_final.Converted, y_train_pred_final.Predicted)"
   ]
  },
  {
   "cell_type": "markdown",
   "id": "c26af5a6",
   "metadata": {},
   "source": [
    "### Precision"
   ]
  },
  {
   "cell_type": "code",
   "execution_count": 285,
   "id": "e46e2c32",
   "metadata": {},
   "outputs": [
    {
     "data": {
      "text/plain": [
       "0.7823418319169028"
      ]
     },
     "execution_count": 285,
     "metadata": {},
     "output_type": "execute_result"
    }
   ],
   "source": [
    "metrics.precision_score(y_train_pred_final.Converted, y_train_pred_final.Predicted)"
   ]
  },
  {
   "cell_type": "markdown",
   "id": "b7eccb63",
   "metadata": {},
   "source": [
    "### ROC - Curve"
   ]
  },
  {
   "cell_type": "code",
   "execution_count": 286,
   "id": "66bbfd28",
   "metadata": {},
   "outputs": [],
   "source": [
    "fpr, tpr, threshold = metrics.roc_curve(y_train_pred_final.Converted, y_train_pred_final.Converted_Prob, drop_intermediate=False)"
   ]
  },
  {
   "cell_type": "code",
   "execution_count": 287,
   "id": "987583a9",
   "metadata": {},
   "outputs": [],
   "source": [
    "def draw_roc( actual, probs ):\n",
    "    fpr, tpr, thresholds = metrics.roc_curve( actual, probs,\n",
    "                                              drop_intermediate = False )\n",
    "    auc_score = metrics.roc_auc_score( actual, probs )\n",
    "    plt.figure(figsize=(5, 5))\n",
    "    plt.plot( fpr, tpr, label='ROC curve (area = %0.2f)' % auc_score )\n",
    "    plt.plot([0, 1], [0, 1], 'k--')\n",
    "    plt.xlim([0.0, 1.0])\n",
    "    plt.ylim([0.0, 1.05])\n",
    "    plt.xlabel('False Positive Rate or [1 - True Negative Rate]')\n",
    "    plt.ylabel('True Positive Rate')\n",
    "    plt.title('Receiver operating characteristic example')\n",
    "    plt.legend(loc=\"lower right\")\n",
    "    plt.show()\n",
    "    \n",
    "    return None"
   ]
  },
  {
   "cell_type": "code",
   "execution_count": 288,
   "id": "3df90fef",
   "metadata": {},
   "outputs": [
    {
     "data": {
      "image/png": "[encoded data removed]",
      "text/plain": [
       "<Figure size 360x360 with 1 Axes>"
      ]
     },
     "metadata": {
      "needs_background": "light"
     },
     "output_type": "display_data"
    }
   ],
   "source": [
    "draw_roc(y_train_pred_final.Converted, y_train_pred_final.Converted_Prob)"
   ]
  },
  {
   "cell_type": "markdown",
   "id": "4dcaef71",
   "metadata": {},
   "source": [
    "### Finding Optimal Cutoff Point"
   ]
  },
  {
   "cell_type": "code",
   "execution_count": 289,
   "id": "75307c06",
   "metadata": {},
   "outputs": [
    {
     "data": {
      "text/html": [
       "<div>\n",
       "<style scoped>\n",
       "    .dataframe tbody tr th:only-of-type {\n",
       "        vertical-align: middle;\n",
       "    }\n",
       "\n",
       "    .dataframe tbody tr th {\n",
       "        vertical-align: top;\n",
       "    }\n",
       "\n",
       "    .dataframe thead th {\n",
       "        text-align: right;\n",
       "    }\n",
       "</style>\n",
       "<table border=\"1\" class=\"dataframe\">\n",
       "  <thead>\n",
       "    <tr style=\"text-align: right;\">\n",
       "      <th></th>\n",
       "      <th>Converted</th>\n",
       "      <th>Converted_Prob</th>\n",
       "      <th>Prospect ID</th>\n",
       "      <th>Predicted</th>\n",
       "      <th>Final_Predicted</th>\n",
       "      <th>0.0</th>\n",
       "      <th>0.1</th>\n",
       "      <th>0.2</th>\n",
       "      <th>0.3</th>\n",
       "      <th>0.4</th>\n",
       "      <th>0.5</th>\n",
       "      <th>0.6</th>\n",
       "      <th>0.7</th>\n",
       "      <th>0.8</th>\n",
       "      <th>0.9</th>\n",
       "    </tr>\n",
       "  </thead>\n",
       "  <tbody>\n",
       "    <tr>\n",
       "      <th>0</th>\n",
       "      <td>0</td>\n",
       "      <td>0.055392</td>\n",
       "      <td>9023</td>\n",
       "      <td>0</td>\n",
       "      <td>0</td>\n",
       "      <td>1</td>\n",
       "      <td>0</td>\n",
       "      <td>0</td>\n",
       "      <td>0</td>\n",
       "      <td>0</td>\n",
       "      <td>0</td>\n",
       "      <td>0</td>\n",
       "      <td>0</td>\n",
       "      <td>0</td>\n",
       "      <td>0</td>\n",
       "    </tr>\n",
       "    <tr>\n",
       "      <th>1</th>\n",
       "      <td>0</td>\n",
       "      <td>0.078581</td>\n",
       "      <td>32</td>\n",
       "      <td>0</td>\n",
       "      <td>0</td>\n",
       "      <td>1</td>\n",
       "      <td>0</td>\n",
       "      <td>0</td>\n",
       "      <td>0</td>\n",
       "      <td>0</td>\n",
       "      <td>0</td>\n",
       "      <td>0</td>\n",
       "      <td>0</td>\n",
       "      <td>0</td>\n",
       "      <td>0</td>\n",
       "    </tr>\n",
       "    <tr>\n",
       "      <th>2</th>\n",
       "      <td>0</td>\n",
       "      <td>0.110881</td>\n",
       "      <td>1095</td>\n",
       "      <td>0</td>\n",
       "      <td>0</td>\n",
       "      <td>1</td>\n",
       "      <td>1</td>\n",
       "      <td>0</td>\n",
       "      <td>0</td>\n",
       "      <td>0</td>\n",
       "      <td>0</td>\n",
       "      <td>0</td>\n",
       "      <td>0</td>\n",
       "      <td>0</td>\n",
       "      <td>0</td>\n",
       "    </tr>\n",
       "    <tr>\n",
       "      <th>3</th>\n",
       "      <td>0</td>\n",
       "      <td>0.075890</td>\n",
       "      <td>4082</td>\n",
       "      <td>0</td>\n",
       "      <td>0</td>\n",
       "      <td>1</td>\n",
       "      <td>0</td>\n",
       "      <td>0</td>\n",
       "      <td>0</td>\n",
       "      <td>0</td>\n",
       "      <td>0</td>\n",
       "      <td>0</td>\n",
       "      <td>0</td>\n",
       "      <td>0</td>\n",
       "      <td>0</td>\n",
       "    </tr>\n",
       "    <tr>\n",
       "      <th>4</th>\n",
       "      <td>0</td>\n",
       "      <td>0.798386</td>\n",
       "      <td>1248</td>\n",
       "      <td>1</td>\n",
       "      <td>1</td>\n",
       "      <td>1</td>\n",
       "      <td>1</td>\n",
       "      <td>1</td>\n",
       "      <td>1</td>\n",
       "      <td>1</td>\n",
       "      <td>1</td>\n",
       "      <td>1</td>\n",
       "      <td>1</td>\n",
       "      <td>0</td>\n",
       "      <td>0</td>\n",
       "    </tr>\n",
       "  </tbody>\n",
       "</table>\n",
       "</div>"
      ],
      "text/plain": [
       "   Converted  Converted_Prob  Prospect ID  Predicted  Final_Predicted  0.0  \\\n",
       "0          0        0.055392         9023          0                0    1   \n",
       "1          0        0.078581           32          0                0    1   \n",
       "2          0        0.110881         1095          0                0    1   \n",
       "3          0        0.075890         4082          0                0    1   \n",
       "4          0        0.798386         1248          1                1    1   \n",
       "\n",
       "   0.1  0.2  0.3  0.4  0.5  0.6  0.7  0.8  0.9  \n",
       "0    0    0    0    0    0    0    0    0    0  \n",
       "1    0    0    0    0    0    0    0    0    0  \n",
       "2    1    0    0    0    0    0    0    0    0  \n",
       "3    0    0    0    0    0    0    0    0    0  \n",
       "4    1    1    1    1    1    1    1    0    0  "
      ]
     },
     "execution_count": 289,
     "metadata": {},
     "output_type": "execute_result"
    }
   ],
   "source": [
    "numbers = [float(x)/10 for x in range(10)]\n",
    "for i in numbers:\n",
    "    y_train_pred_final[i] = y_train_pred_final.Converted_Prob.map(lambda x : 1 if x > i else 0)\n",
    "y_train_pred_final.head()"
   ]
  },
  {
   "cell_type": "code",
   "execution_count": 290,
   "id": "efcfc11e",
   "metadata": {},
   "outputs": [
    {
     "name": "stdout",
     "output_type": "stream",
     "text": [
      "     prob  accuracy     sensi     speci\n",
      "0.0   0.0  0.438131  1.000000  0.000000\n",
      "0.1   0.1  0.557196  0.977816  0.229208\n",
      "0.2   0.2  0.700561  0.936433  0.516633\n",
      "0.3   0.3  0.766542  0.889932  0.670326\n",
      "0.4   0.4  0.789907  0.791382  0.788756\n",
      "0.5   0.5  0.785421  0.706911  0.846640\n",
      "0.6   0.6  0.774953  0.633106  0.885562\n",
      "0.7   0.7  0.740561  0.505973  0.923486\n",
      "0.8   0.8  0.704860  0.380973  0.957418\n",
      "0.9   0.9  0.645794  0.213311  0.983034\n"
     ]
    }
   ],
   "source": [
    "cutoff_df = pd.DataFrame(columns=['prob','accuracy','sensi','speci'])\n",
    "\n",
    "num = [0.0,0.1,0.2,0.3,0.4,0.5,0.6,0.7,0.8,0.9]\n",
    "for i in num:\n",
    "    cm1 = metrics.confusion_matrix(y_train_pred_final.Converted, y_train_pred_final[i])\n",
    "    total1 = sum(sum(cm1))\n",
    "    accuracy = (cm1[0,0]+cm1[1,1])/total1\n",
    "    speci = cm1[0,0]/(cm1[0,0]+cm1[0,1])\n",
    "    sensi = cm1[1,1]/(cm1[1,0]+cm1[1,1])\n",
    "    cutoff_df.loc[i] = [i, accuracy, sensi, speci]\n",
    "print(cutoff_df)"
   ]
  },
  {
   "cell_type": "code",
   "execution_count": 291,
   "id": "df6eca46",
   "metadata": {},
   "outputs": [
    {
     "data": {
      "image/png": "[encoded data removed]",
      "text/plain": [
       "<Figure size 432x288 with 1 Axes>"
      ]
     },
     "metadata": {
      "needs_background": "light"
     },
     "output_type": "display_data"
    }
   ],
   "source": [
    "cutoff_df.plot.line(x='prob', y=['accuracy','sensi','speci'])\n",
    "plt.show()"
   ]
  },
  {
   "cell_type": "markdown",
   "id": "42b0d75e",
   "metadata": {},
   "source": [
    "### The optimal Cutoff point can be 0.4 from the above curve"
   ]
  },
  {
   "cell_type": "code",
   "execution_count": 292,
   "id": "4a5a95b6",
   "metadata": {},
   "outputs": [
    {
     "data": {
      "text/html": [
       "<div>\n",
       "<style scoped>\n",
       "    .dataframe tbody tr th:only-of-type {\n",
       "        vertical-align: middle;\n",
       "    }\n",
       "\n",
       "    .dataframe tbody tr th {\n",
       "        vertical-align: top;\n",
       "    }\n",
       "\n",
       "    .dataframe thead th {\n",
       "        text-align: right;\n",
       "    }\n",
       "</style>\n",
       "<table border=\"1\" class=\"dataframe\">\n",
       "  <thead>\n",
       "    <tr style=\"text-align: right;\">\n",
       "      <th></th>\n",
       "      <th>Converted</th>\n",
       "      <th>Converted_Prob</th>\n",
       "      <th>Prospect ID</th>\n",
       "      <th>Predicted</th>\n",
       "      <th>Final_Predicted</th>\n",
       "      <th>0.0</th>\n",
       "      <th>0.1</th>\n",
       "      <th>0.2</th>\n",
       "      <th>0.3</th>\n",
       "      <th>0.4</th>\n",
       "      <th>0.5</th>\n",
       "      <th>0.6</th>\n",
       "      <th>0.7</th>\n",
       "      <th>0.8</th>\n",
       "      <th>0.9</th>\n",
       "    </tr>\n",
       "  </thead>\n",
       "  <tbody>\n",
       "    <tr>\n",
       "      <th>0</th>\n",
       "      <td>0</td>\n",
       "      <td>0.055392</td>\n",
       "      <td>9023</td>\n",
       "      <td>0</td>\n",
       "      <td>0</td>\n",
       "      <td>1</td>\n",
       "      <td>0</td>\n",
       "      <td>0</td>\n",
       "      <td>0</td>\n",
       "      <td>0</td>\n",
       "      <td>0</td>\n",
       "      <td>0</td>\n",
       "      <td>0</td>\n",
       "      <td>0</td>\n",
       "      <td>0</td>\n",
       "    </tr>\n",
       "    <tr>\n",
       "      <th>1</th>\n",
       "      <td>0</td>\n",
       "      <td>0.078581</td>\n",
       "      <td>32</td>\n",
       "      <td>0</td>\n",
       "      <td>0</td>\n",
       "      <td>1</td>\n",
       "      <td>0</td>\n",
       "      <td>0</td>\n",
       "      <td>0</td>\n",
       "      <td>0</td>\n",
       "      <td>0</td>\n",
       "      <td>0</td>\n",
       "      <td>0</td>\n",
       "      <td>0</td>\n",
       "      <td>0</td>\n",
       "    </tr>\n",
       "    <tr>\n",
       "      <th>2</th>\n",
       "      <td>0</td>\n",
       "      <td>0.110881</td>\n",
       "      <td>1095</td>\n",
       "      <td>0</td>\n",
       "      <td>0</td>\n",
       "      <td>1</td>\n",
       "      <td>1</td>\n",
       "      <td>0</td>\n",
       "      <td>0</td>\n",
       "      <td>0</td>\n",
       "      <td>0</td>\n",
       "      <td>0</td>\n",
       "      <td>0</td>\n",
       "      <td>0</td>\n",
       "      <td>0</td>\n",
       "    </tr>\n",
       "    <tr>\n",
       "      <th>3</th>\n",
       "      <td>0</td>\n",
       "      <td>0.075890</td>\n",
       "      <td>4082</td>\n",
       "      <td>0</td>\n",
       "      <td>0</td>\n",
       "      <td>1</td>\n",
       "      <td>0</td>\n",
       "      <td>0</td>\n",
       "      <td>0</td>\n",
       "      <td>0</td>\n",
       "      <td>0</td>\n",
       "      <td>0</td>\n",
       "      <td>0</td>\n",
       "      <td>0</td>\n",
       "      <td>0</td>\n",
       "    </tr>\n",
       "    <tr>\n",
       "      <th>4</th>\n",
       "      <td>0</td>\n",
       "      <td>0.798386</td>\n",
       "      <td>1248</td>\n",
       "      <td>1</td>\n",
       "      <td>1</td>\n",
       "      <td>1</td>\n",
       "      <td>1</td>\n",
       "      <td>1</td>\n",
       "      <td>1</td>\n",
       "      <td>1</td>\n",
       "      <td>1</td>\n",
       "      <td>1</td>\n",
       "      <td>1</td>\n",
       "      <td>0</td>\n",
       "      <td>0</td>\n",
       "    </tr>\n",
       "  </tbody>\n",
       "</table>\n",
       "</div>"
      ],
      "text/plain": [
       "   Converted  Converted_Prob  Prospect ID  Predicted  Final_Predicted  0.0  \\\n",
       "0          0        0.055392         9023          0                0    1   \n",
       "1          0        0.078581           32          0                0    1   \n",
       "2          0        0.110881         1095          0                0    1   \n",
       "3          0        0.075890         4082          0                0    1   \n",
       "4          0        0.798386         1248          1                1    1   \n",
       "\n",
       "   0.1  0.2  0.3  0.4  0.5  0.6  0.7  0.8  0.9  \n",
       "0    0    0    0    0    0    0    0    0    0  \n",
       "1    0    0    0    0    0    0    0    0    0  \n",
       "2    1    0    0    0    0    0    0    0    0  \n",
       "3    0    0    0    0    0    0    0    0    0  \n",
       "4    1    1    1    1    1    1    1    0    0  "
      ]
     },
     "execution_count": 292,
     "metadata": {},
     "output_type": "execute_result"
    }
   ],
   "source": [
    "y_train_pred_final['Final_Predicted'] = y_train_pred_final.Converted_Prob.map(lambda x : 1 if x > 0.4 else 0)\n",
    "y_train_pred_final.head()"
   ]
  },
  {
   "cell_type": "markdown",
   "id": "8ef9de85",
   "metadata": {},
   "source": [
    "### Accuracy after Probabiltiy of 0.4"
   ]
  },
  {
   "cell_type": "code",
   "execution_count": 293,
   "id": "11eb188b",
   "metadata": {},
   "outputs": [
    {
     "data": {
      "text/plain": [
       "0.7899065420560748"
      ]
     },
     "execution_count": 293,
     "metadata": {},
     "output_type": "execute_result"
    }
   ],
   "source": [
    "metrics.accuracy_score(y_train_pred_final.Converted, y_train_pred_final.Final_Predicted)"
   ]
  },
  {
   "cell_type": "markdown",
   "id": "4516330f",
   "metadata": {},
   "source": [
    "### Recall after Probability of 0.4"
   ]
  },
  {
   "cell_type": "code",
   "execution_count": 294,
   "id": "41e0b081",
   "metadata": {},
   "outputs": [
    {
     "data": {
      "text/plain": [
       "0.7913822525597269"
      ]
     },
     "execution_count": 294,
     "metadata": {},
     "output_type": "execute_result"
    }
   ],
   "source": [
    "metrics.recall_score(y_train_pred_final.Converted, y_train_pred_final.Final_Predicted)"
   ]
  },
  {
   "cell_type": "markdown",
   "id": "edf03207",
   "metadata": {},
   "source": [
    "### Precision after Probability of 0.4"
   ]
  },
  {
   "cell_type": "code",
   "execution_count": 295,
   "id": "c72d9edf",
   "metadata": {},
   "outputs": [
    {
     "data": {
      "text/plain": [
       "0.7449799196787149"
      ]
     },
     "execution_count": 295,
     "metadata": {},
     "output_type": "execute_result"
    }
   ],
   "source": [
    "metrics.precision_score(y_train_pred_final.Converted, y_train_pred_final.Final_Predicted)"
   ]
  },
  {
   "cell_type": "markdown",
   "id": "5aa86c45",
   "metadata": {},
   "source": [
    "### Confusion_matrics after Probability of 0.4"
   ]
  },
  {
   "cell_type": "code",
   "execution_count": 296,
   "id": "6a434ad4",
   "metadata": {},
   "outputs": [
    {
     "data": {
      "text/plain": [
       "array([[2371,  635],\n",
       "       [ 489, 1855]], dtype=int64)"
      ]
     },
     "execution_count": 296,
     "metadata": {},
     "output_type": "execute_result"
    }
   ],
   "source": [
    "confusion = metrics.confusion_matrix(y_train_pred_final.Converted, y_train_pred_final.Final_Predicted)\n",
    "confusion"
   ]
  },
  {
   "cell_type": "code",
   "execution_count": 297,
   "id": "4f4444d6",
   "metadata": {},
   "outputs": [],
   "source": [
    "TP = confusion[1,1]\n",
    "TN = confusion[0,0]\n",
    "FP = confusion[0,1]\n",
    "FN = confusion[1,0]"
   ]
  },
  {
   "cell_type": "markdown",
   "id": "9095ef17",
   "metadata": {},
   "source": [
    "### Sensitivity"
   ]
  },
  {
   "cell_type": "code",
   "execution_count": 298,
   "id": "1fbdde7f",
   "metadata": {},
   "outputs": [
    {
     "data": {
      "text/plain": [
       "0.7913822525597269"
      ]
     },
     "execution_count": 298,
     "metadata": {},
     "output_type": "execute_result"
    }
   ],
   "source": [
    "TP/float(TP+FN)"
   ]
  },
  {
   "cell_type": "markdown",
   "id": "89f98926",
   "metadata": {},
   "source": [
    "### Specificity"
   ]
  },
  {
   "cell_type": "code",
   "execution_count": 299,
   "id": "767e317d",
   "metadata": {},
   "outputs": [
    {
     "data": {
      "text/plain": [
       "0.7887558216899534"
      ]
     },
     "execution_count": 299,
     "metadata": {},
     "output_type": "execute_result"
    }
   ],
   "source": [
    "TN/float(TN+FP)"
   ]
  },
  {
   "cell_type": "markdown",
   "id": "03b0e115",
   "metadata": {},
   "source": [
    "### Threshold"
   ]
  },
  {
   "cell_type": "code",
   "execution_count": 300,
   "id": "f6141a28",
   "metadata": {},
   "outputs": [],
   "source": [
    "p,r,threshold = precision_recall_curve(y_train_pred_final.Converted, y_train_pred_final.Converted_Prob)"
   ]
  },
  {
   "cell_type": "code",
   "execution_count": 301,
   "id": "a3d54504",
   "metadata": {},
   "outputs": [
    {
     "data": {
      "image/png": "[encoded data removed]",
      "text/plain": [
       "<Figure size 432x288 with 1 Axes>"
      ]
     },
     "metadata": {
      "needs_background": "light"
     },
     "output_type": "display_data"
    }
   ],
   "source": [
    "plt.plot(threshold, p[:-1], \"g-\")\n",
    "plt.plot(threshold, r[:-1], \"r-\")\n",
    "plt.show()"
   ]
  },
  {
   "cell_type": "markdown",
   "id": "c3318c6d",
   "metadata": {},
   "source": [
    "### Obtain the results of X_test data set to compare the results"
   ]
  },
  {
   "cell_type": "code",
   "execution_count": 302,
   "id": "a7bfa27d",
   "metadata": {},
   "outputs": [
    {
     "data": {
      "text/html": [
       "<div>\n",
       "<style scoped>\n",
       "    .dataframe tbody tr th:only-of-type {\n",
       "        vertical-align: middle;\n",
       "    }\n",
       "\n",
       "    .dataframe tbody tr th {\n",
       "        vertical-align: top;\n",
       "    }\n",
       "\n",
       "    .dataframe thead th {\n",
       "        text-align: right;\n",
       "    }\n",
       "</style>\n",
       "<table border=\"1\" class=\"dataframe\">\n",
       "  <thead>\n",
       "    <tr style=\"text-align: right;\">\n",
       "      <th></th>\n",
       "      <th>Do Not Email</th>\n",
       "      <th>TotalVisits</th>\n",
       "      <th>Total Time Spent on Website</th>\n",
       "      <th>Page Views Per Visit</th>\n",
       "      <th>Lead Origin_Landing Page Submission</th>\n",
       "      <th>Lead Origin_Lead Add Form</th>\n",
       "      <th>Lead Source_Olark Chat</th>\n",
       "      <th>Lead Source_Reference</th>\n",
       "      <th>Lead Source_Welingak Website</th>\n",
       "      <th>Last Activity_Email Opened</th>\n",
       "      <th>Last Activity_Had a Phone Conversation</th>\n",
       "      <th>Last Activity_Olark Chat Conversation</th>\n",
       "      <th>Last Activity_Other Activity</th>\n",
       "      <th>Last Activity_SMS Sent</th>\n",
       "      <th>Specialization_Select</th>\n",
       "      <th>Last Notable Activity_Email Link Clicked</th>\n",
       "      <th>Last Notable Activity_Email Opened</th>\n",
       "      <th>Last Notable Activity_Modified</th>\n",
       "      <th>Last Notable Activity_Olark Chat Conversation</th>\n",
       "      <th>Last Notable Activity_Unreachable</th>\n",
       "    </tr>\n",
       "  </thead>\n",
       "  <tbody>\n",
       "    <tr>\n",
       "      <th>0</th>\n",
       "      <td>0.0</td>\n",
       "      <td>0.2</td>\n",
       "      <td>0.170335</td>\n",
       "      <td>0.333333</td>\n",
       "      <td>1.0</td>\n",
       "      <td>0.0</td>\n",
       "      <td>0.0</td>\n",
       "      <td>0.0</td>\n",
       "      <td>0.0</td>\n",
       "      <td>1.0</td>\n",
       "      <td>0.0</td>\n",
       "      <td>0.0</td>\n",
       "      <td>0.0</td>\n",
       "      <td>0.0</td>\n",
       "      <td>0.0</td>\n",
       "      <td>0.0</td>\n",
       "      <td>0.0</td>\n",
       "      <td>1.0</td>\n",
       "      <td>0.0</td>\n",
       "      <td>0.0</td>\n",
       "    </tr>\n",
       "    <tr>\n",
       "      <th>1</th>\n",
       "      <td>0.0</td>\n",
       "      <td>0.3</td>\n",
       "      <td>0.197623</td>\n",
       "      <td>0.500000</td>\n",
       "      <td>1.0</td>\n",
       "      <td>0.0</td>\n",
       "      <td>0.0</td>\n",
       "      <td>0.0</td>\n",
       "      <td>0.0</td>\n",
       "      <td>0.0</td>\n",
       "      <td>0.0</td>\n",
       "      <td>0.0</td>\n",
       "      <td>0.0</td>\n",
       "      <td>1.0</td>\n",
       "      <td>0.0</td>\n",
       "      <td>0.0</td>\n",
       "      <td>0.0</td>\n",
       "      <td>0.0</td>\n",
       "      <td>0.0</td>\n",
       "      <td>0.0</td>\n",
       "    </tr>\n",
       "    <tr>\n",
       "      <th>2</th>\n",
       "      <td>0.0</td>\n",
       "      <td>0.2</td>\n",
       "      <td>0.102553</td>\n",
       "      <td>0.333333</td>\n",
       "      <td>1.0</td>\n",
       "      <td>0.0</td>\n",
       "      <td>0.0</td>\n",
       "      <td>0.0</td>\n",
       "      <td>0.0</td>\n",
       "      <td>0.0</td>\n",
       "      <td>0.0</td>\n",
       "      <td>0.0</td>\n",
       "      <td>0.0</td>\n",
       "      <td>1.0</td>\n",
       "      <td>0.0</td>\n",
       "      <td>0.0</td>\n",
       "      <td>0.0</td>\n",
       "      <td>0.0</td>\n",
       "      <td>0.0</td>\n",
       "      <td>0.0</td>\n",
       "    </tr>\n",
       "    <tr>\n",
       "      <th>3</th>\n",
       "      <td>0.0</td>\n",
       "      <td>0.4</td>\n",
       "      <td>0.724472</td>\n",
       "      <td>0.666667</td>\n",
       "      <td>1.0</td>\n",
       "      <td>0.0</td>\n",
       "      <td>0.0</td>\n",
       "      <td>0.0</td>\n",
       "      <td>0.0</td>\n",
       "      <td>0.0</td>\n",
       "      <td>0.0</td>\n",
       "      <td>0.0</td>\n",
       "      <td>0.0</td>\n",
       "      <td>1.0</td>\n",
       "      <td>0.0</td>\n",
       "      <td>0.0</td>\n",
       "      <td>0.0</td>\n",
       "      <td>0.0</td>\n",
       "      <td>0.0</td>\n",
       "      <td>0.0</td>\n",
       "    </tr>\n",
       "    <tr>\n",
       "      <th>4</th>\n",
       "      <td>0.0</td>\n",
       "      <td>1.0</td>\n",
       "      <td>0.842430</td>\n",
       "      <td>0.611667</td>\n",
       "      <td>1.0</td>\n",
       "      <td>0.0</td>\n",
       "      <td>0.0</td>\n",
       "      <td>0.0</td>\n",
       "      <td>0.0</td>\n",
       "      <td>0.0</td>\n",
       "      <td>0.0</td>\n",
       "      <td>0.0</td>\n",
       "      <td>0.0</td>\n",
       "      <td>1.0</td>\n",
       "      <td>0.0</td>\n",
       "      <td>0.0</td>\n",
       "      <td>0.0</td>\n",
       "      <td>0.0</td>\n",
       "      <td>0.0</td>\n",
       "      <td>0.0</td>\n",
       "    </tr>\n",
       "  </tbody>\n",
       "</table>\n",
       "</div>"
      ],
      "text/plain": [
       "   Do Not Email  TotalVisits  Total Time Spent on Website  \\\n",
       "0           0.0          0.2                     0.170335   \n",
       "1           0.0          0.3                     0.197623   \n",
       "2           0.0          0.2                     0.102553   \n",
       "3           0.0          0.4                     0.724472   \n",
       "4           0.0          1.0                     0.842430   \n",
       "\n",
       "   Page Views Per Visit  Lead Origin_Landing Page Submission  \\\n",
       "0              0.333333                                  1.0   \n",
       "1              0.500000                                  1.0   \n",
       "2              0.333333                                  1.0   \n",
       "3              0.666667                                  1.0   \n",
       "4              0.611667                                  1.0   \n",
       "\n",
       "   Lead Origin_Lead Add Form  Lead Source_Olark Chat  Lead Source_Reference  \\\n",
       "0                        0.0                     0.0                    0.0   \n",
       "1                        0.0                     0.0                    0.0   \n",
       "2                        0.0                     0.0                    0.0   \n",
       "3                        0.0                     0.0                    0.0   \n",
       "4                        0.0                     0.0                    0.0   \n",
       "\n",
       "   Lead Source_Welingak Website  Last Activity_Email Opened  \\\n",
       "0                           0.0                         1.0   \n",
       "1                           0.0                         0.0   \n",
       "2                           0.0                         0.0   \n",
       "3                           0.0                         0.0   \n",
       "4                           0.0                         0.0   \n",
       "\n",
       "   Last Activity_Had a Phone Conversation  \\\n",
       "0                                     0.0   \n",
       "1                                     0.0   \n",
       "2                                     0.0   \n",
       "3                                     0.0   \n",
       "4                                     0.0   \n",
       "\n",
       "   Last Activity_Olark Chat Conversation  Last Activity_Other Activity  \\\n",
       "0                                    0.0                           0.0   \n",
       "1                                    0.0                           0.0   \n",
       "2                                    0.0                           0.0   \n",
       "3                                    0.0                           0.0   \n",
       "4                                    0.0                           0.0   \n",
       "\n",
       "   Last Activity_SMS Sent  Specialization_Select  \\\n",
       "0                     0.0                    0.0   \n",
       "1                     1.0                    0.0   \n",
       "2                     1.0                    0.0   \n",
       "3                     1.0                    0.0   \n",
       "4                     1.0                    0.0   \n",
       "\n",
       "   Last Notable Activity_Email Link Clicked  \\\n",
       "0                                       0.0   \n",
       "1                                       0.0   \n",
       "2                                       0.0   \n",
       "3                                       0.0   \n",
       "4                                       0.0   \n",
       "\n",
       "   Last Notable Activity_Email Opened  Last Notable Activity_Modified  \\\n",
       "0                                 0.0                             1.0   \n",
       "1                                 0.0                             0.0   \n",
       "2                                 0.0                             0.0   \n",
       "3                                 0.0                             0.0   \n",
       "4                                 0.0                             0.0   \n",
       "\n",
       "   Last Notable Activity_Olark Chat Conversation  \\\n",
       "0                                            0.0   \n",
       "1                                            0.0   \n",
       "2                                            0.0   \n",
       "3                                            0.0   \n",
       "4                                            0.0   \n",
       "\n",
       "   Last Notable Activity_Unreachable  \n",
       "0                                0.0  \n",
       "1                                0.0  \n",
       "2                                0.0  \n",
       "3                                0.0  \n",
       "4                                0.0  "
      ]
     },
     "execution_count": 302,
     "metadata": {},
     "output_type": "execute_result"
    }
   ],
   "source": [
    "X_test.head()"
   ]
  },
  {
   "cell_type": "code",
   "execution_count": 303,
   "id": "905f6fc4",
   "metadata": {},
   "outputs": [
    {
     "data": {
      "text/html": [
       "<div>\n",
       "<style scoped>\n",
       "    .dataframe tbody tr th:only-of-type {\n",
       "        vertical-align: middle;\n",
       "    }\n",
       "\n",
       "    .dataframe tbody tr th {\n",
       "        vertical-align: top;\n",
       "    }\n",
       "\n",
       "    .dataframe thead th {\n",
       "        text-align: right;\n",
       "    }\n",
       "</style>\n",
       "<table border=\"1\" class=\"dataframe\">\n",
       "  <thead>\n",
       "    <tr style=\"text-align: right;\">\n",
       "      <th></th>\n",
       "      <th>Do Not Email</th>\n",
       "      <th>TotalVisits</th>\n",
       "      <th>Total Time Spent on Website</th>\n",
       "      <th>Page Views Per Visit</th>\n",
       "      <th>Lead Origin_Landing Page Submission</th>\n",
       "      <th>Lead Origin_Lead Add Form</th>\n",
       "      <th>Lead Source_Olark Chat</th>\n",
       "      <th>Lead Source_Reference</th>\n",
       "      <th>Lead Source_Welingak Website</th>\n",
       "      <th>Last Activity_Email Opened</th>\n",
       "      <th>Last Activity_Had a Phone Conversation</th>\n",
       "      <th>Last Activity_Olark Chat Conversation</th>\n",
       "      <th>Last Activity_Other Activity</th>\n",
       "      <th>Last Activity_SMS Sent</th>\n",
       "      <th>Specialization_Select</th>\n",
       "      <th>Last Notable Activity_Email Link Clicked</th>\n",
       "      <th>Last Notable Activity_Email Opened</th>\n",
       "      <th>Last Notable Activity_Modified</th>\n",
       "      <th>Last Notable Activity_Olark Chat Conversation</th>\n",
       "      <th>Last Notable Activity_Unreachable</th>\n",
       "    </tr>\n",
       "  </thead>\n",
       "  <tbody>\n",
       "    <tr>\n",
       "      <th>count</th>\n",
       "      <td>2293.000000</td>\n",
       "      <td>2293.000000</td>\n",
       "      <td>2293.000000</td>\n",
       "      <td>2293.000000</td>\n",
       "      <td>2293.000000</td>\n",
       "      <td>2293.000000</td>\n",
       "      <td>2293.000000</td>\n",
       "      <td>2293.000000</td>\n",
       "      <td>2293.000000</td>\n",
       "      <td>2293.000000</td>\n",
       "      <td>2293.000000</td>\n",
       "      <td>2293.000000</td>\n",
       "      <td>2293.000000</td>\n",
       "      <td>2293.000000</td>\n",
       "      <td>2293.000000</td>\n",
       "      <td>2293.000000</td>\n",
       "      <td>2293.000000</td>\n",
       "      <td>2293.000000</td>\n",
       "      <td>2293.000000</td>\n",
       "      <td>2293.000000</td>\n",
       "    </tr>\n",
       "    <tr>\n",
       "      <th>mean</th>\n",
       "      <td>0.075883</td>\n",
       "      <td>0.351330</td>\n",
       "      <td>0.235717</td>\n",
       "      <td>0.421497</td>\n",
       "      <td>0.631051</td>\n",
       "      <td>0.071522</td>\n",
       "      <td>0.117314</td>\n",
       "      <td>0.057567</td>\n",
       "      <td>0.012647</td>\n",
       "      <td>0.394243</td>\n",
       "      <td>0.002617</td>\n",
       "      <td>0.055386</td>\n",
       "      <td>0.002617</td>\n",
       "      <td>0.325774</td>\n",
       "      <td>0.245530</td>\n",
       "      <td>0.015700</td>\n",
       "      <td>0.324466</td>\n",
       "      <td>0.334932</td>\n",
       "      <td>0.009594</td>\n",
       "      <td>0.001308</td>\n",
       "    </tr>\n",
       "    <tr>\n",
       "      <th>std</th>\n",
       "      <td>0.264869</td>\n",
       "      <td>0.267974</td>\n",
       "      <td>0.244727</td>\n",
       "      <td>0.288417</td>\n",
       "      <td>0.482625</td>\n",
       "      <td>0.257751</td>\n",
       "      <td>0.321864</td>\n",
       "      <td>0.232973</td>\n",
       "      <td>0.111771</td>\n",
       "      <td>0.488794</td>\n",
       "      <td>0.051097</td>\n",
       "      <td>0.228782</td>\n",
       "      <td>0.051097</td>\n",
       "      <td>0.468766</td>\n",
       "      <td>0.430495</td>\n",
       "      <td>0.124339</td>\n",
       "      <td>0.468277</td>\n",
       "      <td>0.472070</td>\n",
       "      <td>0.097501</td>\n",
       "      <td>0.036155</td>\n",
       "    </tr>\n",
       "    <tr>\n",
       "      <th>min</th>\n",
       "      <td>0.000000</td>\n",
       "      <td>0.000000</td>\n",
       "      <td>0.000000</td>\n",
       "      <td>0.000000</td>\n",
       "      <td>0.000000</td>\n",
       "      <td>0.000000</td>\n",
       "      <td>0.000000</td>\n",
       "      <td>0.000000</td>\n",
       "      <td>0.000000</td>\n",
       "      <td>0.000000</td>\n",
       "      <td>0.000000</td>\n",
       "      <td>0.000000</td>\n",
       "      <td>0.000000</td>\n",
       "      <td>0.000000</td>\n",
       "      <td>0.000000</td>\n",
       "      <td>0.000000</td>\n",
       "      <td>0.000000</td>\n",
       "      <td>0.000000</td>\n",
       "      <td>0.000000</td>\n",
       "      <td>0.000000</td>\n",
       "    </tr>\n",
       "    <tr>\n",
       "      <th>25%</th>\n",
       "      <td>0.000000</td>\n",
       "      <td>0.200000</td>\n",
       "      <td>0.031250</td>\n",
       "      <td>0.250000</td>\n",
       "      <td>0.000000</td>\n",
       "      <td>0.000000</td>\n",
       "      <td>0.000000</td>\n",
       "      <td>0.000000</td>\n",
       "      <td>0.000000</td>\n",
       "      <td>0.000000</td>\n",
       "      <td>0.000000</td>\n",
       "      <td>0.000000</td>\n",
       "      <td>0.000000</td>\n",
       "      <td>0.000000</td>\n",
       "      <td>0.000000</td>\n",
       "      <td>0.000000</td>\n",
       "      <td>0.000000</td>\n",
       "      <td>0.000000</td>\n",
       "      <td>0.000000</td>\n",
       "      <td>0.000000</td>\n",
       "    </tr>\n",
       "    <tr>\n",
       "      <th>50%</th>\n",
       "      <td>0.000000</td>\n",
       "      <td>0.300000</td>\n",
       "      <td>0.131602</td>\n",
       "      <td>0.333333</td>\n",
       "      <td>1.000000</td>\n",
       "      <td>0.000000</td>\n",
       "      <td>0.000000</td>\n",
       "      <td>0.000000</td>\n",
       "      <td>0.000000</td>\n",
       "      <td>0.000000</td>\n",
       "      <td>0.000000</td>\n",
       "      <td>0.000000</td>\n",
       "      <td>0.000000</td>\n",
       "      <td>0.000000</td>\n",
       "      <td>0.000000</td>\n",
       "      <td>0.000000</td>\n",
       "      <td>0.000000</td>\n",
       "      <td>0.000000</td>\n",
       "      <td>0.000000</td>\n",
       "      <td>0.000000</td>\n",
       "    </tr>\n",
       "    <tr>\n",
       "      <th>75%</th>\n",
       "      <td>0.000000</td>\n",
       "      <td>0.500000</td>\n",
       "      <td>0.438820</td>\n",
       "      <td>0.666667</td>\n",
       "      <td>1.000000</td>\n",
       "      <td>0.000000</td>\n",
       "      <td>0.000000</td>\n",
       "      <td>0.000000</td>\n",
       "      <td>0.000000</td>\n",
       "      <td>1.000000</td>\n",
       "      <td>0.000000</td>\n",
       "      <td>0.000000</td>\n",
       "      <td>0.000000</td>\n",
       "      <td>1.000000</td>\n",
       "      <td>0.000000</td>\n",
       "      <td>0.000000</td>\n",
       "      <td>1.000000</td>\n",
       "      <td>1.000000</td>\n",
       "      <td>0.000000</td>\n",
       "      <td>0.000000</td>\n",
       "    </tr>\n",
       "    <tr>\n",
       "      <th>max</th>\n",
       "      <td>1.000000</td>\n",
       "      <td>1.000000</td>\n",
       "      <td>0.991637</td>\n",
       "      <td>1.000000</td>\n",
       "      <td>1.000000</td>\n",
       "      <td>1.000000</td>\n",
       "      <td>1.000000</td>\n",
       "      <td>1.000000</td>\n",
       "      <td>1.000000</td>\n",
       "      <td>1.000000</td>\n",
       "      <td>1.000000</td>\n",
       "      <td>1.000000</td>\n",
       "      <td>1.000000</td>\n",
       "      <td>1.000000</td>\n",
       "      <td>1.000000</td>\n",
       "      <td>1.000000</td>\n",
       "      <td>1.000000</td>\n",
       "      <td>1.000000</td>\n",
       "      <td>1.000000</td>\n",
       "      <td>1.000000</td>\n",
       "    </tr>\n",
       "  </tbody>\n",
       "</table>\n",
       "</div>"
      ],
      "text/plain": [
       "       Do Not Email  TotalVisits  Total Time Spent on Website  \\\n",
       "count   2293.000000  2293.000000                  2293.000000   \n",
       "mean       0.075883     0.351330                     0.235717   \n",
       "std        0.264869     0.267974                     0.244727   \n",
       "min        0.000000     0.000000                     0.000000   \n",
       "25%        0.000000     0.200000                     0.031250   \n",
       "50%        0.000000     0.300000                     0.131602   \n",
       "75%        0.000000     0.500000                     0.438820   \n",
       "max        1.000000     1.000000                     0.991637   \n",
       "\n",
       "       Page Views Per Visit  Lead Origin_Landing Page Submission  \\\n",
       "count           2293.000000                          2293.000000   \n",
       "mean               0.421497                             0.631051   \n",
       "std                0.288417                             0.482625   \n",
       "min                0.000000                             0.000000   \n",
       "25%                0.250000                             0.000000   \n",
       "50%                0.333333                             1.000000   \n",
       "75%                0.666667                             1.000000   \n",
       "max                1.000000                             1.000000   \n",
       "\n",
       "       Lead Origin_Lead Add Form  Lead Source_Olark Chat  \\\n",
       "count                2293.000000             2293.000000   \n",
       "mean                    0.071522                0.117314   \n",
       "std                     0.257751                0.321864   \n",
       "min                     0.000000                0.000000   \n",
       "25%                     0.000000                0.000000   \n",
       "50%                     0.000000                0.000000   \n",
       "75%                     0.000000                0.000000   \n",
       "max                     1.000000                1.000000   \n",
       "\n",
       "       Lead Source_Reference  Lead Source_Welingak Website  \\\n",
       "count            2293.000000                   2293.000000   \n",
       "mean                0.057567                      0.012647   \n",
       "std                 0.232973                      0.111771   \n",
       "min                 0.000000                      0.000000   \n",
       "25%                 0.000000                      0.000000   \n",
       "50%                 0.000000                      0.000000   \n",
       "75%                 0.000000                      0.000000   \n",
       "max                 1.000000                      1.000000   \n",
       "\n",
       "       Last Activity_Email Opened  Last Activity_Had a Phone Conversation  \\\n",
       "count                 2293.000000                             2293.000000   \n",
       "mean                     0.394243                                0.002617   \n",
       "std                      0.488794                                0.051097   \n",
       "min                      0.000000                                0.000000   \n",
       "25%                      0.000000                                0.000000   \n",
       "50%                      0.000000                                0.000000   \n",
       "75%                      1.000000                                0.000000   \n",
       "max                      1.000000                                1.000000   \n",
       "\n",
       "       Last Activity_Olark Chat Conversation  Last Activity_Other Activity  \\\n",
       "count                            2293.000000                   2293.000000   \n",
       "mean                                0.055386                      0.002617   \n",
       "std                                 0.228782                      0.051097   \n",
       "min                                 0.000000                      0.000000   \n",
       "25%                                 0.000000                      0.000000   \n",
       "50%                                 0.000000                      0.000000   \n",
       "75%                                 0.000000                      0.000000   \n",
       "max                                 1.000000                      1.000000   \n",
       "\n",
       "       Last Activity_SMS Sent  Specialization_Select  \\\n",
       "count             2293.000000            2293.000000   \n",
       "mean                 0.325774               0.245530   \n",
       "std                  0.468766               0.430495   \n",
       "min                  0.000000               0.000000   \n",
       "25%                  0.000000               0.000000   \n",
       "50%                  0.000000               0.000000   \n",
       "75%                  1.000000               0.000000   \n",
       "max                  1.000000               1.000000   \n",
       "\n",
       "       Last Notable Activity_Email Link Clicked  \\\n",
       "count                               2293.000000   \n",
       "mean                                   0.015700   \n",
       "std                                    0.124339   \n",
       "min                                    0.000000   \n",
       "25%                                    0.000000   \n",
       "50%                                    0.000000   \n",
       "75%                                    0.000000   \n",
       "max                                    1.000000   \n",
       "\n",
       "       Last Notable Activity_Email Opened  Last Notable Activity_Modified  \\\n",
       "count                         2293.000000                     2293.000000   \n",
       "mean                             0.324466                        0.334932   \n",
       "std                              0.468277                        0.472070   \n",
       "min                              0.000000                        0.000000   \n",
       "25%                              0.000000                        0.000000   \n",
       "50%                              0.000000                        0.000000   \n",
       "75%                              1.000000                        1.000000   \n",
       "max                              1.000000                        1.000000   \n",
       "\n",
       "       Last Notable Activity_Olark Chat Conversation  \\\n",
       "count                                    2293.000000   \n",
       "mean                                        0.009594   \n",
       "std                                         0.097501   \n",
       "min                                         0.000000   \n",
       "25%                                         0.000000   \n",
       "50%                                         0.000000   \n",
       "75%                                         0.000000   \n",
       "max                                         1.000000   \n",
       "\n",
       "       Last Notable Activity_Unreachable  \n",
       "count                        2293.000000  \n",
       "mean                            0.001308  \n",
       "std                             0.036155  \n",
       "min                             0.000000  \n",
       "25%                             0.000000  \n",
       "50%                             0.000000  \n",
       "75%                             0.000000  \n",
       "max                             1.000000  "
      ]
     },
     "execution_count": 303,
     "metadata": {},
     "output_type": "execute_result"
    }
   ],
   "source": [
    "X_test.describe()"
   ]
  },
  {
   "cell_type": "code",
   "execution_count": 304,
   "id": "cd6aae01",
   "metadata": {},
   "outputs": [
    {
     "data": {
      "text/html": [
       "<div>\n",
       "<style scoped>\n",
       "    .dataframe tbody tr th:only-of-type {\n",
       "        vertical-align: middle;\n",
       "    }\n",
       "\n",
       "    .dataframe tbody tr th {\n",
       "        vertical-align: top;\n",
       "    }\n",
       "\n",
       "    .dataframe thead th {\n",
       "        text-align: right;\n",
       "    }\n",
       "</style>\n",
       "<table border=\"1\" class=\"dataframe\">\n",
       "  <thead>\n",
       "    <tr style=\"text-align: right;\">\n",
       "      <th></th>\n",
       "      <th>const</th>\n",
       "      <th>Do Not Email</th>\n",
       "      <th>TotalVisits</th>\n",
       "      <th>Total Time Spent on Website</th>\n",
       "      <th>Page Views Per Visit</th>\n",
       "      <th>Lead Origin_Landing Page Submission</th>\n",
       "      <th>Lead Origin_Lead Add Form</th>\n",
       "      <th>Lead Source_Olark Chat</th>\n",
       "      <th>Lead Source_Welingak Website</th>\n",
       "      <th>Last Activity_Email Opened</th>\n",
       "      <th>Last Activity_Had a Phone Conversation</th>\n",
       "      <th>Last Activity_Other Activity</th>\n",
       "      <th>Last Activity_SMS Sent</th>\n",
       "      <th>Specialization_Select</th>\n",
       "      <th>Last Notable Activity_Modified</th>\n",
       "      <th>Last Notable Activity_Unreachable</th>\n",
       "    </tr>\n",
       "  </thead>\n",
       "  <tbody>\n",
       "    <tr>\n",
       "      <th>0</th>\n",
       "      <td>1.0</td>\n",
       "      <td>0.0</td>\n",
       "      <td>0.2</td>\n",
       "      <td>0.170335</td>\n",
       "      <td>0.333333</td>\n",
       "      <td>1.0</td>\n",
       "      <td>0.0</td>\n",
       "      <td>0.0</td>\n",
       "      <td>0.0</td>\n",
       "      <td>1.0</td>\n",
       "      <td>0.0</td>\n",
       "      <td>0.0</td>\n",
       "      <td>0.0</td>\n",
       "      <td>0.0</td>\n",
       "      <td>1.0</td>\n",
       "      <td>0.0</td>\n",
       "    </tr>\n",
       "    <tr>\n",
       "      <th>1</th>\n",
       "      <td>1.0</td>\n",
       "      <td>0.0</td>\n",
       "      <td>0.3</td>\n",
       "      <td>0.197623</td>\n",
       "      <td>0.500000</td>\n",
       "      <td>1.0</td>\n",
       "      <td>0.0</td>\n",
       "      <td>0.0</td>\n",
       "      <td>0.0</td>\n",
       "      <td>0.0</td>\n",
       "      <td>0.0</td>\n",
       "      <td>0.0</td>\n",
       "      <td>1.0</td>\n",
       "      <td>0.0</td>\n",
       "      <td>0.0</td>\n",
       "      <td>0.0</td>\n",
       "    </tr>\n",
       "    <tr>\n",
       "      <th>2</th>\n",
       "      <td>1.0</td>\n",
       "      <td>0.0</td>\n",
       "      <td>0.2</td>\n",
       "      <td>0.102553</td>\n",
       "      <td>0.333333</td>\n",
       "      <td>1.0</td>\n",
       "      <td>0.0</td>\n",
       "      <td>0.0</td>\n",
       "      <td>0.0</td>\n",
       "      <td>0.0</td>\n",
       "      <td>0.0</td>\n",
       "      <td>0.0</td>\n",
       "      <td>1.0</td>\n",
       "      <td>0.0</td>\n",
       "      <td>0.0</td>\n",
       "      <td>0.0</td>\n",
       "    </tr>\n",
       "    <tr>\n",
       "      <th>3</th>\n",
       "      <td>1.0</td>\n",
       "      <td>0.0</td>\n",
       "      <td>0.4</td>\n",
       "      <td>0.724472</td>\n",
       "      <td>0.666667</td>\n",
       "      <td>1.0</td>\n",
       "      <td>0.0</td>\n",
       "      <td>0.0</td>\n",
       "      <td>0.0</td>\n",
       "      <td>0.0</td>\n",
       "      <td>0.0</td>\n",
       "      <td>0.0</td>\n",
       "      <td>1.0</td>\n",
       "      <td>0.0</td>\n",
       "      <td>0.0</td>\n",
       "      <td>0.0</td>\n",
       "    </tr>\n",
       "    <tr>\n",
       "      <th>4</th>\n",
       "      <td>1.0</td>\n",
       "      <td>0.0</td>\n",
       "      <td>1.0</td>\n",
       "      <td>0.842430</td>\n",
       "      <td>0.611667</td>\n",
       "      <td>1.0</td>\n",
       "      <td>0.0</td>\n",
       "      <td>0.0</td>\n",
       "      <td>0.0</td>\n",
       "      <td>0.0</td>\n",
       "      <td>0.0</td>\n",
       "      <td>0.0</td>\n",
       "      <td>1.0</td>\n",
       "      <td>0.0</td>\n",
       "      <td>0.0</td>\n",
       "      <td>0.0</td>\n",
       "    </tr>\n",
       "  </tbody>\n",
       "</table>\n",
       "</div>"
      ],
      "text/plain": [
       "   const  Do Not Email  TotalVisits  Total Time Spent on Website  \\\n",
       "0    1.0           0.0          0.2                     0.170335   \n",
       "1    1.0           0.0          0.3                     0.197623   \n",
       "2    1.0           0.0          0.2                     0.102553   \n",
       "3    1.0           0.0          0.4                     0.724472   \n",
       "4    1.0           0.0          1.0                     0.842430   \n",
       "\n",
       "   Page Views Per Visit  Lead Origin_Landing Page Submission  \\\n",
       "0              0.333333                                  1.0   \n",
       "1              0.500000                                  1.0   \n",
       "2              0.333333                                  1.0   \n",
       "3              0.666667                                  1.0   \n",
       "4              0.611667                                  1.0   \n",
       "\n",
       "   Lead Origin_Lead Add Form  Lead Source_Olark Chat  \\\n",
       "0                        0.0                     0.0   \n",
       "1                        0.0                     0.0   \n",
       "2                        0.0                     0.0   \n",
       "3                        0.0                     0.0   \n",
       "4                        0.0                     0.0   \n",
       "\n",
       "   Lead Source_Welingak Website  Last Activity_Email Opened  \\\n",
       "0                           0.0                         1.0   \n",
       "1                           0.0                         0.0   \n",
       "2                           0.0                         0.0   \n",
       "3                           0.0                         0.0   \n",
       "4                           0.0                         0.0   \n",
       "\n",
       "   Last Activity_Had a Phone Conversation  Last Activity_Other Activity  \\\n",
       "0                                     0.0                           0.0   \n",
       "1                                     0.0                           0.0   \n",
       "2                                     0.0                           0.0   \n",
       "3                                     0.0                           0.0   \n",
       "4                                     0.0                           0.0   \n",
       "\n",
       "   Last Activity_SMS Sent  Specialization_Select  \\\n",
       "0                     0.0                    0.0   \n",
       "1                     1.0                    0.0   \n",
       "2                     1.0                    0.0   \n",
       "3                     1.0                    0.0   \n",
       "4                     1.0                    0.0   \n",
       "\n",
       "   Last Notable Activity_Modified  Last Notable Activity_Unreachable  \n",
       "0                             1.0                                0.0  \n",
       "1                             0.0                                0.0  \n",
       "2                             0.0                                0.0  \n",
       "3                             0.0                                0.0  \n",
       "4                             0.0                                0.0  "
      ]
     },
     "execution_count": 304,
     "metadata": {},
     "output_type": "execute_result"
    }
   ],
   "source": [
    "X_test_sm.head()"
   ]
  },
  {
   "cell_type": "code",
   "execution_count": 305,
   "id": "120bf608",
   "metadata": {},
   "outputs": [],
   "source": [
    "y_test_pred = result6.predict(X_test_sm)"
   ]
  },
  {
   "cell_type": "code",
   "execution_count": 306,
   "id": "07341db3",
   "metadata": {},
   "outputs": [
    {
     "data": {
      "text/plain": [
       "array([0.13554635, 0.49390922, 0.40419778, 0.90341866, 0.9710514 ])"
      ]
     },
     "execution_count": 306,
     "metadata": {},
     "output_type": "execute_result"
    }
   ],
   "source": [
    "y_test_pred = y_test_pred.values.reshape(-1)\n",
    "y_test_pred[:5]"
   ]
  },
  {
   "cell_type": "code",
   "execution_count": 309,
   "id": "48cc2e6c",
   "metadata": {},
   "outputs": [
    {
     "data": {
      "text/html": [
       "<div>\n",
       "<style scoped>\n",
       "    .dataframe tbody tr th:only-of-type {\n",
       "        vertical-align: middle;\n",
       "    }\n",
       "\n",
       "    .dataframe tbody tr th {\n",
       "        vertical-align: top;\n",
       "    }\n",
       "\n",
       "    .dataframe thead th {\n",
       "        text-align: right;\n",
       "    }\n",
       "</style>\n",
       "<table border=\"1\" class=\"dataframe\">\n",
       "  <thead>\n",
       "    <tr style=\"text-align: right;\">\n",
       "      <th></th>\n",
       "      <th>Converted</th>\n",
       "      <th>Converted_Prob</th>\n",
       "      <th>Prospect ID</th>\n",
       "    </tr>\n",
       "  </thead>\n",
       "  <tbody>\n",
       "    <tr>\n",
       "      <th>0</th>\n",
       "      <td>0</td>\n",
       "      <td>0.135546</td>\n",
       "      <td>3879</td>\n",
       "    </tr>\n",
       "    <tr>\n",
       "      <th>1</th>\n",
       "      <td>1</td>\n",
       "      <td>0.493909</td>\n",
       "      <td>4168</td>\n",
       "    </tr>\n",
       "    <tr>\n",
       "      <th>2</th>\n",
       "      <td>0</td>\n",
       "      <td>0.404198</td>\n",
       "      <td>7510</td>\n",
       "    </tr>\n",
       "    <tr>\n",
       "      <th>3</th>\n",
       "      <td>1</td>\n",
       "      <td>0.903419</td>\n",
       "      <td>2935</td>\n",
       "    </tr>\n",
       "    <tr>\n",
       "      <th>4</th>\n",
       "      <td>1</td>\n",
       "      <td>0.971051</td>\n",
       "      <td>7245</td>\n",
       "    </tr>\n",
       "  </tbody>\n",
       "</table>\n",
       "</div>"
      ],
      "text/plain": [
       "   Converted  Converted_Prob  Prospect ID\n",
       "0          0        0.135546         3879\n",
       "1          1        0.493909         4168\n",
       "2          0        0.404198         7510\n",
       "3          1        0.903419         2935\n",
       "4          1        0.971051         7245"
      ]
     },
     "execution_count": 309,
     "metadata": {},
     "output_type": "execute_result"
    }
   ],
   "source": [
    "y_test_pred_final = pd.DataFrame({'Converted': y_test.values, 'Converted_Prob': y_test_pred})\n",
    "y_test_pred_final['Prospect ID'] = y_test.index\n",
    "y_test_pred_final.head()"
   ]
  },
  {
   "cell_type": "code",
   "execution_count": 310,
   "id": "7dd37251",
   "metadata": {},
   "outputs": [
    {
     "data": {
      "text/html": [
       "<div>\n",
       "<style scoped>\n",
       "    .dataframe tbody tr th:only-of-type {\n",
       "        vertical-align: middle;\n",
       "    }\n",
       "\n",
       "    .dataframe tbody tr th {\n",
       "        vertical-align: top;\n",
       "    }\n",
       "\n",
       "    .dataframe thead th {\n",
       "        text-align: right;\n",
       "    }\n",
       "</style>\n",
       "<table border=\"1\" class=\"dataframe\">\n",
       "  <thead>\n",
       "    <tr style=\"text-align: right;\">\n",
       "      <th></th>\n",
       "      <th>Converted</th>\n",
       "      <th>Converted_Prob</th>\n",
       "      <th>Prospect ID</th>\n",
       "      <th>Final_Predicted</th>\n",
       "    </tr>\n",
       "  </thead>\n",
       "  <tbody>\n",
       "    <tr>\n",
       "      <th>0</th>\n",
       "      <td>0</td>\n",
       "      <td>0.135546</td>\n",
       "      <td>3879</td>\n",
       "      <td>0</td>\n",
       "    </tr>\n",
       "    <tr>\n",
       "      <th>1</th>\n",
       "      <td>1</td>\n",
       "      <td>0.493909</td>\n",
       "      <td>4168</td>\n",
       "      <td>1</td>\n",
       "    </tr>\n",
       "    <tr>\n",
       "      <th>2</th>\n",
       "      <td>0</td>\n",
       "      <td>0.404198</td>\n",
       "      <td>7510</td>\n",
       "      <td>1</td>\n",
       "    </tr>\n",
       "    <tr>\n",
       "      <th>3</th>\n",
       "      <td>1</td>\n",
       "      <td>0.903419</td>\n",
       "      <td>2935</td>\n",
       "      <td>1</td>\n",
       "    </tr>\n",
       "    <tr>\n",
       "      <th>4</th>\n",
       "      <td>1</td>\n",
       "      <td>0.971051</td>\n",
       "      <td>7245</td>\n",
       "      <td>1</td>\n",
       "    </tr>\n",
       "  </tbody>\n",
       "</table>\n",
       "</div>"
      ],
      "text/plain": [
       "   Converted  Converted_Prob  Prospect ID  Final_Predicted\n",
       "0          0        0.135546         3879                0\n",
       "1          1        0.493909         4168                1\n",
       "2          0        0.404198         7510                1\n",
       "3          1        0.903419         2935                1\n",
       "4          1        0.971051         7245                1"
      ]
     },
     "execution_count": 310,
     "metadata": {},
     "output_type": "execute_result"
    }
   ],
   "source": [
    "y_test_pred_final['Final_Predicted'] = y_test_pred_final.Converted_Prob.map(lambda x : 1 if x>0.4 else 0)\n",
    "y_test_pred_final.head()"
   ]
  },
  {
   "cell_type": "markdown",
   "id": "ef4ab282",
   "metadata": {},
   "source": [
    "### Accuracy of test data set for 0.4 probability"
   ]
  },
  {
   "cell_type": "code",
   "execution_count": 311,
   "id": "c026eab7",
   "metadata": {},
   "outputs": [
    {
     "data": {
      "text/plain": [
       "0.7775839511556912"
      ]
     },
     "execution_count": 311,
     "metadata": {},
     "output_type": "execute_result"
    }
   ],
   "source": [
    "metrics.accuracy_score(y_test_pred_final.Converted, y_test_pred_final.Final_Predicted)"
   ]
  },
  {
   "cell_type": "markdown",
   "id": "de3b87c1",
   "metadata": {},
   "source": [
    "### Recall of test data set for 0.4 probability"
   ]
  },
  {
   "cell_type": "code",
   "execution_count": 312,
   "id": "6ea89c4b",
   "metadata": {},
   "outputs": [
    {
     "data": {
      "text/plain": [
       "0.7819148936170213"
      ]
     },
     "execution_count": 312,
     "metadata": {},
     "output_type": "execute_result"
    }
   ],
   "source": [
    "metrics.recall_score(y_test_pred_final.Converted, y_test_pred_final.Final_Predicted)"
   ]
  },
  {
   "cell_type": "markdown",
   "id": "1ed326c5",
   "metadata": {},
   "source": [
    "### Precision of test data set for 0.4 probability"
   ]
  },
  {
   "cell_type": "code",
   "execution_count": 313,
   "id": "6989b12d",
   "metadata": {},
   "outputs": [
    {
     "data": {
      "text/plain": [
       "0.7067307692307693"
      ]
     },
     "execution_count": 313,
     "metadata": {},
     "output_type": "execute_result"
    }
   ],
   "source": [
    "metrics.precision_score(y_test_pred_final.Converted, y_test_pred_final.Final_Predicted)"
   ]
  },
  {
   "cell_type": "markdown",
   "id": "3ba3f4ce",
   "metadata": {},
   "source": [
    "### Assigning the Lead Score to Testing Data"
   ]
  },
  {
   "cell_type": "code",
   "execution_count": 328,
   "id": "80d701a4",
   "metadata": {},
   "outputs": [
    {
     "data": {
      "text/html": [
       "<div>\n",
       "<style scoped>\n",
       "    .dataframe tbody tr th:only-of-type {\n",
       "        vertical-align: middle;\n",
       "    }\n",
       "\n",
       "    .dataframe tbody tr th {\n",
       "        vertical-align: top;\n",
       "    }\n",
       "\n",
       "    .dataframe thead th {\n",
       "        text-align: right;\n",
       "    }\n",
       "</style>\n",
       "<table border=\"1\" class=\"dataframe\">\n",
       "  <thead>\n",
       "    <tr style=\"text-align: right;\">\n",
       "      <th></th>\n",
       "      <th>Converted</th>\n",
       "      <th>Converted_Prob</th>\n",
       "      <th>Prospect ID</th>\n",
       "      <th>Final_Predicted</th>\n",
       "      <th>Lead Score</th>\n",
       "    </tr>\n",
       "  </thead>\n",
       "  <tbody>\n",
       "    <tr>\n",
       "      <th>0</th>\n",
       "      <td>0</td>\n",
       "      <td>0.135546</td>\n",
       "      <td>3879</td>\n",
       "      <td>0</td>\n",
       "      <td>14</td>\n",
       "    </tr>\n",
       "    <tr>\n",
       "      <th>1</th>\n",
       "      <td>1</td>\n",
       "      <td>0.493909</td>\n",
       "      <td>4168</td>\n",
       "      <td>1</td>\n",
       "      <td>49</td>\n",
       "    </tr>\n",
       "    <tr>\n",
       "      <th>2</th>\n",
       "      <td>0</td>\n",
       "      <td>0.404198</td>\n",
       "      <td>7510</td>\n",
       "      <td>1</td>\n",
       "      <td>40</td>\n",
       "    </tr>\n",
       "    <tr>\n",
       "      <th>3</th>\n",
       "      <td>1</td>\n",
       "      <td>0.903419</td>\n",
       "      <td>2935</td>\n",
       "      <td>1</td>\n",
       "      <td>90</td>\n",
       "    </tr>\n",
       "    <tr>\n",
       "      <th>4</th>\n",
       "      <td>1</td>\n",
       "      <td>0.971051</td>\n",
       "      <td>7245</td>\n",
       "      <td>1</td>\n",
       "      <td>97</td>\n",
       "    </tr>\n",
       "  </tbody>\n",
       "</table>\n",
       "</div>"
      ],
      "text/plain": [
       "   Converted  Converted_Prob  Prospect ID  Final_Predicted  Lead Score\n",
       "0          0        0.135546         3879                0          14\n",
       "1          1        0.493909         4168                1          49\n",
       "2          0        0.404198         7510                1          40\n",
       "3          1        0.903419         2935                1          90\n",
       "4          1        0.971051         7245                1          97"
      ]
     },
     "execution_count": 328,
     "metadata": {},
     "output_type": "execute_result"
    }
   ],
   "source": [
    "y_test_pred_final['Lead Score'] = y_test_pred_final.Converted_Prob.map(lambda x  : round(x*100))\n",
    "\n",
    "y_test_pred_final.head()"
   ]
  },
  {
   "cell_type": "code",
   "execution_count": 329,
   "id": "685944d3",
   "metadata": {},
   "outputs": [
    {
     "data": {
      "text/plain": [
       "(2293, 5)"
      ]
     },
     "execution_count": 329,
     "metadata": {},
     "output_type": "execute_result"
    }
   ],
   "source": [
    "y_test_pred_final.shape"
   ]
  },
  {
   "cell_type": "code",
   "execution_count": 315,
   "id": "d5163e45",
   "metadata": {},
   "outputs": [
    {
     "data": {
      "text/plain": [
       "array([[1048,  305],\n",
       "       [ 205,  735]], dtype=int64)"
      ]
     },
     "execution_count": 315,
     "metadata": {},
     "output_type": "execute_result"
    }
   ],
   "source": [
    "confusion1 = metrics.confusion_matrix(y_test_pred_final.Converted, y_test_pred_final.Final_Predicted)\n",
    "confusion1"
   ]
  },
  {
   "cell_type": "code",
   "execution_count": 316,
   "id": "26a01f3e",
   "metadata": {},
   "outputs": [],
   "source": [
    "TP = confusion1[1,1] # true positive\n",
    "TN = confusion1[0,0] # true negative\n",
    "FP = confusion1[0,1] # false positive\n",
    "FN = confusion1[1,0] # false negative"
   ]
  },
  {
   "cell_type": "markdown",
   "id": "14dfe8bd",
   "metadata": {},
   "source": [
    "### Sensitivity"
   ]
  },
  {
   "cell_type": "code",
   "execution_count": 317,
   "id": "6385df53",
   "metadata": {},
   "outputs": [
    {
     "data": {
      "text/plain": [
       "0.7819148936170213"
      ]
     },
     "execution_count": 317,
     "metadata": {},
     "output_type": "execute_result"
    }
   ],
   "source": [
    "TP / float(TP+FN)"
   ]
  },
  {
   "cell_type": "markdown",
   "id": "6c9641d5",
   "metadata": {},
   "source": [
    "### Specificity"
   ]
  },
  {
   "cell_type": "code",
   "execution_count": 318,
   "id": "36b5c792",
   "metadata": {},
   "outputs": [
    {
     "data": {
      "text/plain": [
       "0.7745750184774575"
      ]
     },
     "execution_count": 318,
     "metadata": {},
     "output_type": "execute_result"
    }
   ],
   "source": [
    "TN / float(TN+FP)"
   ]
  },
  {
   "cell_type": "markdown",
   "id": "2c4b8287",
   "metadata": {},
   "source": [
    "### Result Obtain on Train and Test Data\n",
    "\n",
    "#### Train Data\n",
    "\n",
    "    * Accuracy = 78.99\n",
    "    * Recall(True Positive Rate) = 79.14\n",
    "    * Precision(Positive Predictive Value) = 74.50\n",
    "    * Sensitivity(True Positive Rate) = 79.14\n",
    "    * Specificity(True Negative Rate) = 78.87\n",
    "\n",
    "#### Test Data\n",
    "    \n",
    "    * Accuracy = 77.76\n",
    "    * Recall(True Positive Rate) = 78.19\n",
    "    * Precision(Positive Predictive Value) = 70.67\n",
    "    * Sensitivity(True Positive Rate) = 78.19\n",
    "    * Specificity(True Negative Rate) = 77.45"
   ]
  },
  {
   "cell_type": "markdown",
   "id": "ef53e9af",
   "metadata": {},
   "source": [
    "### Obtainin the Hot Leads"
   ]
  },
  {
   "cell_type": "code",
   "execution_count": 319,
   "id": "49d85452",
   "metadata": {},
   "outputs": [
    {
     "data": {
      "text/html": [
       "<div>\n",
       "<style scoped>\n",
       "    .dataframe tbody tr th:only-of-type {\n",
       "        vertical-align: middle;\n",
       "    }\n",
       "\n",
       "    .dataframe tbody tr th {\n",
       "        vertical-align: top;\n",
       "    }\n",
       "\n",
       "    .dataframe thead th {\n",
       "        text-align: right;\n",
       "    }\n",
       "</style>\n",
       "<table border=\"1\" class=\"dataframe\">\n",
       "  <thead>\n",
       "    <tr style=\"text-align: right;\">\n",
       "      <th></th>\n",
       "      <th>Converted</th>\n",
       "      <th>Converted_Prob</th>\n",
       "      <th>Prospect ID</th>\n",
       "      <th>Final_Predicted</th>\n",
       "      <th>Lead Score</th>\n",
       "    </tr>\n",
       "  </thead>\n",
       "  <tbody>\n",
       "    <tr>\n",
       "      <th>3</th>\n",
       "      <td>1</td>\n",
       "      <td>0.903419</td>\n",
       "      <td>2935</td>\n",
       "      <td>1</td>\n",
       "      <td>90</td>\n",
       "    </tr>\n",
       "    <tr>\n",
       "      <th>4</th>\n",
       "      <td>1</td>\n",
       "      <td>0.971051</td>\n",
       "      <td>7245</td>\n",
       "      <td>1</td>\n",
       "      <td>97</td>\n",
       "    </tr>\n",
       "    <tr>\n",
       "      <th>14</th>\n",
       "      <td>1</td>\n",
       "      <td>0.934839</td>\n",
       "      <td>4330</td>\n",
       "      <td>1</td>\n",
       "      <td>93</td>\n",
       "    </tr>\n",
       "    <tr>\n",
       "      <th>17</th>\n",
       "      <td>1</td>\n",
       "      <td>0.875008</td>\n",
       "      <td>8977</td>\n",
       "      <td>1</td>\n",
       "      <td>88</td>\n",
       "    </tr>\n",
       "    <tr>\n",
       "      <th>19</th>\n",
       "      <td>1</td>\n",
       "      <td>0.889400</td>\n",
       "      <td>3265</td>\n",
       "      <td>1</td>\n",
       "      <td>89</td>\n",
       "    </tr>\n",
       "    <tr>\n",
       "      <th>...</th>\n",
       "      <td>...</td>\n",
       "      <td>...</td>\n",
       "      <td>...</td>\n",
       "      <td>...</td>\n",
       "      <td>...</td>\n",
       "    </tr>\n",
       "    <tr>\n",
       "      <th>2238</th>\n",
       "      <td>1</td>\n",
       "      <td>0.967947</td>\n",
       "      <td>2497</td>\n",
       "      <td>1</td>\n",
       "      <td>97</td>\n",
       "    </tr>\n",
       "    <tr>\n",
       "      <th>2254</th>\n",
       "      <td>1</td>\n",
       "      <td>0.928516</td>\n",
       "      <td>3085</td>\n",
       "      <td>1</td>\n",
       "      <td>93</td>\n",
       "    </tr>\n",
       "    <tr>\n",
       "      <th>2261</th>\n",
       "      <td>1</td>\n",
       "      <td>0.983538</td>\n",
       "      <td>8043</td>\n",
       "      <td>1</td>\n",
       "      <td>98</td>\n",
       "    </tr>\n",
       "    <tr>\n",
       "      <th>2273</th>\n",
       "      <td>1</td>\n",
       "      <td>0.976947</td>\n",
       "      <td>4050</td>\n",
       "      <td>1</td>\n",
       "      <td>98</td>\n",
       "    </tr>\n",
       "    <tr>\n",
       "      <th>2283</th>\n",
       "      <td>1</td>\n",
       "      <td>0.976947</td>\n",
       "      <td>5197</td>\n",
       "      <td>1</td>\n",
       "      <td>98</td>\n",
       "    </tr>\n",
       "  </tbody>\n",
       "</table>\n",
       "<p>336 rows × 5 columns</p>\n",
       "</div>"
      ],
      "text/plain": [
       "      Converted  Converted_Prob  Prospect ID  Final_Predicted  Lead Score\n",
       "3             1        0.903419         2935                1          90\n",
       "4             1        0.971051         7245                1          97\n",
       "14            1        0.934839         4330                1          93\n",
       "17            1        0.875008         8977                1          88\n",
       "19            1        0.889400         3265                1          89\n",
       "...         ...             ...          ...              ...         ...\n",
       "2238          1        0.967947         2497                1          97\n",
       "2254          1        0.928516         3085                1          93\n",
       "2261          1        0.983538         8043                1          98\n",
       "2273          1        0.976947         4050                1          98\n",
       "2283          1        0.976947         5197                1          98\n",
       "\n",
       "[336 rows x 5 columns]"
      ]
     },
     "execution_count": 319,
     "metadata": {},
     "output_type": "execute_result"
    }
   ],
   "source": [
    "hot_lead = y_test_pred_final.loc[y_test_pred_final['Lead Score']>=85]\n",
    "hot_lead"
   ]
  },
  {
   "cell_type": "code",
   "execution_count": 322,
   "id": "6bbe3af3",
   "metadata": {},
   "outputs": [],
   "source": [
    "hot_lead_ids = hot_lead['Prospect ID'].values"
   ]
  },
  {
   "cell_type": "markdown",
   "id": "ec167f8e",
   "metadata": {},
   "source": [
    "### Customer to be Contacted as per the Hot Leads"
   ]
  },
  {
   "cell_type": "code",
   "execution_count": 321,
   "id": "b0269c43",
   "metadata": {},
   "outputs": [
    {
     "data": {
      "text/plain": [
       "array([2935, 7245, 4330, 8977, 3265, 7096,  374, 2154, 3069, 4971, 1423,\n",
       "       1068, 8325, 2271, 4803, 5210, 2907, 8786,   91, 5692, 5346, 8204,\n",
       "       3535, 7805,  936, 5819, 4531,  556, 1979, 8888, 8073, 7265, 4505,\n",
       "       7240, 6736, 4213, 3287, 4057, 8123, 3152, 1046, 6989, 5700, 1682,\n",
       "       8190, 6125, 6723, 3182, 6636, 2055, 8112, 7356, 3384, 7696, 5525,\n",
       "       3532, 5000, 5785, 7991, 7674,  178, 4488, 2812, 1565, 5509, 5697,\n",
       "       8541, 2575, 6705,  746, 4947, 2163, 7008, 5815,  874, 7682, 2014,\n",
       "       1116,   12, 7259, 6094,  560, 7040, 4481, 3671, 6015, 8641, 4407,\n",
       "        449, 4371, 3496, 5455, 5817, 7733,  137,  807, 7641, 5292, 4498,\n",
       "       2659, 2337, 2153, 2196, 4359, 1332, 6421, 2664, 2653, 1747, 4826,\n",
       "       2960,  775, 4374, 6193, 5979, 1663, 5804,  819, 1783, 2009, 7683,\n",
       "       4461, 4212, 2343, 1710, 4830, 4610, 3113, 6458, 4771, 4773, 4766,\n",
       "       3758, 8429, 1051, 1009, 4634, 1614, 9108, 6567, 3522, 4717, 6450,\n",
       "       3917, 3321, 7211, 8174, 2341, 4569, 5448, 6939, 6422, 8075, 4856,\n",
       "        337, 9063, 1568, 7993, 4061, 2524, 8089, 2475, 5027, 5019, 2650,\n",
       "       8993, 3575, 7082, 6608, 3727, 6330, 2598, 2631, 3839, 5591, 2734,\n",
       "       8411, 5824, 5159,  260, 5698, 5790, 7496, 1550, 2870,  922, 1928,\n",
       "       5524, 1577, 5474, 6879, 2763, 1991, 1200, 8309, 1965, 3248, 7098,\n",
       "       2559, 8483, 5087, 7219, 7756, 3500, 6994, 1675, 8581, 7187, 1563,\n",
       "       6092, 6438, 8199, 1961, 8194, 1572, 9221, 4705, 4403, 4732, 6152,\n",
       "       7304, 7486, 4949, 3155, 4940, 5439, 7445, 7105,  243, 4561, 7094,\n",
       "       6933,  112, 5364, 5610, 2762, 3652, 7093, 6550, 7043, 3330, 7547,\n",
       "       1753, 8062, 2490, 5266, 8068, 1500, 5051, 7167, 8293, 8556, 5042,\n",
       "       8108, 8959, 2158, 6866, 6461, 5389, 4799,  220, 5795, 2584, 4003,\n",
       "       9235, 4675, 2765, 3414, 8052, 6647, 4223, 1290, 8749, 5258,  941,\n",
       "       4445, 2534, 1557, 4230, 2673, 4776, 5641, 3736, 4865, 6727, 2655,\n",
       "       3425, 2686,  161, 3482, 2161, 8451, 7701, 2856,  846, 1578, 2995,\n",
       "       2356, 5414, 2121,  318, 3286,  839, 5061, 4375, 2662, 8745, 7699,\n",
       "       3770, 8100, 4589, 2614, 4560, 8412, 5757, 6884, 3810, 5479,  802,\n",
       "       8213, 4123, 2392, 1542, 7977, 4438, 6685, 5664, 5390, 2982, 5741,\n",
       "       2713, 2497, 3085, 8043, 4050, 5197], dtype=int64)"
      ]
     },
     "execution_count": 321,
     "metadata": {},
     "output_type": "execute_result"
    }
   ],
   "source": [
    "hot_lead_ids"
   ]
  },
  {
   "cell_type": "markdown",
   "id": "8113f97e",
   "metadata": {},
   "source": [
    "### Finiding out the Important Features"
   ]
  },
  {
   "cell_type": "code",
   "execution_count": 325,
   "id": "222ebec2",
   "metadata": {},
   "outputs": [
    {
     "data": {
      "text/plain": [
       "Total Time Spent on Website               4.392359\n",
       "Lead Origin_Lead Add Form                 3.379660\n",
       "Last Activity_Had a Phone Conversation    2.505693\n",
       "Last Notable Activity_Unreachable         2.270459\n",
       "Last Activity_Other Activity              2.111941\n",
       "Lead Source_Welingak Website              1.975983\n",
       "Last Activity_SMS Sent                    1.605957\n",
       "Lead Source_Olark Chat                    1.247731\n",
       "TotalVisits                               1.170842\n",
       "Last Activity_Email Opened                0.522848\n",
       "Last Notable Activity_Modified           -0.679392\n",
       "Page Views Per Visit                     -1.026165\n",
       "Lead Origin_Landing Page Submission      -1.097524\n",
       "Specialization_Select                    -1.100788\n",
       "const                                    -1.239000\n",
       "Do Not Email                             -1.324706\n",
       "dtype: float64"
      ]
     },
     "execution_count": 325,
     "metadata": {},
     "output_type": "execute_result"
    }
   ],
   "source": [
    "result6.params.sort_values(ascending=False)"
   ]
  },
  {
   "cell_type": "code",
   "execution_count": null,
   "id": "b084ac98",
   "metadata": {},
   "outputs": [],
   "source": []
  }
 ],
 "metadata": {
  "kernelspec": {
   "display_name": "Python 3 (ipykernel)",
   "language": "python",
   "name": "python3"
  },
  "language_info": {
   "codemirror_mode": {
    "name": "ipython",
    "version": 3
   },
   "file_extension": ".py",
   "mimetype": "text/x-python",
   "name": "python",
   "nbconvert_exporter": "python",
   "pygments_lexer": "ipython3",
   "version": "3.9.7"
  }
 },
 "nbformat": 4,
 "nbformat_minor": 5
}
